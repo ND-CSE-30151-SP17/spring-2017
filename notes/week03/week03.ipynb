{
 "cells": [
  {
   "cell_type": "markdown",
   "metadata": {},
   "source": [
    "# Week 3: 2017/01/30-02/03"
   ]
  },
  {
   "cell_type": "code",
   "execution_count": 1,
   "metadata": {
    "collapsed": false
   },
   "outputs": [],
   "source": [
    "from tock import *"
   ]
  },
  {
   "cell_type": "markdown",
   "metadata": {},
   "source": [
    "# Monday reading\n",
    "\n",
    "Read Section 1.3, but you can save Lemma 1.60 and its proof for next time."
   ]
  },
  {
   "cell_type": "markdown",
   "metadata": {},
   "source": [
    "# Tuesday class\n",
    "\n",
    "## Regular expressions\n",
    "\n",
    "Regular expressions were invented by Stephen Kleene (pronounced clay-knee) back in the 1950s as a characterization of the languages recognized by the earliest neural networks. But they became widely used through various Unix tools, like `grep`, which is where you have likely encountered them.\n",
    "\n",
    "![Regex Golf](http://imgs.xkcd.com/comics/regex_golf.png)\n",
    "\n",
    "There are some differences between Unix regular expressions and true regular expressions. True regular expressions have three operations: concatenation, union ($\\cup$ in the book, `|` in Unix), and Kleene star (`*`). The order of operations is star, then union, then concatenation. Use parentheses to change the order of operations, just as in arithmetic expressions.\n",
    "\n",
    "Unix regular expressions use a dot (`.`) to match any symbol; the book uses $\\Sigma$ for this purpose.\n",
    "\n",
    "Another difference is that Unix regular expressions usually match anywhere in a string, whereas true regular expressions usually must match the entire string. When using `grep`, use the `-Ex` flags to approximate true regular expressions (`-E` to get the union operator, `-x` to match the whole line)."
   ]
  },
  {
   "cell_type": "code",
   "execution_count": 2,
   "metadata": {
    "collapsed": false
   },
   "outputs": [
    {
     "name": "stdout",
     "output_type": "stream",
     "text": [
      "Overwriting movies.txt\n"
     ]
    }
   ],
   "source": [
    "%%file movies.txt\n",
    "the phantom menace\n",
    "attack of the clones\n",
    "revenge of the sith\n",
    "a new hope\n",
    "the empire strikes back\n",
    "return of the jedi\n",
    "the force awakens\n",
    "rogue one\n",
    "the last jedi\n",
    "the motion picture\n",
    "the wrath of khan\n",
    "the search for spock\n",
    "the voyage home\n",
    "the final frontier\n",
    "the undiscovered country\n",
    "generations\n",
    "first contact\n",
    "insurrection\n",
    "nemesis\n",
    "into darkness\n",
    "beyond"
   ]
  },
  {
   "cell_type": "code",
   "execution_count": 3,
   "metadata": {
    "collapsed": false
   },
   "outputs": [
    {
     "name": "stdout",
     "output_type": "stream",
     "text": [
      "the phantom menace\r\n",
      "attack of the clones\r\n",
      "revenge of the sith\r\n",
      "a new hope\r\n",
      "the empire strikes back\r\n",
      "return of the jedi\r\n",
      "beyond\r\n"
     ]
    }
   ],
   "source": [
    "!grep -Ex '.*(m | (t|n)|b).*' movies.txt"
   ]
  },
  {
   "cell_type": "markdown",
   "metadata": {
    "collapsed": true
   },
   "source": [
    "Almost right.\n",
    "\n",
    "**Question.** Can you fix the regular expression so that it also accepts `the force awakens`, `rogue one`, and `the last jedi`, but not `beyond`?"
   ]
  },
  {
   "cell_type": "markdown",
   "metadata": {},
   "source": [
    "## Converting regular expressions to NFAs\n",
    "\n",
    "Regular expressions are the third \"model of computation\" of this course, and they, too, are equivalent to both DFAs and NFAs. The proof involves algorithms to convert between regular expressions and NFAs. Today we're converting regular expressions to NFAs, which is, I think, not as difficult as the subset construction from last time.\n",
    "\n",
    "The algorithm in the book is a slight variation on the algorithm from a paper by Ken Thompson, one of the co-developers of Unix, [for the QED editor](https://swtch.com/~rsc/regexp/regexp1.html), from which are descended `sed`, `grep`, and `vi`. (But many modern regular expression engines actually do not use this algorithm, but one that is asymptotically much slower!)\n",
    "\n",
    "Here's a step by step visualization of the example from the book. You can try different regular expressions to see how they get converted. (Note that in Tock, unlike in Unix tools, symbols in regular expressions are separated by spaces.)"
   ]
  },
  {
   "cell_type": "code",
   "execution_count": 4,
   "metadata": {
    "collapsed": false
   },
   "outputs": [
    {
     "data": {
      "text/html": [
       "subexpression: a"
      ],
      "text/plain": [
       "<IPython.core.display.HTML object>"
      ]
     },
     "metadata": {},
     "output_type": "display_data"
    },
    {
     "data": {
      "image/svg+xml": [
       "<svg height=\"35pt\" viewBox=\"0.00 0.00 141.00 35.00\" width=\"141pt\" xmlns=\"http://www.w3.org/2000/svg\" xmlns:xlink=\"http://www.w3.org/1999/xlink\">\n",
       "<g class=\"graph\" id=\"graph0\" transform=\"scale(1 1) rotate(0) translate(4 31)\">\n",
       "<title>%3</title>\n",
       "<polygon fill=\"#ffffff\" points=\"-4,4 -4,-31 137.0039,-31 137.0039,4 -4,4\" stroke=\"transparent\"/>\n",
       "<!-- _START -->\n",
       "<g class=\"node\" id=\"node1\">\n",
       "<title>_START</title>\n",
       "</g>\n",
       "<!-- 0 -->\n",
       "<g class=\"node\" id=\"node2\">\n",
       "<title>0</title>\n",
       "<path d=\"M52.6696,-20C52.6696,-20 43.3324,-20 43.3324,-20 40.6657,-20 37.999,-17.3333 37.999,-14.6667 37.999,-14.6667 37.999,-9.3333 37.999,-9.3333 37.999,-6.6667 40.6657,-4 43.3324,-4 43.3324,-4 52.6696,-4 52.6696,-4 55.3363,-4 58.0029,-6.6667 58.0029,-9.3333 58.0029,-9.3333 58.0029,-14.6667 58.0029,-14.6667 58.0029,-17.3333 55.3363,-20 52.6696,-20\" fill=\"none\" stroke=\"#000000\"/>\n",
       "<text fill=\"#000000\" font-family=\"Courier,monospace\" font-size=\"10.00\" text-anchor=\"start\" x=\"42\" y=\"-9\">q1</text>\n",
       "</g>\n",
       "<!-- _START&#45;&gt;0 -->\n",
       "<g class=\"edge\" id=\"edge1\">\n",
       "<title>_START-&gt;0</title>\n",
       "<path d=\"M1.0335,-12C4.1371,-12 20.1615,-12 32.6403,-12\" fill=\"none\" stroke=\"#000000\"/>\n",
       "<polygon fill=\"#000000\" points=\"37.7232,-12 32.7233,-14.2501 35.2232,-12 32.7232,-12.0001 32.7232,-12.0001 32.7232,-12.0001 35.2232,-12 32.7232,-9.7501 37.7232,-12 37.7232,-12\" stroke=\"#000000\"/>\n",
       "</g>\n",
       "<!-- 1 -->\n",
       "<g class=\"node\" id=\"node3\">\n",
       "<title>1</title>\n",
       "<path d=\"M123.6713,-20C123.6713,-20 114.3346,-20 114.3346,-20 111.6679,-20 109.0013,-17.3333 109.0013,-14.6667 109.0013,-14.6667 109.0013,-9.3333 109.0013,-9.3333 109.0013,-6.6667 111.6679,-4 114.3346,-4 114.3346,-4 123.6713,-4 123.6713,-4 126.3379,-4 129.0046,-6.6667 129.0046,-9.3333 129.0046,-9.3333 129.0046,-14.6667 129.0046,-14.6667 129.0046,-17.3333 126.3379,-20 123.6713,-20\" fill=\"none\" stroke=\"#000000\"/>\n",
       "<path d=\"M125.0049,-24C125.0049,-24 113.001,-24 113.001,-24 109.001,-24 105.001,-20 105.001,-16 105.001,-16 105.001,-8 105.001,-8 105.001,-4 109.001,0 113.001,0 113.001,0 125.0049,0 125.0049,0 129.0049,0 133.0049,-4 133.0049,-8 133.0049,-8 133.0049,-16 133.0049,-16 133.0049,-20 129.0049,-24 125.0049,-24\" fill=\"none\" stroke=\"#000000\"/>\n",
       "<text fill=\"#000000\" font-family=\"Courier,monospace\" font-size=\"10.00\" text-anchor=\"start\" x=\"113.002\" y=\"-9\">q2</text>\n",
       "</g>\n",
       "<!-- 0&#45;&gt;1 -->\n",
       "<g class=\"edge\" id=\"edge2\">\n",
       "<title>0-&gt;1</title>\n",
       "<path d=\"M58.1738,-12C69.0063,-12 86.4036,-12 99.8235,-12\" fill=\"none\" stroke=\"#000000\"/>\n",
       "<polygon fill=\"#000000\" points=\"104.9328,-12 99.9328,-14.2501 102.4328,-12 99.9328,-12.0001 99.9328,-12.0001 99.9328,-12.0001 102.4328,-12 99.9328,-9.7501 104.9328,-12 104.9328,-12\" stroke=\"#000000\"/>\n",
       "<text fill=\"#000000\" font-family=\"Courier,monospace\" font-size=\"9.00\" text-anchor=\"start\" x=\"79.3015\" y=\"-16.3\">a</text>\n",
       "</g>\n",
       "</g>\n",
       "</svg>"
      ],
      "text/plain": [
       "<IPython.core.display.SVG object>"
      ]
     },
     "metadata": {},
     "output_type": "display_data"
    },
    {
     "data": {
      "text/html": [
       "subexpression: b"
      ],
      "text/plain": [
       "<IPython.core.display.HTML object>"
      ]
     },
     "metadata": {},
     "output_type": "display_data"
    },
    {
     "data": {
      "image/svg+xml": [
       "<svg height=\"35pt\" viewBox=\"0.00 0.00 141.00 35.00\" width=\"141pt\" xmlns=\"http://www.w3.org/2000/svg\" xmlns:xlink=\"http://www.w3.org/1999/xlink\">\n",
       "<g class=\"graph\" id=\"graph0\" transform=\"scale(1 1) rotate(0) translate(4 31)\">\n",
       "<title>%3</title>\n",
       "<polygon fill=\"#ffffff\" points=\"-4,4 -4,-31 137.0039,-31 137.0039,4 -4,4\" stroke=\"transparent\"/>\n",
       "<!-- _START -->\n",
       "<g class=\"node\" id=\"node1\">\n",
       "<title>_START</title>\n",
       "</g>\n",
       "<!-- 0 -->\n",
       "<g class=\"node\" id=\"node2\">\n",
       "<title>0</title>\n",
       "<path d=\"M52.6696,-20C52.6696,-20 43.3324,-20 43.3324,-20 40.6657,-20 37.999,-17.3333 37.999,-14.6667 37.999,-14.6667 37.999,-9.3333 37.999,-9.3333 37.999,-6.6667 40.6657,-4 43.3324,-4 43.3324,-4 52.6696,-4 52.6696,-4 55.3363,-4 58.0029,-6.6667 58.0029,-9.3333 58.0029,-9.3333 58.0029,-14.6667 58.0029,-14.6667 58.0029,-17.3333 55.3363,-20 52.6696,-20\" fill=\"none\" stroke=\"#000000\"/>\n",
       "<text fill=\"#000000\" font-family=\"Courier,monospace\" font-size=\"10.00\" text-anchor=\"start\" x=\"42\" y=\"-9\">q3</text>\n",
       "</g>\n",
       "<!-- _START&#45;&gt;0 -->\n",
       "<g class=\"edge\" id=\"edge1\">\n",
       "<title>_START-&gt;0</title>\n",
       "<path d=\"M1.0335,-12C4.1371,-12 20.1615,-12 32.6403,-12\" fill=\"none\" stroke=\"#000000\"/>\n",
       "<polygon fill=\"#000000\" points=\"37.7232,-12 32.7233,-14.2501 35.2232,-12 32.7232,-12.0001 32.7232,-12.0001 32.7232,-12.0001 35.2232,-12 32.7232,-9.7501 37.7232,-12 37.7232,-12\" stroke=\"#000000\"/>\n",
       "</g>\n",
       "<!-- 1 -->\n",
       "<g class=\"node\" id=\"node3\">\n",
       "<title>1</title>\n",
       "<path d=\"M123.6713,-20C123.6713,-20 114.3346,-20 114.3346,-20 111.6679,-20 109.0013,-17.3333 109.0013,-14.6667 109.0013,-14.6667 109.0013,-9.3333 109.0013,-9.3333 109.0013,-6.6667 111.6679,-4 114.3346,-4 114.3346,-4 123.6713,-4 123.6713,-4 126.3379,-4 129.0046,-6.6667 129.0046,-9.3333 129.0046,-9.3333 129.0046,-14.6667 129.0046,-14.6667 129.0046,-17.3333 126.3379,-20 123.6713,-20\" fill=\"none\" stroke=\"#000000\"/>\n",
       "<path d=\"M125.0049,-24C125.0049,-24 113.001,-24 113.001,-24 109.001,-24 105.001,-20 105.001,-16 105.001,-16 105.001,-8 105.001,-8 105.001,-4 109.001,0 113.001,0 113.001,0 125.0049,0 125.0049,0 129.0049,0 133.0049,-4 133.0049,-8 133.0049,-8 133.0049,-16 133.0049,-16 133.0049,-20 129.0049,-24 125.0049,-24\" fill=\"none\" stroke=\"#000000\"/>\n",
       "<text fill=\"#000000\" font-family=\"Courier,monospace\" font-size=\"10.00\" text-anchor=\"start\" x=\"113.002\" y=\"-9\">q4</text>\n",
       "</g>\n",
       "<!-- 0&#45;&gt;1 -->\n",
       "<g class=\"edge\" id=\"edge2\">\n",
       "<title>0-&gt;1</title>\n",
       "<path d=\"M58.1738,-12C69.0063,-12 86.4036,-12 99.8235,-12\" fill=\"none\" stroke=\"#000000\"/>\n",
       "<polygon fill=\"#000000\" points=\"104.9328,-12 99.9328,-14.2501 102.4328,-12 99.9328,-12.0001 99.9328,-12.0001 99.9328,-12.0001 102.4328,-12 99.9328,-9.7501 104.9328,-12 104.9328,-12\" stroke=\"#000000\"/>\n",
       "<text fill=\"#000000\" font-family=\"Courier,monospace\" font-size=\"9.00\" text-anchor=\"start\" x=\"79.3015\" y=\"-16.3\">b</text>\n",
       "</g>\n",
       "</g>\n",
       "</svg>"
      ],
      "text/plain": [
       "<IPython.core.display.SVG object>"
      ]
     },
     "metadata": {},
     "output_type": "display_data"
    },
    {
     "data": {
      "text/html": [
       "subexpression: a b"
      ],
      "text/plain": [
       "<IPython.core.display.HTML object>"
      ]
     },
     "metadata": {},
     "output_type": "display_data"
    },
    {
     "data": {
      "image/svg+xml": [
       "<svg height=\"36pt\" viewBox=\"0.00 0.00 274.01 36.00\" width=\"274pt\" xmlns=\"http://www.w3.org/2000/svg\" xmlns:xlink=\"http://www.w3.org/1999/xlink\">\n",
       "<g class=\"graph\" id=\"graph0\" transform=\"scale(1 1) rotate(0) translate(4 32)\">\n",
       "<title>%3</title>\n",
       "<polygon fill=\"#ffffff\" points=\"-4,4 -4,-32 270.0078,-32 270.0078,4 -4,4\" stroke=\"transparent\"/>\n",
       "<!-- _START -->\n",
       "<g class=\"node\" id=\"node1\">\n",
       "<title>_START</title>\n",
       "</g>\n",
       "<!-- 1 -->\n",
       "<g class=\"node\" id=\"node3\">\n",
       "<title>1</title>\n",
       "<path d=\"M52.6696,-20C52.6696,-20 43.3324,-20 43.3324,-20 40.6657,-20 37.999,-17.3333 37.999,-14.6667 37.999,-14.6667 37.999,-9.3333 37.999,-9.3333 37.999,-6.6667 40.6657,-4 43.3324,-4 43.3324,-4 52.6696,-4 52.6696,-4 55.3363,-4 58.0029,-6.6667 58.0029,-9.3333 58.0029,-9.3333 58.0029,-14.6667 58.0029,-14.6667 58.0029,-17.3333 55.3363,-20 52.6696,-20\" fill=\"none\" stroke=\"#000000\"/>\n",
       "<text fill=\"#000000\" font-family=\"Courier,monospace\" font-size=\"10.00\" text-anchor=\"start\" x=\"42\" y=\"-9\">q1</text>\n",
       "</g>\n",
       "<!-- _START&#45;&gt;1 -->\n",
       "<g class=\"edge\" id=\"edge1\">\n",
       "<title>_START-&gt;1</title>\n",
       "<path d=\"M1.0335,-12C4.1371,-12 20.1615,-12 32.6403,-12\" fill=\"none\" stroke=\"#000000\"/>\n",
       "<polygon fill=\"#000000\" points=\"37.7232,-12 32.7233,-14.2501 35.2232,-12 32.7232,-12.0001 32.7232,-12.0001 32.7232,-12.0001 35.2232,-12 32.7232,-9.7501 37.7232,-12 37.7232,-12\" stroke=\"#000000\"/>\n",
       "</g>\n",
       "<!-- 0 -->\n",
       "<g class=\"node\" id=\"node2\">\n",
       "<title>0</title>\n",
       "<path d=\"M185.6735,-20C185.6735,-20 176.3363,-20 176.3363,-20 173.6696,-20 171.0029,-17.3333 171.0029,-14.6667 171.0029,-14.6667 171.0029,-9.3333 171.0029,-9.3333 171.0029,-6.6667 173.6696,-4 176.3363,-4 176.3363,-4 185.6735,-4 185.6735,-4 188.3402,-4 191.0068,-6.6667 191.0068,-9.3333 191.0068,-9.3333 191.0068,-14.6667 191.0068,-14.6667 191.0068,-17.3333 188.3402,-20 185.6735,-20\" fill=\"none\" stroke=\"#000000\"/>\n",
       "<text fill=\"#000000\" font-family=\"Courier,monospace\" font-size=\"10.00\" text-anchor=\"start\" x=\"175.0039\" y=\"-9\">q3</text>\n",
       "</g>\n",
       "<!-- 2 -->\n",
       "<g class=\"node\" id=\"node4\">\n",
       "<title>2</title>\n",
       "<path d=\"M256.6752,-20C256.6752,-20 247.3385,-20 247.3385,-20 244.6718,-20 242.0052,-17.3333 242.0052,-14.6667 242.0052,-14.6667 242.0052,-9.3333 242.0052,-9.3333 242.0052,-6.6667 244.6718,-4 247.3385,-4 247.3385,-4 256.6752,-4 256.6752,-4 259.3418,-4 262.0085,-6.6667 262.0085,-9.3333 262.0085,-9.3333 262.0085,-14.6667 262.0085,-14.6667 262.0085,-17.3333 259.3418,-20 256.6752,-20\" fill=\"none\" stroke=\"#000000\"/>\n",
       "<path d=\"M258.0088,-24C258.0088,-24 246.0049,-24 246.0049,-24 242.0049,-24 238.0049,-20 238.0049,-16 238.0049,-16 238.0049,-8 238.0049,-8 238.0049,-4 242.0049,0 246.0049,0 246.0049,0 258.0088,0 258.0088,0 262.0088,0 266.0088,-4 266.0088,-8 266.0088,-8 266.0088,-16 266.0088,-16 266.0088,-20 262.0088,-24 258.0088,-24\" fill=\"none\" stroke=\"#000000\"/>\n",
       "<text fill=\"#000000\" font-family=\"Courier,monospace\" font-size=\"10.00\" text-anchor=\"start\" x=\"246.0059\" y=\"-9\">q4</text>\n",
       "</g>\n",
       "<!-- 0&#45;&gt;2 -->\n",
       "<g class=\"edge\" id=\"edge3\">\n",
       "<title>0-&gt;2</title>\n",
       "<path d=\"M191.1777,-12C202.0102,-12 219.4075,-12 232.8274,-12\" fill=\"none\" stroke=\"#000000\"/>\n",
       "<polygon fill=\"#000000\" points=\"237.9367,-12 232.9368,-14.2501 235.4367,-12 232.9367,-12.0001 232.9367,-12.0001 232.9367,-12.0001 235.4367,-12 232.9367,-9.7501 237.9367,-12 237.9367,-12\" stroke=\"#000000\"/>\n",
       "<text fill=\"#000000\" font-family=\"Courier,monospace\" font-size=\"9.00\" text-anchor=\"start\" x=\"212.3054\" y=\"-16.3\">b</text>\n",
       "</g>\n",
       "<!-- 3 -->\n",
       "<g class=\"node\" id=\"node5\">\n",
       "<title>3</title>\n",
       "<path d=\"M119.6715,-20C119.6715,-20 110.3343,-20 110.3343,-20 107.6676,-20 105.001,-17.3333 105.001,-14.6667 105.001,-14.6667 105.001,-9.3333 105.001,-9.3333 105.001,-6.6667 107.6676,-4 110.3343,-4 110.3343,-4 119.6715,-4 119.6715,-4 122.3382,-4 125.0049,-6.6667 125.0049,-9.3333 125.0049,-9.3333 125.0049,-14.6667 125.0049,-14.6667 125.0049,-17.3333 122.3382,-20 119.6715,-20\" fill=\"none\" stroke=\"#000000\"/>\n",
       "<text fill=\"#000000\" font-family=\"Courier,monospace\" font-size=\"10.00\" text-anchor=\"start\" x=\"109.002\" y=\"-9\">q2</text>\n",
       "</g>\n",
       "<!-- 1&#45;&gt;3 -->\n",
       "<g class=\"edge\" id=\"edge2\">\n",
       "<title>1-&gt;3</title>\n",
       "<path d=\"M58.1771,-12C69.1963,-12 86.8992,-12 99.6188,-12\" fill=\"none\" stroke=\"#000000\"/>\n",
       "<polygon fill=\"#000000\" points=\"104.731,-12 99.7311,-14.2501 102.231,-12 99.731,-12.0001 99.731,-12.0001 99.731,-12.0001 102.231,-12 99.731,-9.7501 104.731,-12 104.731,-12\" stroke=\"#000000\"/>\n",
       "<text fill=\"#000000\" font-family=\"Courier,monospace\" font-size=\"9.00\" text-anchor=\"start\" x=\"79.3015\" y=\"-16.3\">a</text>\n",
       "</g>\n",
       "<!-- 3&#45;&gt;0 -->\n",
       "<g class=\"edge\" id=\"edge4\">\n",
       "<title>3-&gt;0</title>\n",
       "<path d=\"M125.0272,-12C135.8819,-12 153.3206,-12 165.8504,-12\" fill=\"none\" stroke=\"#000000\"/>\n",
       "<polygon fill=\"#000000\" points=\"170.8863,-12 165.8863,-14.2501 168.3863,-12 165.8863,-12.0001 165.8863,-12.0001 165.8863,-12.0001 168.3863,-12 165.8862,-9.7501 170.8863,-12 170.8863,-12\" stroke=\"#000000\"/>\n",
       "<text fill=\"#000000\" font-family=\"Courier,monospace\" font-size=\"9.00\" text-anchor=\"start\" x=\"145.9165\" y=\"-17.8\">ε</text>\n",
       "</g>\n",
       "</g>\n",
       "</svg>"
      ],
      "text/plain": [
       "<IPython.core.display.SVG object>"
      ]
     },
     "metadata": {},
     "output_type": "display_data"
    },
    {
     "data": {
      "text/html": [
       "subexpression: a"
      ],
      "text/plain": [
       "<IPython.core.display.HTML object>"
      ]
     },
     "metadata": {},
     "output_type": "display_data"
    },
    {
     "data": {
      "image/svg+xml": [
       "<svg height=\"35pt\" viewBox=\"0.00 0.00 141.00 35.00\" width=\"141pt\" xmlns=\"http://www.w3.org/2000/svg\" xmlns:xlink=\"http://www.w3.org/1999/xlink\">\n",
       "<g class=\"graph\" id=\"graph0\" transform=\"scale(1 1) rotate(0) translate(4 31)\">\n",
       "<title>%3</title>\n",
       "<polygon fill=\"#ffffff\" points=\"-4,4 -4,-31 137.0039,-31 137.0039,4 -4,4\" stroke=\"transparent\"/>\n",
       "<!-- _START -->\n",
       "<g class=\"node\" id=\"node1\">\n",
       "<title>_START</title>\n",
       "</g>\n",
       "<!-- 1 -->\n",
       "<g class=\"node\" id=\"node3\">\n",
       "<title>1</title>\n",
       "<path d=\"M52.6696,-20C52.6696,-20 43.3324,-20 43.3324,-20 40.6657,-20 37.999,-17.3333 37.999,-14.6667 37.999,-14.6667 37.999,-9.3333 37.999,-9.3333 37.999,-6.6667 40.6657,-4 43.3324,-4 43.3324,-4 52.6696,-4 52.6696,-4 55.3363,-4 58.0029,-6.6667 58.0029,-9.3333 58.0029,-9.3333 58.0029,-14.6667 58.0029,-14.6667 58.0029,-17.3333 55.3363,-20 52.6696,-20\" fill=\"none\" stroke=\"#000000\"/>\n",
       "<text fill=\"#000000\" font-family=\"Courier,monospace\" font-size=\"10.00\" text-anchor=\"start\" x=\"42\" y=\"-9\">q5</text>\n",
       "</g>\n",
       "<!-- _START&#45;&gt;1 -->\n",
       "<g class=\"edge\" id=\"edge1\">\n",
       "<title>_START-&gt;1</title>\n",
       "<path d=\"M1.0335,-12C4.1371,-12 20.1615,-12 32.6403,-12\" fill=\"none\" stroke=\"#000000\"/>\n",
       "<polygon fill=\"#000000\" points=\"37.7232,-12 32.7233,-14.2501 35.2232,-12 32.7232,-12.0001 32.7232,-12.0001 32.7232,-12.0001 35.2232,-12 32.7232,-9.7501 37.7232,-12 37.7232,-12\" stroke=\"#000000\"/>\n",
       "</g>\n",
       "<!-- 0 -->\n",
       "<g class=\"node\" id=\"node2\">\n",
       "<title>0</title>\n",
       "<path d=\"M123.6713,-20C123.6713,-20 114.3346,-20 114.3346,-20 111.6679,-20 109.0013,-17.3333 109.0013,-14.6667 109.0013,-14.6667 109.0013,-9.3333 109.0013,-9.3333 109.0013,-6.6667 111.6679,-4 114.3346,-4 114.3346,-4 123.6713,-4 123.6713,-4 126.3379,-4 129.0046,-6.6667 129.0046,-9.3333 129.0046,-9.3333 129.0046,-14.6667 129.0046,-14.6667 129.0046,-17.3333 126.3379,-20 123.6713,-20\" fill=\"none\" stroke=\"#000000\"/>\n",
       "<path d=\"M125.0049,-24C125.0049,-24 113.001,-24 113.001,-24 109.001,-24 105.001,-20 105.001,-16 105.001,-16 105.001,-8 105.001,-8 105.001,-4 109.001,0 113.001,0 113.001,0 125.0049,0 125.0049,0 129.0049,0 133.0049,-4 133.0049,-8 133.0049,-8 133.0049,-16 133.0049,-16 133.0049,-20 129.0049,-24 125.0049,-24\" fill=\"none\" stroke=\"#000000\"/>\n",
       "<text fill=\"#000000\" font-family=\"Courier,monospace\" font-size=\"10.00\" text-anchor=\"start\" x=\"113.002\" y=\"-9\">q6</text>\n",
       "</g>\n",
       "<!-- 1&#45;&gt;0 -->\n",
       "<g class=\"edge\" id=\"edge2\">\n",
       "<title>1-&gt;0</title>\n",
       "<path d=\"M58.1738,-12C69.0063,-12 86.4036,-12 99.8235,-12\" fill=\"none\" stroke=\"#000000\"/>\n",
       "<polygon fill=\"#000000\" points=\"104.9328,-12 99.9328,-14.2501 102.4328,-12 99.9328,-12.0001 99.9328,-12.0001 99.9328,-12.0001 102.4328,-12 99.9328,-9.7501 104.9328,-12 104.9328,-12\" stroke=\"#000000\"/>\n",
       "<text fill=\"#000000\" font-family=\"Courier,monospace\" font-size=\"9.00\" text-anchor=\"start\" x=\"79.3015\" y=\"-16.3\">a</text>\n",
       "</g>\n",
       "</g>\n",
       "</svg>"
      ],
      "text/plain": [
       "<IPython.core.display.SVG object>"
      ]
     },
     "metadata": {},
     "output_type": "display_data"
    },
    {
     "data": {
      "text/html": [
       "subexpression: a b|a"
      ],
      "text/plain": [
       "<IPython.core.display.HTML object>"
      ]
     },
     "metadata": {},
     "output_type": "display_data"
    },
    {
     "data": {
      "image/svg+xml": [
       "<svg height=\"74pt\" viewBox=\"0.00 0.00 348.01 74.00\" width=\"348pt\" xmlns=\"http://www.w3.org/2000/svg\" xmlns:xlink=\"http://www.w3.org/1999/xlink\">\n",
       "<g class=\"graph\" id=\"graph0\" transform=\"scale(1 1) rotate(0) translate(4 70)\">\n",
       "<title>%3</title>\n",
       "<polygon fill=\"#ffffff\" points=\"-4,4 -4,-70 344.0098,-70 344.0098,4 -4,4\" stroke=\"transparent\"/>\n",
       "<!-- _START -->\n",
       "<g class=\"node\" id=\"node1\">\n",
       "<title>_START</title>\n",
       "</g>\n",
       "<!-- 1 -->\n",
       "<g class=\"node\" id=\"node3\">\n",
       "<title>1</title>\n",
       "<path d=\"M52.6696,-39C52.6696,-39 43.3324,-39 43.3324,-39 40.6657,-39 37.999,-36.3333 37.999,-33.6667 37.999,-33.6667 37.999,-28.3333 37.999,-28.3333 37.999,-25.6667 40.6657,-23 43.3324,-23 43.3324,-23 52.6696,-23 52.6696,-23 55.3363,-23 58.0029,-25.6667 58.0029,-28.3333 58.0029,-28.3333 58.0029,-33.6667 58.0029,-33.6667 58.0029,-36.3333 55.3363,-39 52.6696,-39\" fill=\"none\" stroke=\"#000000\"/>\n",
       "<text fill=\"#000000\" font-family=\"Courier,monospace\" font-size=\"10.00\" text-anchor=\"start\" x=\"42\" y=\"-28\">q7</text>\n",
       "</g>\n",
       "<!-- _START&#45;&gt;1 -->\n",
       "<g class=\"edge\" id=\"edge1\">\n",
       "<title>_START-&gt;1</title>\n",
       "<path d=\"M1.0335,-31C4.1371,-31 20.1615,-31 32.6403,-31\" fill=\"none\" stroke=\"#000000\"/>\n",
       "<polygon fill=\"#000000\" points=\"37.7232,-31 32.7233,-33.2501 35.2232,-31 32.7232,-31.0001 32.7232,-31.0001 32.7232,-31.0001 35.2232,-31 32.7232,-28.7501 37.7232,-31 37.7232,-31\" stroke=\"#000000\"/>\n",
       "</g>\n",
       "<!-- 0 -->\n",
       "<g class=\"node\" id=\"node2\">\n",
       "<title>0</title>\n",
       "<path d=\"M259.6755,-20C259.6755,-20 250.3382,-20 250.3382,-20 247.6715,-20 245.0049,-17.3333 245.0049,-14.6667 245.0049,-14.6667 245.0049,-9.3333 245.0049,-9.3333 245.0049,-6.6667 247.6715,-4 250.3382,-4 250.3382,-4 259.6755,-4 259.6755,-4 262.3421,-4 265.0088,-6.6667 265.0088,-9.3333 265.0088,-9.3333 265.0088,-14.6667 265.0088,-14.6667 265.0088,-17.3333 262.3421,-20 259.6755,-20\" fill=\"none\" stroke=\"#000000\"/>\n",
       "<text fill=\"#000000\" font-family=\"Courier,monospace\" font-size=\"10.00\" text-anchor=\"start\" x=\"249.0059\" y=\"-9\">q3</text>\n",
       "</g>\n",
       "<!-- 2 -->\n",
       "<g class=\"node\" id=\"node4\">\n",
       "<title>2</title>\n",
       "<path d=\"M330.6771,-20C330.6771,-20 321.3404,-20 321.3404,-20 318.6738,-20 316.0071,-17.3333 316.0071,-14.6667 316.0071,-14.6667 316.0071,-9.3333 316.0071,-9.3333 316.0071,-6.6667 318.6738,-4 321.3404,-4 321.3404,-4 330.6771,-4 330.6771,-4 333.3438,-4 336.0105,-6.6667 336.0105,-9.3333 336.0105,-9.3333 336.0105,-14.6667 336.0105,-14.6667 336.0105,-17.3333 333.3438,-20 330.6771,-20\" fill=\"none\" stroke=\"#000000\"/>\n",
       "<path d=\"M332.0107,-24C332.0107,-24 320.0068,-24 320.0068,-24 316.0068,-24 312.0068,-20 312.0068,-16 312.0068,-16 312.0068,-8 312.0068,-8 312.0068,-4 316.0068,0 320.0068,0 320.0068,0 332.0107,0 332.0107,0 336.0107,0 340.0107,-4 340.0107,-8 340.0107,-8 340.0107,-16 340.0107,-16 340.0107,-20 336.0107,-24 332.0107,-24\" fill=\"none\" stroke=\"#000000\"/>\n",
       "<text fill=\"#000000\" font-family=\"Courier,monospace\" font-size=\"10.00\" text-anchor=\"start\" x=\"320.0078\" y=\"-9\">q4</text>\n",
       "</g>\n",
       "<!-- 0&#45;&gt;2 -->\n",
       "<g class=\"edge\" id=\"edge6\">\n",
       "<title>0-&gt;2</title>\n",
       "<path d=\"M265.1797,-12C276.0122,-12 293.4094,-12 306.8294,-12\" fill=\"none\" stroke=\"#000000\"/>\n",
       "<polygon fill=\"#000000\" points=\"311.9387,-12 306.9387,-14.2501 309.4387,-12 306.9387,-12.0001 306.9387,-12.0001 306.9387,-12.0001 309.4387,-12 306.9386,-9.7501 311.9387,-12 311.9387,-12\" stroke=\"#000000\"/>\n",
       "<text fill=\"#000000\" font-family=\"Courier,monospace\" font-size=\"9.00\" text-anchor=\"start\" x=\"286.3074\" y=\"-16.3\">b</text>\n",
       "</g>\n",
       "<!-- 4 -->\n",
       "<g class=\"node\" id=\"node6\">\n",
       "<title>4</title>\n",
       "<path d=\"M118.6715,-59C118.6715,-59 109.3343,-59 109.3343,-59 106.6676,-59 104.001,-56.3333 104.001,-53.6667 104.001,-53.6667 104.001,-48.3333 104.001,-48.3333 104.001,-45.6667 106.6676,-43 109.3343,-43 109.3343,-43 118.6715,-43 118.6715,-43 121.3382,-43 124.0049,-45.6667 124.0049,-48.3333 124.0049,-48.3333 124.0049,-53.6667 124.0049,-53.6667 124.0049,-56.3333 121.3382,-59 118.6715,-59\" fill=\"none\" stroke=\"#000000\"/>\n",
       "<text fill=\"#000000\" font-family=\"Courier,monospace\" font-size=\"10.00\" text-anchor=\"start\" x=\"108.002\" y=\"-48\">q5</text>\n",
       "</g>\n",
       "<!-- 1&#45;&gt;4 -->\n",
       "<g class=\"edge\" id=\"edge4\">\n",
       "<title>1-&gt;4</title>\n",
       "<path d=\"M58.0253,-34.0376C68.88,-37.3268 86.3187,-42.6111 98.8485,-46.4079\" fill=\"none\" stroke=\"#000000\"/>\n",
       "<polygon fill=\"#000000\" points=\"103.8843,-47.9338 98.4466,-48.6371 101.4917,-47.2088 99.0992,-46.4838 99.0992,-46.4838 99.0992,-46.4838 101.4917,-47.2088 99.7517,-44.3305 103.8843,-47.9338 103.8843,-47.9338\" stroke=\"#000000\"/>\n",
       "<text fill=\"#000000\" font-family=\"Courier,monospace\" font-size=\"9.00\" text-anchor=\"start\" x=\"78.9146\" y=\"-47.8\">ε</text>\n",
       "</g>\n",
       "<!-- 5 -->\n",
       "<g class=\"node\" id=\"node7\">\n",
       "<title>5</title>\n",
       "<path d=\"M118.6715,-20C118.6715,-20 109.3343,-20 109.3343,-20 106.6676,-20 104.001,-17.3333 104.001,-14.6667 104.001,-14.6667 104.001,-9.3333 104.001,-9.3333 104.001,-6.6667 106.6676,-4 109.3343,-4 109.3343,-4 118.6715,-4 118.6715,-4 121.3382,-4 124.0049,-6.6667 124.0049,-9.3333 124.0049,-9.3333 124.0049,-14.6667 124.0049,-14.6667 124.0049,-17.3333 121.3382,-20 118.6715,-20\" fill=\"none\" stroke=\"#000000\"/>\n",
       "<text fill=\"#000000\" font-family=\"Courier,monospace\" font-size=\"10.00\" text-anchor=\"start\" x=\"108.002\" y=\"-9\">q1</text>\n",
       "</g>\n",
       "<!-- 1&#45;&gt;5 -->\n",
       "<g class=\"edge\" id=\"edge3\">\n",
       "<title>1-&gt;5</title>\n",
       "<path d=\"M57.7009,-22.8859C62.8076,-19.1242 69.3744,-15.0415 76.002,-13 83.2395,-10.7706 91.6239,-10.3389 98.6728,-10.5412\" fill=\"none\" stroke=\"#000000\"/>\n",
       "<polygon fill=\"#000000\" points=\"103.7618,-10.8002 98.6538,-12.793 101.265,-10.6731 98.7682,-10.546 98.7682,-10.546 98.7682,-10.546 101.265,-10.6731 98.8826,-8.2989 103.7618,-10.8002 103.7618,-10.8002\" stroke=\"#000000\"/>\n",
       "<text fill=\"#000000\" font-family=\"Courier,monospace\" font-size=\"9.00\" text-anchor=\"start\" x=\"78.9146\" y=\"-18.8\">ε</text>\n",
       "</g>\n",
       "<!-- 3 -->\n",
       "<g class=\"node\" id=\"node5\">\n",
       "<title>3</title>\n",
       "<path d=\"M189.6732,-59C189.6732,-59 180.3365,-59 180.3365,-59 177.6699,-59 175.0032,-56.3333 175.0032,-53.6667 175.0032,-53.6667 175.0032,-48.3333 175.0032,-48.3333 175.0032,-45.6667 177.6699,-43 180.3365,-43 180.3365,-43 189.6732,-43 189.6732,-43 192.3399,-43 195.0066,-45.6667 195.0066,-48.3333 195.0066,-48.3333 195.0066,-53.6667 195.0066,-53.6667 195.0066,-56.3333 192.3399,-59 189.6732,-59\" fill=\"none\" stroke=\"#000000\"/>\n",
       "<path d=\"M191.0068,-63C191.0068,-63 179.0029,-63 179.0029,-63 175.0029,-63 171.0029,-59 171.0029,-55 171.0029,-55 171.0029,-47 171.0029,-47 171.0029,-43 175.0029,-39 179.0029,-39 179.0029,-39 191.0068,-39 191.0068,-39 195.0068,-39 199.0068,-43 199.0068,-47 199.0068,-47 199.0068,-55 199.0068,-55 199.0068,-59 195.0068,-63 191.0068,-63\" fill=\"none\" stroke=\"#000000\"/>\n",
       "<text fill=\"#000000\" font-family=\"Courier,monospace\" font-size=\"10.00\" text-anchor=\"start\" x=\"179.0039\" y=\"-48\">q6</text>\n",
       "</g>\n",
       "<!-- 4&#45;&gt;3 -->\n",
       "<g class=\"edge\" id=\"edge5\">\n",
       "<title>4-&gt;3</title>\n",
       "<path d=\"M124.1758,-51C135.0083,-51 152.4055,-51 165.8255,-51\" fill=\"none\" stroke=\"#000000\"/>\n",
       "<polygon fill=\"#000000\" points=\"170.9348,-51 165.9348,-53.2501 168.4348,-51 165.9348,-51.0001 165.9348,-51.0001 165.9348,-51.0001 168.4348,-51 165.9347,-48.7501 170.9348,-51 170.9348,-51\" stroke=\"#000000\"/>\n",
       "<text fill=\"#000000\" font-family=\"Courier,monospace\" font-size=\"9.00\" text-anchor=\"start\" x=\"145.3035\" y=\"-55.3\">a</text>\n",
       "</g>\n",
       "<!-- 6 -->\n",
       "<g class=\"node\" id=\"node8\">\n",
       "<title>6</title>\n",
       "<path d=\"M189.6735,-20C189.6735,-20 180.3363,-20 180.3363,-20 177.6696,-20 175.0029,-17.3333 175.0029,-14.6667 175.0029,-14.6667 175.0029,-9.3333 175.0029,-9.3333 175.0029,-6.6667 177.6696,-4 180.3363,-4 180.3363,-4 189.6735,-4 189.6735,-4 192.3402,-4 195.0068,-6.6667 195.0068,-9.3333 195.0068,-9.3333 195.0068,-14.6667 195.0068,-14.6667 195.0068,-17.3333 192.3402,-20 189.6735,-20\" fill=\"none\" stroke=\"#000000\"/>\n",
       "<text fill=\"#000000\" font-family=\"Courier,monospace\" font-size=\"10.00\" text-anchor=\"start\" x=\"179.0039\" y=\"-9\">q2</text>\n",
       "</g>\n",
       "<!-- 5&#45;&gt;6 -->\n",
       "<g class=\"edge\" id=\"edge2\">\n",
       "<title>5-&gt;6</title>\n",
       "<path d=\"M124.1758,-12C136.0915,-12 155.9506,-12 169.7216,-12\" fill=\"none\" stroke=\"#000000\"/>\n",
       "<polygon fill=\"#000000\" points=\"174.8509,-12 169.8509,-14.2501 172.3509,-12 169.8509,-12.0001 169.8509,-12.0001 169.8509,-12.0001 172.3509,-12 169.8509,-9.7501 174.8509,-12 174.8509,-12\" stroke=\"#000000\"/>\n",
       "<text fill=\"#000000\" font-family=\"Courier,monospace\" font-size=\"9.00\" text-anchor=\"start\" x=\"145.3035\" y=\"-16.3\">a</text>\n",
       "</g>\n",
       "<!-- 6&#45;&gt;0 -->\n",
       "<g class=\"edge\" id=\"edge7\">\n",
       "<title>6-&gt;0</title>\n",
       "<path d=\"M195.0345,-12C206.7824,-12 226.3618,-12 239.9388,-12\" fill=\"none\" stroke=\"#000000\"/>\n",
       "<polygon fill=\"#000000\" points=\"244.9959,-12 239.9959,-14.2501 242.4959,-12 239.9959,-12.0001 239.9959,-12.0001 239.9959,-12.0001 242.4959,-12 239.9958,-9.7501 244.9959,-12 244.9959,-12\" stroke=\"#000000\"/>\n",
       "<text fill=\"#000000\" font-family=\"Courier,monospace\" font-size=\"9.00\" text-anchor=\"start\" x=\"219.9185\" y=\"-17.8\">ε</text>\n",
       "</g>\n",
       "</g>\n",
       "</svg>"
      ],
      "text/plain": [
       "<IPython.core.display.SVG object>"
      ]
     },
     "metadata": {},
     "output_type": "display_data"
    },
    {
     "data": {
      "text/html": [
       "subexpression: (a b|a)*"
      ],
      "text/plain": [
       "<IPython.core.display.HTML object>"
      ]
     },
     "metadata": {},
     "output_type": "display_data"
    },
    {
     "data": {
      "image/svg+xml": [
       "<svg height=\"138pt\" viewBox=\"0.00 0.00 422.01 138.00\" width=\"422pt\" xmlns=\"http://www.w3.org/2000/svg\" xmlns:xlink=\"http://www.w3.org/1999/xlink\">\n",
       "<g class=\"graph\" id=\"graph0\" transform=\"scale(1 1) rotate(0) translate(4 134)\">\n",
       "<title>%3</title>\n",
       "<polygon fill=\"#ffffff\" points=\"-4,4 -4,-134 418.0117,-134 418.0117,4 -4,4\" stroke=\"transparent\"/>\n",
       "<!-- _START -->\n",
       "<g class=\"node\" id=\"node1\">\n",
       "<title>_START</title>\n",
       "</g>\n",
       "<!-- 0 -->\n",
       "<g class=\"node\" id=\"node2\">\n",
       "<title>0</title>\n",
       "<path d=\"M56.6693,-72C56.6693,-72 47.3326,-72 47.3326,-72 44.666,-72 41.9993,-69.3333 41.9993,-66.6667 41.9993,-66.6667 41.9993,-61.3333 41.9993,-61.3333 41.9993,-58.6667 44.666,-56 47.3326,-56 47.3326,-56 56.6693,-56 56.6693,-56 59.336,-56 62.0027,-58.6667 62.0027,-61.3333 62.0027,-61.3333 62.0027,-66.6667 62.0027,-66.6667 62.0027,-69.3333 59.336,-72 56.6693,-72\" fill=\"none\" stroke=\"#000000\"/>\n",
       "<path d=\"M58.0029,-76C58.0029,-76 45.999,-76 45.999,-76 41.999,-76 37.999,-72 37.999,-68 37.999,-68 37.999,-60 37.999,-60 37.999,-56 41.999,-52 45.999,-52 45.999,-52 58.0029,-52 58.0029,-52 62.0029,-52 66.0029,-56 66.0029,-60 66.0029,-60 66.0029,-68 66.0029,-68 66.0029,-72 62.0029,-76 58.0029,-76\" fill=\"none\" stroke=\"#000000\"/>\n",
       "<text fill=\"#000000\" font-family=\"Courier,monospace\" font-size=\"10.00\" text-anchor=\"start\" x=\"46\" y=\"-61\">q8</text>\n",
       "</g>\n",
       "<!-- _START&#45;&gt;0 -->\n",
       "<g class=\"edge\" id=\"edge1\">\n",
       "<title>_START-&gt;0</title>\n",
       "<path d=\"M1.0784,-64C4.2393,-64 19.7612,-64 32.8465,-64\" fill=\"none\" stroke=\"#000000\"/>\n",
       "<polygon fill=\"#000000\" points=\"37.8941,-64 32.8941,-66.2501 35.3941,-64 32.8941,-64.0001 32.8941,-64.0001 32.8941,-64.0001 35.3941,-64 32.894,-61.7501 37.8941,-64 37.8941,-64\" stroke=\"#000000\"/>\n",
       "</g>\n",
       "<!-- 2 -->\n",
       "<g class=\"node\" id=\"node4\">\n",
       "<title>2</title>\n",
       "<path d=\"M126.6715,-72C126.6715,-72 117.3343,-72 117.3343,-72 114.6676,-72 112.001,-69.3333 112.001,-66.6667 112.001,-66.6667 112.001,-61.3333 112.001,-61.3333 112.001,-58.6667 114.6676,-56 117.3343,-56 117.3343,-56 126.6715,-56 126.6715,-56 129.3382,-56 132.0049,-58.6667 132.0049,-61.3333 132.0049,-61.3333 132.0049,-66.6667 132.0049,-66.6667 132.0049,-69.3333 129.3382,-72 126.6715,-72\" fill=\"none\" stroke=\"#000000\"/>\n",
       "<text fill=\"#000000\" font-family=\"Courier,monospace\" font-size=\"10.00\" text-anchor=\"start\" x=\"116.002\" y=\"-61\">q7</text>\n",
       "</g>\n",
       "<!-- 0&#45;&gt;2 -->\n",
       "<g class=\"edge\" id=\"edge5\">\n",
       "<title>0-&gt;2</title>\n",
       "<path d=\"M66.1669,-64C77.9461,-64 94.6753,-64 106.7472,-64\" fill=\"none\" stroke=\"#000000\"/>\n",
       "<polygon fill=\"#000000\" points=\"111.9314,-64 106.9315,-66.2501 109.4314,-64 106.9314,-64.0001 106.9314,-64.0001 106.9314,-64.0001 109.4314,-64 106.9314,-61.7501 111.9314,-64 111.9314,-64\" stroke=\"#000000\"/>\n",
       "<text fill=\"#000000\" font-family=\"Courier,monospace\" font-size=\"9.00\" text-anchor=\"start\" x=\"86.9146\" y=\"-69.8\">ε</text>\n",
       "</g>\n",
       "<!-- 1 -->\n",
       "<g class=\"node\" id=\"node3\">\n",
       "<title>1</title>\n",
       "<path d=\"M333.6774,-70C333.6774,-70 324.3402,-70 324.3402,-70 321.6735,-70 319.0068,-67.3333 319.0068,-64.6667 319.0068,-64.6667 319.0068,-59.3333 319.0068,-59.3333 319.0068,-56.6667 321.6735,-54 324.3402,-54 324.3402,-54 333.6774,-54 333.6774,-54 336.3441,-54 339.0107,-56.6667 339.0107,-59.3333 339.0107,-59.3333 339.0107,-64.6667 339.0107,-64.6667 339.0107,-67.3333 336.3441,-70 333.6774,-70\" fill=\"none\" stroke=\"#000000\"/>\n",
       "<text fill=\"#000000\" font-family=\"Courier,monospace\" font-size=\"10.00\" text-anchor=\"start\" x=\"323.0078\" y=\"-59\">q3</text>\n",
       "</g>\n",
       "<!-- 4 -->\n",
       "<g class=\"node\" id=\"node6\">\n",
       "<title>4</title>\n",
       "<path d=\"M404.6791,-24C404.6791,-24 395.3424,-24 395.3424,-24 392.6757,-24 390.0091,-21.3333 390.0091,-18.6667 390.0091,-18.6667 390.0091,-13.3333 390.0091,-13.3333 390.0091,-10.6667 392.6757,-8 395.3424,-8 395.3424,-8 404.6791,-8 404.6791,-8 407.3457,-8 410.0124,-10.6667 410.0124,-13.3333 410.0124,-13.3333 410.0124,-18.6667 410.0124,-18.6667 410.0124,-21.3333 407.3457,-24 404.6791,-24\" fill=\"none\" stroke=\"#000000\"/>\n",
       "<path d=\"M406.0127,-28C406.0127,-28 394.0088,-28 394.0088,-28 390.0088,-28 386.0088,-24 386.0088,-20 386.0088,-20 386.0088,-12 386.0088,-12 386.0088,-8 390.0088,-4 394.0088,-4 394.0088,-4 406.0127,-4 406.0127,-4 410.0127,-4 414.0127,-8 414.0127,-12 414.0127,-12 414.0127,-20 414.0127,-20 414.0127,-24 410.0127,-28 406.0127,-28\" fill=\"none\" stroke=\"#000000\"/>\n",
       "<text fill=\"#000000\" font-family=\"Courier,monospace\" font-size=\"10.00\" text-anchor=\"start\" x=\"394.0098\" y=\"-13\">q4</text>\n",
       "</g>\n",
       "<!-- 1&#45;&gt;4 -->\n",
       "<g class=\"edge\" id=\"edge8\">\n",
       "<title>1-&gt;4</title>\n",
       "<path d=\"M339.1816,-55.4093C350.2058,-48.2671 368.0293,-36.7198 381.5401,-27.9666\" fill=\"none\" stroke=\"#000000\"/>\n",
       "<polygon fill=\"#000000\" points=\"385.9406,-25.1156 382.9677,-29.7226 383.8425,-26.475 381.7443,-27.8343 381.7443,-27.8343 381.7443,-27.8343 383.8425,-26.475 380.5209,-25.946 385.9406,-25.1156 385.9406,-25.1156\" stroke=\"#000000\"/>\n",
       "<text fill=\"#000000\" font-family=\"Courier,monospace\" font-size=\"9.00\" text-anchor=\"start\" x=\"360.3093\" y=\"-47.3\">b</text>\n",
       "</g>\n",
       "<!-- 5 -->\n",
       "<g class=\"node\" id=\"node7\">\n",
       "<title>5</title>\n",
       "<path d=\"M192.6735,-44C192.6735,-44 183.3363,-44 183.3363,-44 180.6696,-44 178.0029,-41.3333 178.0029,-38.6667 178.0029,-38.6667 178.0029,-33.3333 178.0029,-33.3333 178.0029,-30.6667 180.6696,-28 183.3363,-28 183.3363,-28 192.6735,-28 192.6735,-28 195.3402,-28 198.0068,-30.6667 198.0068,-33.3333 198.0068,-33.3333 198.0068,-38.6667 198.0068,-38.6667 198.0068,-41.3333 195.3402,-44 192.6735,-44\" fill=\"none\" stroke=\"#000000\"/>\n",
       "<text fill=\"#000000\" font-family=\"Courier,monospace\" font-size=\"10.00\" text-anchor=\"start\" x=\"182.0039\" y=\"-33\">q5</text>\n",
       "</g>\n",
       "<!-- 2&#45;&gt;5 -->\n",
       "<g class=\"edge\" id=\"edge7\">\n",
       "<title>2-&gt;5</title>\n",
       "<path d=\"M132.2461,-58.5372C137.4913,-55.8276 144.018,-52.5896 150.0039,-50 157.4086,-46.7966 165.8103,-43.6521 172.8274,-41.1573\" fill=\"none\" stroke=\"#000000\"/>\n",
       "<polygon fill=\"#000000\" points=\"177.8842,-39.386 173.9092,-43.1625 175.5247,-40.2125 173.1653,-41.039 173.1653,-41.039 173.1653,-41.039 175.5247,-40.2125 172.4214,-38.9155 177.8842,-39.386 177.8842,-39.386\" stroke=\"#000000\"/>\n",
       "<text fill=\"#000000\" font-family=\"Courier,monospace\" font-size=\"9.00\" text-anchor=\"start\" x=\"152.9165\" y=\"-55.8\">ε</text>\n",
       "</g>\n",
       "<!-- 6 -->\n",
       "<g class=\"node\" id=\"node8\">\n",
       "<title>6</title>\n",
       "<path d=\"M192.6735,-130C192.6735,-130 183.3363,-130 183.3363,-130 180.6696,-130 178.0029,-127.3333 178.0029,-124.6667 178.0029,-124.6667 178.0029,-119.3333 178.0029,-119.3333 178.0029,-116.6667 180.6696,-114 183.3363,-114 183.3363,-114 192.6735,-114 192.6735,-114 195.3402,-114 198.0068,-116.6667 198.0068,-119.3333 198.0068,-119.3333 198.0068,-124.6667 198.0068,-124.6667 198.0068,-127.3333 195.3402,-130 192.6735,-130\" fill=\"none\" stroke=\"#000000\"/>\n",
       "<text fill=\"#000000\" font-family=\"Courier,monospace\" font-size=\"10.00\" text-anchor=\"start\" x=\"182.0039\" y=\"-119\">q1</text>\n",
       "</g>\n",
       "<!-- 2&#45;&gt;6 -->\n",
       "<g class=\"edge\" id=\"edge6\">\n",
       "<title>2-&gt;6</title>\n",
       "<path d=\"M128.7665,-72.0257C134.22,-78.2983 142.235,-87.0833 150.0039,-94 157.4041,-100.5884 166.2907,-107.1992 173.6089,-112.3416\" fill=\"none\" stroke=\"#000000\"/>\n",
       "<polygon fill=\"#000000\" points=\"177.9355,-115.3404 172.5444,-114.3413 175.8808,-113.9162 173.8261,-112.4921 173.8261,-112.4921 173.8261,-112.4921 175.8808,-113.9162 175.1078,-110.6428 177.9355,-115.3404 177.9355,-115.3404\" stroke=\"#000000\"/>\n",
       "<text fill=\"#000000\" font-family=\"Courier,monospace\" font-size=\"9.00\" text-anchor=\"start\" x=\"152.9165\" y=\"-107.8\">ε</text>\n",
       "</g>\n",
       "<!-- 3 -->\n",
       "<g class=\"node\" id=\"node5\">\n",
       "<title>3</title>\n",
       "<path d=\"M263.6752,-59C263.6752,-59 254.3385,-59 254.3385,-59 251.6718,-59 249.0052,-56.3333 249.0052,-53.6667 249.0052,-53.6667 249.0052,-48.3333 249.0052,-48.3333 249.0052,-45.6667 251.6718,-43 254.3385,-43 254.3385,-43 263.6752,-43 263.6752,-43 266.3418,-43 269.0085,-45.6667 269.0085,-48.3333 269.0085,-48.3333 269.0085,-53.6667 269.0085,-53.6667 269.0085,-56.3333 266.3418,-59 263.6752,-59\" fill=\"none\" stroke=\"#000000\"/>\n",
       "<path d=\"M265.0088,-63C265.0088,-63 253.0049,-63 253.0049,-63 249.0049,-63 245.0049,-59 245.0049,-55 245.0049,-55 245.0049,-47 245.0049,-47 245.0049,-43 249.0049,-39 253.0049,-39 253.0049,-39 265.0088,-39 265.0088,-39 269.0088,-39 273.0088,-43 273.0088,-47 273.0088,-47 273.0088,-55 273.0088,-55 273.0088,-59 269.0088,-63 265.0088,-63\" fill=\"none\" stroke=\"#000000\"/>\n",
       "<text fill=\"#000000\" font-family=\"Courier,monospace\" font-size=\"10.00\" text-anchor=\"start\" x=\"253.0059\" y=\"-48\">q6</text>\n",
       "</g>\n",
       "<!-- 3&#45;&gt;2 -->\n",
       "<g class=\"edge\" id=\"edge10\">\n",
       "<title>3-&gt;2</title>\n",
       "<path d=\"M244.8978,-56.7744C239.4046,-58.7762 232.9994,-60.814 227.0059,-62 195.6457,-68.2056 157.9878,-66.849 137.369,-65.3779\" fill=\"none\" stroke=\"#000000\"/>\n",
       "<polygon fill=\"#000000\" points=\"132.2663,-64.9861 137.4239,-63.1256 134.7589,-65.1776 137.2516,-65.369 137.2516,-65.369 137.2516,-65.369 134.7589,-65.1776 137.0793,-67.6124 132.2663,-64.9861 132.2663,-64.9861\" stroke=\"#000000\"/>\n",
       "<text fill=\"#000000\" font-family=\"Courier,monospace\" font-size=\"9.00\" text-anchor=\"start\" x=\"185.9175\" y=\"-71.8\">ε</text>\n",
       "</g>\n",
       "<!-- 4&#45;&gt;2 -->\n",
       "<g class=\"edge\" id=\"edge4\">\n",
       "<title>4-&gt;2</title>\n",
       "<path d=\"M385.8078,-10.8494C371.6235,-6.1721 349.0998,0 329.0088,0 188.0049,0 188.0049,0 188.0049,0 158.9718,0 137.8748,-32.3116 128.094,-51.0173\" fill=\"none\" stroke=\"#000000\"/>\n",
       "<polygon fill=\"#000000\" points=\"125.6381,-55.8944 125.8773,-50.4166 126.7625,-53.6615 127.8869,-51.4286 127.8869,-51.4286 127.8869,-51.4286 126.7625,-53.6615 129.8965,-52.4405 125.6381,-55.8944 125.6381,-55.8944\" stroke=\"#000000\"/>\n",
       "<text fill=\"#000000\" font-family=\"Courier,monospace\" font-size=\"9.00\" text-anchor=\"start\" x=\"256.9194\" y=\"-5.8\">ε</text>\n",
       "</g>\n",
       "<!-- 5&#45;&gt;3 -->\n",
       "<g class=\"edge\" id=\"edge3\">\n",
       "<title>5-&gt;3</title>\n",
       "<path d=\"M198.1777,-38.1491C209.0102,-40.4376 226.4075,-44.113 239.8274,-46.9481\" fill=\"none\" stroke=\"#000000\"/>\n",
       "<polygon fill=\"#000000\" points=\"244.9367,-48.0275 239.5796,-49.1954 242.4907,-47.5107 240.0447,-46.9939 240.0447,-46.9939 240.0447,-46.9939 242.4907,-47.5107 240.5098,-44.7925 244.9367,-48.0275 244.9367,-48.0275\" stroke=\"#000000\"/>\n",
       "<text fill=\"#000000\" font-family=\"Courier,monospace\" font-size=\"9.00\" text-anchor=\"start\" x=\"219.3054\" y=\"-47.3\">a</text>\n",
       "</g>\n",
       "<!-- 7 -->\n",
       "<g class=\"node\" id=\"node9\">\n",
       "<title>7</title>\n",
       "<path d=\"M263.6755,-109C263.6755,-109 254.3382,-109 254.3382,-109 251.6715,-109 249.0049,-106.3333 249.0049,-103.6667 249.0049,-103.6667 249.0049,-98.3333 249.0049,-98.3333 249.0049,-95.6667 251.6715,-93 254.3382,-93 254.3382,-93 263.6755,-93 263.6755,-93 266.3421,-93 269.0088,-95.6667 269.0088,-98.3333 269.0088,-98.3333 269.0088,-103.6667 269.0088,-103.6667 269.0088,-106.3333 266.3421,-109 263.6755,-109\" fill=\"none\" stroke=\"#000000\"/>\n",
       "<text fill=\"#000000\" font-family=\"Courier,monospace\" font-size=\"10.00\" text-anchor=\"start\" x=\"253.0059\" y=\"-98\">q2</text>\n",
       "</g>\n",
       "<!-- 6&#45;&gt;7 -->\n",
       "<g class=\"edge\" id=\"edge2\">\n",
       "<title>6-&gt;7</title>\n",
       "<path d=\"M198.1777,-118.9912C210.0935,-115.4669 229.9526,-109.5933 243.7235,-105.5203\" fill=\"none\" stroke=\"#000000\"/>\n",
       "<polygon fill=\"#000000\" points=\"248.8529,-104.0032 244.6964,-107.579 246.4555,-104.7123 244.0582,-105.4214 244.0582,-105.4214 244.0582,-105.4214 246.4555,-104.7123 243.42,-103.2638 248.8529,-104.0032 248.8529,-104.0032\" stroke=\"#000000\"/>\n",
       "<text fill=\"#000000\" font-family=\"Courier,monospace\" font-size=\"9.00\" text-anchor=\"start\" x=\"219.3054\" y=\"-117.3\">a</text>\n",
       "</g>\n",
       "<!-- 7&#45;&gt;1 -->\n",
       "<g class=\"edge\" id=\"edge9\">\n",
       "<title>7-&gt;1</title>\n",
       "<path d=\"M269.0364,-95.4123C280.8883,-88.8093 300.7109,-77.7655 314.2998,-70.1948\" fill=\"none\" stroke=\"#000000\"/>\n",
       "<polygon fill=\"#000000\" points=\"318.9978,-67.5774 315.725,-71.9764 316.8139,-68.7941 314.6299,-70.0109 314.6299,-70.0109 314.6299,-70.0109 316.8139,-68.7941 313.5349,-68.0453 318.9978,-67.5774 318.9978,-67.5774\" stroke=\"#000000\"/>\n",
       "<text fill=\"#000000\" font-family=\"Courier,monospace\" font-size=\"9.00\" text-anchor=\"start\" x=\"293.9204\" y=\"-87.8\">ε</text>\n",
       "</g>\n",
       "</g>\n",
       "</svg>"
      ],
      "text/plain": [
       "<IPython.core.display.SVG object>"
      ]
     },
     "metadata": {},
     "output_type": "display_data"
    }
   ],
   "source": [
    "m = from_regexp('(a b|a)*', display_steps=True)"
   ]
  },
  {
   "cell_type": "code",
   "execution_count": 5,
   "metadata": {
    "collapsed": false
   },
   "outputs": [
    {
     "data": {
      "text/html": [
       "subexpression: a"
      ],
      "text/plain": [
       "<IPython.core.display.HTML object>"
      ]
     },
     "metadata": {},
     "output_type": "display_data"
    },
    {
     "data": {
      "image/svg+xml": [
       "<svg height=\"35pt\" viewBox=\"0.00 0.00 153.01 35.00\" width=\"153pt\" xmlns=\"http://www.w3.org/2000/svg\" xmlns:xlink=\"http://www.w3.org/1999/xlink\">\n",
       "<g class=\"graph\" id=\"graph0\" transform=\"scale(1 1) rotate(0) translate(4 31)\">\n",
       "<title>%3</title>\n",
       "<polygon fill=\"#ffffff\" points=\"-4,4 -4,-31 149.0059,-31 149.0059,4 -4,4\" stroke=\"transparent\"/>\n",
       "<!-- _START -->\n",
       "<g class=\"node\" id=\"node1\">\n",
       "<title>_START</title>\n",
       "</g>\n",
       "<!-- 1 -->\n",
       "<g class=\"node\" id=\"node3\">\n",
       "<title>1</title>\n",
       "<path d=\"M58.6711,-20C58.6711,-20 43.3319,-20 43.3319,-20 40.6652,-20 37.9985,-17.3333 37.9985,-14.6667 37.9985,-14.6667 37.9985,-9.3333 37.9985,-9.3333 37.9985,-6.6667 40.6652,-4 43.3319,-4 43.3319,-4 58.6711,-4 58.6711,-4 61.3377,-4 64.0044,-6.6667 64.0044,-9.3333 64.0044,-9.3333 64.0044,-14.6667 64.0044,-14.6667 64.0044,-17.3333 61.3377,-20 58.6711,-20\" fill=\"none\" stroke=\"#000000\"/>\n",
       "<text fill=\"#000000\" font-family=\"Courier,monospace\" font-size=\"10.00\" text-anchor=\"start\" x=\"42\" y=\"-9\">q01</text>\n",
       "</g>\n",
       "<!-- _START&#45;&gt;1 -->\n",
       "<g class=\"edge\" id=\"edge1\">\n",
       "<title>_START-&gt;1</title>\n",
       "<path d=\"M1.0672,-12C4.1772,-12 19.4906,-12 32.349,-12\" fill=\"none\" stroke=\"#000000\"/>\n",
       "<polygon fill=\"#000000\" points=\"37.6667,-12 32.6668,-14.2501 35.1667,-12 32.6667,-12.0001 32.6667,-12.0001 32.6667,-12.0001 35.1667,-12 32.6667,-9.7501 37.6667,-12 37.6667,-12\" stroke=\"#000000\"/>\n",
       "</g>\n",
       "<!-- 0 -->\n",
       "<g class=\"node\" id=\"node2\">\n",
       "<title>0</title>\n",
       "<path d=\"M135.6736,-20C135.6736,-20 120.3351,-20 120.3351,-20 117.6685,-20 115.0018,-17.3333 115.0018,-14.6667 115.0018,-14.6667 115.0018,-9.3333 115.0018,-9.3333 115.0018,-6.6667 117.6685,-4 120.3351,-4 120.3351,-4 135.6736,-4 135.6736,-4 138.3403,-4 141.007,-6.6667 141.007,-9.3333 141.007,-9.3333 141.007,-14.6667 141.007,-14.6667 141.007,-17.3333 138.3403,-20 135.6736,-20\" fill=\"none\" stroke=\"#000000\"/>\n",
       "<path d=\"M137.0073,-24C137.0073,-24 119.0015,-24 119.0015,-24 115.0015,-24 111.0015,-20 111.0015,-16 111.0015,-16 111.0015,-8 111.0015,-8 111.0015,-4 115.0015,0 119.0015,0 119.0015,0 137.0073,0 137.0073,0 141.0073,0 145.0073,-4 145.0073,-8 145.0073,-8 145.0073,-16 145.0073,-16 145.0073,-20 141.0073,-24 137.0073,-24\" fill=\"none\" stroke=\"#000000\"/>\n",
       "<text fill=\"#000000\" font-family=\"Courier,monospace\" font-size=\"10.00\" text-anchor=\"start\" x=\"119.0029\" y=\"-9\">q02</text>\n",
       "</g>\n",
       "<!-- 1&#45;&gt;0 -->\n",
       "<g class=\"edge\" id=\"edge2\">\n",
       "<title>1-&gt;0</title>\n",
       "<path d=\"M64.064,-12C75.4281,-12 92.1441,-12 105.6346,-12\" fill=\"none\" stroke=\"#000000\"/>\n",
       "<polygon fill=\"#000000\" points=\"110.8163,-12 105.8163,-14.2501 108.3163,-12 105.8163,-12.0001 105.8163,-12.0001 105.8163,-12.0001 108.3163,-12 105.8162,-9.7501 110.8163,-12 110.8163,-12\" stroke=\"#000000\"/>\n",
       "<text fill=\"#000000\" font-family=\"Courier,monospace\" font-size=\"9.00\" text-anchor=\"start\" x=\"85.3025\" y=\"-16.3\">a</text>\n",
       "</g>\n",
       "</g>\n",
       "</svg>"
      ],
      "text/plain": [
       "<IPython.core.display.SVG object>"
      ]
     },
     "metadata": {},
     "output_type": "display_data"
    },
    {
     "data": {
      "text/html": [
       "subexpression: b"
      ],
      "text/plain": [
       "<IPython.core.display.HTML object>"
      ]
     },
     "metadata": {},
     "output_type": "display_data"
    },
    {
     "data": {
      "image/svg+xml": [
       "<svg height=\"35pt\" viewBox=\"0.00 0.00 153.01 35.00\" width=\"153pt\" xmlns=\"http://www.w3.org/2000/svg\" xmlns:xlink=\"http://www.w3.org/1999/xlink\">\n",
       "<g class=\"graph\" id=\"graph0\" transform=\"scale(1 1) rotate(0) translate(4 31)\">\n",
       "<title>%3</title>\n",
       "<polygon fill=\"#ffffff\" points=\"-4,4 -4,-31 149.0059,-31 149.0059,4 -4,4\" stroke=\"transparent\"/>\n",
       "<!-- _START -->\n",
       "<g class=\"node\" id=\"node1\">\n",
       "<title>_START</title>\n",
       "</g>\n",
       "<!-- 0 -->\n",
       "<g class=\"node\" id=\"node2\">\n",
       "<title>0</title>\n",
       "<path d=\"M58.6711,-20C58.6711,-20 43.3319,-20 43.3319,-20 40.6652,-20 37.9985,-17.3333 37.9985,-14.6667 37.9985,-14.6667 37.9985,-9.3333 37.9985,-9.3333 37.9985,-6.6667 40.6652,-4 43.3319,-4 43.3319,-4 58.6711,-4 58.6711,-4 61.3377,-4 64.0044,-6.6667 64.0044,-9.3333 64.0044,-9.3333 64.0044,-14.6667 64.0044,-14.6667 64.0044,-17.3333 61.3377,-20 58.6711,-20\" fill=\"none\" stroke=\"#000000\"/>\n",
       "<text fill=\"#000000\" font-family=\"Courier,monospace\" font-size=\"10.00\" text-anchor=\"start\" x=\"42\" y=\"-9\">q03</text>\n",
       "</g>\n",
       "<!-- _START&#45;&gt;0 -->\n",
       "<g class=\"edge\" id=\"edge1\">\n",
       "<title>_START-&gt;0</title>\n",
       "<path d=\"M1.0672,-12C4.1772,-12 19.4906,-12 32.349,-12\" fill=\"none\" stroke=\"#000000\"/>\n",
       "<polygon fill=\"#000000\" points=\"37.6667,-12 32.6668,-14.2501 35.1667,-12 32.6667,-12.0001 32.6667,-12.0001 32.6667,-12.0001 35.1667,-12 32.6667,-9.7501 37.6667,-12 37.6667,-12\" stroke=\"#000000\"/>\n",
       "</g>\n",
       "<!-- 1 -->\n",
       "<g class=\"node\" id=\"node3\">\n",
       "<title>1</title>\n",
       "<path d=\"M135.6736,-20C135.6736,-20 120.3351,-20 120.3351,-20 117.6685,-20 115.0018,-17.3333 115.0018,-14.6667 115.0018,-14.6667 115.0018,-9.3333 115.0018,-9.3333 115.0018,-6.6667 117.6685,-4 120.3351,-4 120.3351,-4 135.6736,-4 135.6736,-4 138.3403,-4 141.007,-6.6667 141.007,-9.3333 141.007,-9.3333 141.007,-14.6667 141.007,-14.6667 141.007,-17.3333 138.3403,-20 135.6736,-20\" fill=\"none\" stroke=\"#000000\"/>\n",
       "<path d=\"M137.0073,-24C137.0073,-24 119.0015,-24 119.0015,-24 115.0015,-24 111.0015,-20 111.0015,-16 111.0015,-16 111.0015,-8 111.0015,-8 111.0015,-4 115.0015,0 119.0015,0 119.0015,0 137.0073,0 137.0073,0 141.0073,0 145.0073,-4 145.0073,-8 145.0073,-8 145.0073,-16 145.0073,-16 145.0073,-20 141.0073,-24 137.0073,-24\" fill=\"none\" stroke=\"#000000\"/>\n",
       "<text fill=\"#000000\" font-family=\"Courier,monospace\" font-size=\"10.00\" text-anchor=\"start\" x=\"119.0029\" y=\"-9\">q04</text>\n",
       "</g>\n",
       "<!-- 0&#45;&gt;1 -->\n",
       "<g class=\"edge\" id=\"edge2\">\n",
       "<title>0-&gt;1</title>\n",
       "<path d=\"M64.064,-12C75.4281,-12 92.1441,-12 105.6346,-12\" fill=\"none\" stroke=\"#000000\"/>\n",
       "<polygon fill=\"#000000\" points=\"110.8163,-12 105.8163,-14.2501 108.3163,-12 105.8163,-12.0001 105.8163,-12.0001 105.8163,-12.0001 108.3163,-12 105.8162,-9.7501 110.8163,-12 110.8163,-12\" stroke=\"#000000\"/>\n",
       "<text fill=\"#000000\" font-family=\"Courier,monospace\" font-size=\"9.00\" text-anchor=\"start\" x=\"85.3025\" y=\"-16.3\">b</text>\n",
       "</g>\n",
       "</g>\n",
       "</svg>"
      ],
      "text/plain": [
       "<IPython.core.display.SVG object>"
      ]
     },
     "metadata": {},
     "output_type": "display_data"
    },
    {
     "data": {
      "text/html": [
       "subexpression: a|b"
      ],
      "text/plain": [
       "<IPython.core.display.HTML object>"
      ]
     },
     "metadata": {},
     "output_type": "display_data"
    },
    {
     "data": {
      "image/svg+xml": [
       "<svg height=\"77pt\" viewBox=\"0.00 0.00 225.01 77.00\" width=\"225pt\" xmlns=\"http://www.w3.org/2000/svg\" xmlns:xlink=\"http://www.w3.org/1999/xlink\">\n",
       "<g class=\"graph\" id=\"graph0\" transform=\"scale(1 1) rotate(0) translate(4 73)\">\n",
       "<title>%3</title>\n",
       "<polygon fill=\"#ffffff\" points=\"-4,4 -4,-73 221.0088,-73 221.0088,4 -4,4\" stroke=\"transparent\"/>\n",
       "<!-- _START -->\n",
       "<g class=\"node\" id=\"node1\">\n",
       "<title>_START</title>\n",
       "</g>\n",
       "<!-- 1 -->\n",
       "<g class=\"node\" id=\"node3\">\n",
       "<title>1</title>\n",
       "<path d=\"M58.6711,-41C58.6711,-41 43.3319,-41 43.3319,-41 40.6652,-41 37.9985,-38.3333 37.9985,-35.6667 37.9985,-35.6667 37.9985,-30.3333 37.9985,-30.3333 37.9985,-27.6667 40.6652,-25 43.3319,-25 43.3319,-25 58.6711,-25 58.6711,-25 61.3377,-25 64.0044,-27.6667 64.0044,-30.3333 64.0044,-30.3333 64.0044,-35.6667 64.0044,-35.6667 64.0044,-38.3333 61.3377,-41 58.6711,-41\" fill=\"none\" stroke=\"#000000\"/>\n",
       "<text fill=\"#000000\" font-family=\"Courier,monospace\" font-size=\"10.00\" text-anchor=\"start\" x=\"42\" y=\"-30\">q05</text>\n",
       "</g>\n",
       "<!-- _START&#45;&gt;1 -->\n",
       "<g class=\"edge\" id=\"edge1\">\n",
       "<title>_START-&gt;1</title>\n",
       "<path d=\"M1.0672,-33C4.1772,-33 19.4906,-33 32.349,-33\" fill=\"none\" stroke=\"#000000\"/>\n",
       "<polygon fill=\"#000000\" points=\"37.6667,-33 32.6668,-35.2501 35.1667,-33 32.6667,-33.0001 32.6667,-33.0001 32.6667,-33.0001 35.1667,-33 32.6667,-30.7501 37.6667,-33 37.6667,-33\" stroke=\"#000000\"/>\n",
       "</g>\n",
       "<!-- 0 -->\n",
       "<g class=\"node\" id=\"node2\">\n",
       "<title>0</title>\n",
       "<path d=\"M130.674,-62C130.674,-62 115.3348,-62 115.3348,-62 112.6681,-62 110.0015,-59.3333 110.0015,-56.6667 110.0015,-56.6667 110.0015,-51.3333 110.0015,-51.3333 110.0015,-48.6667 112.6681,-46 115.3348,-46 115.3348,-46 130.674,-46 130.674,-46 133.3407,-46 136.0073,-48.6667 136.0073,-51.3333 136.0073,-51.3333 136.0073,-56.6667 136.0073,-56.6667 136.0073,-59.3333 133.3407,-62 130.674,-62\" fill=\"none\" stroke=\"#000000\"/>\n",
       "<text fill=\"#000000\" font-family=\"Courier,monospace\" font-size=\"10.00\" text-anchor=\"start\" x=\"114.0029\" y=\"-51\">q01</text>\n",
       "</g>\n",
       "<!-- 2 -->\n",
       "<g class=\"node\" id=\"node4\">\n",
       "<title>2</title>\n",
       "<path d=\"M207.6766,-62C207.6766,-62 192.3381,-62 192.3381,-62 189.6714,-62 187.0047,-59.3333 187.0047,-56.6667 187.0047,-56.6667 187.0047,-51.3333 187.0047,-51.3333 187.0047,-48.6667 189.6714,-46 192.3381,-46 192.3381,-46 207.6766,-46 207.6766,-46 210.3432,-46 213.0099,-48.6667 213.0099,-51.3333 213.0099,-51.3333 213.0099,-56.6667 213.0099,-56.6667 213.0099,-59.3333 210.3432,-62 207.6766,-62\" fill=\"none\" stroke=\"#000000\"/>\n",
       "<path d=\"M209.0103,-66C209.0103,-66 191.0044,-66 191.0044,-66 187.0044,-66 183.0044,-62 183.0044,-58 183.0044,-58 183.0044,-50 183.0044,-50 183.0044,-46 187.0044,-42 191.0044,-42 191.0044,-42 209.0103,-42 209.0103,-42 213.0103,-42 217.0103,-46 217.0103,-50 217.0103,-50 217.0103,-58 217.0103,-58 217.0103,-62 213.0103,-66 209.0103,-66\" fill=\"none\" stroke=\"#000000\"/>\n",
       "<text fill=\"#000000\" font-family=\"Courier,monospace\" font-size=\"10.00\" text-anchor=\"start\" x=\"191.0059\" y=\"-51\">q02</text>\n",
       "</g>\n",
       "<!-- 0&#45;&gt;2 -->\n",
       "<g class=\"edge\" id=\"edge5\">\n",
       "<title>0-&gt;2</title>\n",
       "<path d=\"M136.0669,-54C147.431,-54 164.147,-54 177.6375,-54\" fill=\"none\" stroke=\"#000000\"/>\n",
       "<polygon fill=\"#000000\" points=\"182.8192,-54 177.8193,-56.2501 180.3192,-54 177.8192,-54.0001 177.8192,-54.0001 177.8192,-54.0001 180.3192,-54 177.8192,-51.7501 182.8192,-54 182.8192,-54\" stroke=\"#000000\"/>\n",
       "<text fill=\"#000000\" font-family=\"Courier,monospace\" font-size=\"9.00\" text-anchor=\"start\" x=\"157.3054\" y=\"-58.3\">a</text>\n",
       "</g>\n",
       "<!-- 1&#45;&gt;0 -->\n",
       "<g class=\"edge\" id=\"edge4\">\n",
       "<title>1-&gt;0</title>\n",
       "<path d=\"M64.2079,-36.8517C75.6771,-40.1968 92.3897,-45.0711 105.0678,-48.7687\" fill=\"none\" stroke=\"#000000\"/>\n",
       "<polygon fill=\"#000000\" points=\"109.8817,-50.1727 104.4516,-50.9327 107.4817,-49.4727 105.0817,-48.7727 105.0817,-48.7727 105.0817,-48.7727 107.4817,-49.4727 105.7117,-46.6127 109.8817,-50.1727 109.8817,-50.1727\" stroke=\"#000000\"/>\n",
       "<text fill=\"#000000\" font-family=\"Courier,monospace\" font-size=\"9.00\" text-anchor=\"start\" x=\"84.9155\" y=\"-49.8\">ε</text>\n",
       "</g>\n",
       "<!-- 4 -->\n",
       "<g class=\"node\" id=\"node6\">\n",
       "<title>4</title>\n",
       "<path d=\"M130.674,-21C130.674,-21 115.3348,-21 115.3348,-21 112.6681,-21 110.0015,-18.3333 110.0015,-15.6667 110.0015,-15.6667 110.0015,-10.3333 110.0015,-10.3333 110.0015,-7.6667 112.6681,-5 115.3348,-5 115.3348,-5 130.674,-5 130.674,-5 133.3407,-5 136.0073,-7.6667 136.0073,-10.3333 136.0073,-10.3333 136.0073,-15.6667 136.0073,-15.6667 136.0073,-18.3333 133.3407,-21 130.674,-21\" fill=\"none\" stroke=\"#000000\"/>\n",
       "<text fill=\"#000000\" font-family=\"Courier,monospace\" font-size=\"10.00\" text-anchor=\"start\" x=\"114.0029\" y=\"-10\">q03</text>\n",
       "</g>\n",
       "<!-- 1&#45;&gt;4 -->\n",
       "<g class=\"edge\" id=\"edge3\">\n",
       "<title>1-&gt;4</title>\n",
       "<path d=\"M62.8408,-24.9414C68.4104,-21.571 75.2921,-17.983 82.0029,-16 89.2028,-13.8725 97.4082,-12.9869 104.5773,-12.6817\" fill=\"none\" stroke=\"#000000\"/>\n",
       "<polygon fill=\"#000000\" points=\"109.8237,-12.5506 104.8816,-14.9249 107.3245,-12.6131 104.8253,-12.6756 104.8253,-12.6756 104.8253,-12.6756 107.3245,-12.6131 104.769,-10.4263 109.8237,-12.5506 109.8237,-12.5506\" stroke=\"#000000\"/>\n",
       "<text fill=\"#000000\" font-family=\"Courier,monospace\" font-size=\"9.00\" text-anchor=\"start\" x=\"84.9155\" y=\"-21.8\">ε</text>\n",
       "</g>\n",
       "<!-- 3 -->\n",
       "<g class=\"node\" id=\"node5\">\n",
       "<title>3</title>\n",
       "<path d=\"M207.6766,-20C207.6766,-20 192.3381,-20 192.3381,-20 189.6714,-20 187.0047,-17.3333 187.0047,-14.6667 187.0047,-14.6667 187.0047,-9.3333 187.0047,-9.3333 187.0047,-6.6667 189.6714,-4 192.3381,-4 192.3381,-4 207.6766,-4 207.6766,-4 210.3432,-4 213.0099,-6.6667 213.0099,-9.3333 213.0099,-9.3333 213.0099,-14.6667 213.0099,-14.6667 213.0099,-17.3333 210.3432,-20 207.6766,-20\" fill=\"none\" stroke=\"#000000\"/>\n",
       "<path d=\"M209.0103,-24C209.0103,-24 191.0044,-24 191.0044,-24 187.0044,-24 183.0044,-20 183.0044,-16 183.0044,-16 183.0044,-8 183.0044,-8 183.0044,-4 187.0044,0 191.0044,0 191.0044,0 209.0103,0 209.0103,0 213.0103,0 217.0103,-4 217.0103,-8 217.0103,-8 217.0103,-16 217.0103,-16 217.0103,-20 213.0103,-24 209.0103,-24\" fill=\"none\" stroke=\"#000000\"/>\n",
       "<text fill=\"#000000\" font-family=\"Courier,monospace\" font-size=\"10.00\" text-anchor=\"start\" x=\"191.0059\" y=\"-9\">q04</text>\n",
       "</g>\n",
       "<!-- 4&#45;&gt;3 -->\n",
       "<g class=\"edge\" id=\"edge2\">\n",
       "<title>4-&gt;3</title>\n",
       "<path d=\"M136.0669,-12.8304C147.431,-12.6828 164.147,-12.4657 177.6375,-12.2905\" fill=\"none\" stroke=\"#000000\"/>\n",
       "<polygon fill=\"#000000\" points=\"182.8192,-12.2232 177.8489,-14.538 180.3194,-12.2557 177.8196,-12.2882 177.8196,-12.2882 177.8196,-12.2882 180.3194,-12.2557 177.7904,-10.0384 182.8192,-12.2232 182.8192,-12.2232\" stroke=\"#000000\"/>\n",
       "<text fill=\"#000000\" font-family=\"Courier,monospace\" font-size=\"9.00\" text-anchor=\"start\" x=\"157.3054\" y=\"-16.3\">b</text>\n",
       "</g>\n",
       "</g>\n",
       "</svg>"
      ],
      "text/plain": [
       "<IPython.core.display.SVG object>"
      ]
     },
     "metadata": {},
     "output_type": "display_data"
    },
    {
     "data": {
      "text/html": [
       "subexpression: (a|b)*"
      ],
      "text/plain": [
       "<IPython.core.display.HTML object>"
      ]
     },
     "metadata": {},
     "output_type": "display_data"
    },
    {
     "data": {
      "image/svg+xml": [
       "<svg height=\"123pt\" viewBox=\"0.00 0.00 305.01 123.35\" width=\"305pt\" xmlns=\"http://www.w3.org/2000/svg\" xmlns:xlink=\"http://www.w3.org/1999/xlink\">\n",
       "<g class=\"graph\" id=\"graph0\" transform=\"scale(1 1) rotate(0) translate(4 119.346)\">\n",
       "<title>%3</title>\n",
       "<polygon fill=\"#ffffff\" points=\"-4,4 -4,-119.346 301.0117,-119.346 301.0117,4 -4,4\" stroke=\"transparent\"/>\n",
       "<!-- _START -->\n",
       "<g class=\"node\" id=\"node1\">\n",
       "<title>_START</title>\n",
       "</g>\n",
       "<!-- 4 -->\n",
       "<g class=\"node\" id=\"node6\">\n",
       "<title>4</title>\n",
       "<path d=\"M62.6707,-61.346C62.6707,-61.346 47.3322,-61.346 47.3322,-61.346 44.6655,-61.346 41.9989,-58.6793 41.9989,-56.0127 41.9989,-56.0127 41.9989,-50.6793 41.9989,-50.6793 41.9989,-48.0127 44.6655,-45.346 47.3322,-45.346 47.3322,-45.346 62.6707,-45.346 62.6707,-45.346 65.3374,-45.346 68.004,-48.0127 68.004,-50.6793 68.004,-50.6793 68.004,-56.0127 68.004,-56.0127 68.004,-58.6793 65.3374,-61.346 62.6707,-61.346\" fill=\"none\" stroke=\"#000000\"/>\n",
       "<path d=\"M64.0044,-65.346C64.0044,-65.346 45.9985,-65.346 45.9985,-65.346 41.9985,-65.346 37.9985,-61.346 37.9985,-57.346 37.9985,-57.346 37.9985,-49.346 37.9985,-49.346 37.9985,-45.346 41.9985,-41.346 45.9985,-41.346 45.9985,-41.346 64.0044,-41.346 64.0044,-41.346 68.0044,-41.346 72.0044,-45.346 72.0044,-49.346 72.0044,-49.346 72.0044,-57.346 72.0044,-57.346 72.0044,-61.346 68.0044,-65.346 64.0044,-65.346\" fill=\"none\" stroke=\"#000000\"/>\n",
       "<text fill=\"#000000\" font-family=\"Courier,monospace\" font-size=\"10.00\" text-anchor=\"start\" x=\"46\" y=\"-50.346\">q06</text>\n",
       "</g>\n",
       "<!-- _START&#45;&gt;4 -->\n",
       "<g class=\"edge\" id=\"edge1\">\n",
       "<title>_START-&gt;4</title>\n",
       "<path d=\"M1.1121,-53.346C4.292,-53.346 19.2929,-53.346 32.6625,-53.346\" fill=\"none\" stroke=\"#000000\"/>\n",
       "<polygon fill=\"#000000\" points=\"37.869,-53.346 32.8691,-55.5961 35.369,-53.346 32.869,-53.3461 32.869,-53.3461 32.869,-53.3461 35.369,-53.346 32.869,-51.0961 37.869,-53.346 37.869,-53.346\" stroke=\"#000000\"/>\n",
       "</g>\n",
       "<!-- 0 -->\n",
       "<g class=\"node\" id=\"node2\">\n",
       "<title>0</title>\n",
       "<path d=\"M210.6769,-79.346C210.6769,-79.346 195.3377,-79.346 195.3377,-79.346 192.6711,-79.346 190.0044,-76.6793 190.0044,-74.0127 190.0044,-74.0127 190.0044,-68.6793 190.0044,-68.6793 190.0044,-66.0127 192.6711,-63.346 195.3377,-63.346 195.3377,-63.346 210.6769,-63.346 210.6769,-63.346 213.3436,-63.346 216.0103,-66.0127 216.0103,-68.6793 216.0103,-68.6793 216.0103,-74.0127 216.0103,-74.0127 216.0103,-76.6793 213.3436,-79.346 210.6769,-79.346\" fill=\"none\" stroke=\"#000000\"/>\n",
       "<text fill=\"#000000\" font-family=\"Courier,monospace\" font-size=\"10.00\" text-anchor=\"start\" x=\"194.0059\" y=\"-68.346\">q01</text>\n",
       "</g>\n",
       "<!-- 1 -->\n",
       "<g class=\"node\" id=\"node3\">\n",
       "<title>1</title>\n",
       "<path d=\"M287.6795,-92.346C287.6795,-92.346 272.341,-92.346 272.341,-92.346 269.6743,-92.346 267.0077,-89.6793 267.0077,-87.0127 267.0077,-87.0127 267.0077,-81.6793 267.0077,-81.6793 267.0077,-79.0127 269.6743,-76.346 272.341,-76.346 272.341,-76.346 287.6795,-76.346 287.6795,-76.346 290.3462,-76.346 293.0128,-79.0127 293.0128,-81.6793 293.0128,-81.6793 293.0128,-87.0127 293.0128,-87.0127 293.0128,-89.6793 290.3462,-92.346 287.6795,-92.346\" fill=\"none\" stroke=\"#000000\"/>\n",
       "<path d=\"M289.0132,-96.346C289.0132,-96.346 271.0073,-96.346 271.0073,-96.346 267.0073,-96.346 263.0073,-92.346 263.0073,-88.346 263.0073,-88.346 263.0073,-80.346 263.0073,-80.346 263.0073,-76.346 267.0073,-72.346 271.0073,-72.346 271.0073,-72.346 289.0132,-72.346 289.0132,-72.346 293.0132,-72.346 297.0132,-76.346 297.0132,-80.346 297.0132,-80.346 297.0132,-88.346 297.0132,-88.346 297.0132,-92.346 293.0132,-96.346 289.0132,-96.346\" fill=\"none\" stroke=\"#000000\"/>\n",
       "<text fill=\"#000000\" font-family=\"Courier,monospace\" font-size=\"10.00\" text-anchor=\"start\" x=\"271.0088\" y=\"-81.346\">q02</text>\n",
       "</g>\n",
       "<!-- 0&#45;&gt;1 -->\n",
       "<g class=\"edge\" id=\"edge7\">\n",
       "<title>0-&gt;1</title>\n",
       "<path d=\"M216.0698,-73.5513C227.4339,-75.4698 244.15,-78.2919 257.6404,-80.5694\" fill=\"none\" stroke=\"#000000\"/>\n",
       "<polygon fill=\"#000000\" points=\"262.8221,-81.4442 257.5173,-82.8304 260.357,-81.028 257.8919,-80.6118 257.8919,-80.6118 257.8919,-80.6118 260.357,-81.028 258.2665,-78.3932 262.8221,-81.4442 262.8221,-81.4442\" stroke=\"#000000\"/>\n",
       "<text fill=\"#000000\" font-family=\"Courier,monospace\" font-size=\"9.00\" text-anchor=\"start\" x=\"237.3083\" y=\"-81.646\">a</text>\n",
       "</g>\n",
       "<!-- 3 -->\n",
       "<g class=\"node\" id=\"node5\">\n",
       "<title>3</title>\n",
       "<path d=\"M138.674,-61.346C138.674,-61.346 123.3348,-61.346 123.3348,-61.346 120.6681,-61.346 118.0015,-58.6793 118.0015,-56.0127 118.0015,-56.0127 118.0015,-50.6793 118.0015,-50.6793 118.0015,-48.0127 120.6681,-45.346 123.3348,-45.346 123.3348,-45.346 138.674,-45.346 138.674,-45.346 141.3407,-45.346 144.0073,-48.0127 144.0073,-50.6793 144.0073,-50.6793 144.0073,-56.0127 144.0073,-56.0127 144.0073,-58.6793 141.3407,-61.346 138.674,-61.346\" fill=\"none\" stroke=\"#000000\"/>\n",
       "<text fill=\"#000000\" font-family=\"Courier,monospace\" font-size=\"10.00\" text-anchor=\"start\" x=\"122.0029\" y=\"-50.346\">q05</text>\n",
       "</g>\n",
       "<!-- 1&#45;&gt;3 -->\n",
       "<g class=\"edge\" id=\"edge8\">\n",
       "<title>1-&gt;3</title>\n",
       "<path d=\"M262.8562,-91.4878C257.2663,-93.4717 250.9651,-95.3533 245.0088,-96.346 208.1769,-102.4844 195.2324,-100.3832 162.0059,-83.346 153.7751,-79.1256 146.2707,-71.9953 140.7075,-65.7449\" fill=\"none\" stroke=\"#000000\"/>\n",
       "<polygon fill=\"#000000\" points=\"137.181,-61.6049 142.1361,-63.9522 138.8021,-63.508 140.4233,-65.4112 140.4233,-65.4112 140.4233,-65.4112 138.8021,-63.508 138.7104,-66.8702 137.181,-61.6049 137.181,-61.6049\" stroke=\"#000000\"/>\n",
       "<text fill=\"#000000\" font-family=\"Courier,monospace\" font-size=\"9.00\" text-anchor=\"start\" x=\"200.9199\" y=\"-105.146\">ε</text>\n",
       "</g>\n",
       "<!-- 2 -->\n",
       "<g class=\"node\" id=\"node4\">\n",
       "<title>2</title>\n",
       "<path d=\"M287.6795,-33.346C287.6795,-33.346 272.341,-33.346 272.341,-33.346 269.6743,-33.346 267.0077,-30.6793 267.0077,-28.0127 267.0077,-28.0127 267.0077,-22.6793 267.0077,-22.6793 267.0077,-20.0127 269.6743,-17.346 272.341,-17.346 272.341,-17.346 287.6795,-17.346 287.6795,-17.346 290.3462,-17.346 293.0128,-20.0127 293.0128,-22.6793 293.0128,-22.6793 293.0128,-28.0127 293.0128,-28.0127 293.0128,-30.6793 290.3462,-33.346 287.6795,-33.346\" fill=\"none\" stroke=\"#000000\"/>\n",
       "<path d=\"M289.0132,-37.346C289.0132,-37.346 271.0073,-37.346 271.0073,-37.346 267.0073,-37.346 263.0073,-33.346 263.0073,-29.346 263.0073,-29.346 263.0073,-21.346 263.0073,-21.346 263.0073,-17.346 267.0073,-13.346 271.0073,-13.346 271.0073,-13.346 289.0132,-13.346 289.0132,-13.346 293.0132,-13.346 297.0132,-17.346 297.0132,-21.346 297.0132,-21.346 297.0132,-29.346 297.0132,-29.346 297.0132,-33.346 293.0132,-37.346 289.0132,-37.346\" fill=\"none\" stroke=\"#000000\"/>\n",
       "<text fill=\"#000000\" font-family=\"Courier,monospace\" font-size=\"10.00\" text-anchor=\"start\" x=\"271.0088\" y=\"-22.346\">q04</text>\n",
       "</g>\n",
       "<!-- 2&#45;&gt;3 -->\n",
       "<g class=\"edge\" id=\"edge6\">\n",
       "<title>2-&gt;3</title>\n",
       "<path d=\"M262.7522,-15.171C244.3802,-5.7058 214.6225,5.6817 190.0059,-3.346 169.3934,-10.9052 151.0413,-29.2068 140.4714,-41.4437\" fill=\"none\" stroke=\"#000000\"/>\n",
       "<polygon fill=\"#000000\" points=\"137.1932,-45.3368 138.6927,-40.0629 138.8035,-43.4245 140.4138,-41.5122 140.4138,-41.5122 140.4138,-41.5122 138.8035,-43.4245 142.1349,-42.9614 137.1932,-45.3368 137.1932,-45.3368\" stroke=\"#000000\"/>\n",
       "<text fill=\"#000000\" font-family=\"Courier,monospace\" font-size=\"9.00\" text-anchor=\"start\" x=\"200.9199\" y=\"-9.146\">ε</text>\n",
       "</g>\n",
       "<!-- 3&#45;&gt;0 -->\n",
       "<g class=\"edge\" id=\"edge4\">\n",
       "<title>3-&gt;0</title>\n",
       "<path d=\"M144.2108,-56.6475C155.5785,-59.4893 172.0972,-63.6188 184.7332,-66.7777\" fill=\"none\" stroke=\"#000000\"/>\n",
       "<polygon fill=\"#000000\" points=\"189.8846,-68.0654 184.4882,-69.0356 187.4592,-67.4591 185.0339,-66.8527 185.0339,-66.8527 185.0339,-66.8527 187.4592,-67.4591 185.5796,-64.6699 189.8846,-68.0654 189.8846,-68.0654\" stroke=\"#000000\"/>\n",
       "<text fill=\"#000000\" font-family=\"Courier,monospace\" font-size=\"9.00\" text-anchor=\"start\" x=\"164.9185\" y=\"-69.146\">ε</text>\n",
       "</g>\n",
       "<!-- 5 -->\n",
       "<g class=\"node\" id=\"node7\">\n",
       "<title>5</title>\n",
       "<path d=\"M210.6769,-44.346C210.6769,-44.346 195.3377,-44.346 195.3377,-44.346 192.6711,-44.346 190.0044,-41.6793 190.0044,-39.0127 190.0044,-39.0127 190.0044,-33.6793 190.0044,-33.6793 190.0044,-31.0127 192.6711,-28.346 195.3377,-28.346 195.3377,-28.346 210.6769,-28.346 210.6769,-28.346 213.3436,-28.346 216.0103,-31.0127 216.0103,-33.6793 216.0103,-33.6793 216.0103,-39.0127 216.0103,-39.0127 216.0103,-41.6793 213.3436,-44.346 210.6769,-44.346\" fill=\"none\" stroke=\"#000000\"/>\n",
       "<text fill=\"#000000\" font-family=\"Courier,monospace\" font-size=\"10.00\" text-anchor=\"start\" x=\"194.0059\" y=\"-33.346\">q03</text>\n",
       "</g>\n",
       "<!-- 3&#45;&gt;5 -->\n",
       "<g class=\"edge\" id=\"edge3\">\n",
       "<title>3-&gt;5</title>\n",
       "<path d=\"M141.5678,-45.3363C147.2897,-41.5007 154.6741,-37.3201 162.0059,-35.346 169.2381,-33.3986 177.4493,-33.2204 184.6139,-33.6862\" fill=\"none\" stroke=\"#000000\"/>\n",
       "<polygon fill=\"#000000\" points=\"189.8553,-34.1494 184.6766,-35.9505 187.365,-33.9293 184.8747,-33.7092 184.8747,-33.7092 184.8747,-33.7092 187.365,-33.9293 185.0728,-31.4679 189.8553,-34.1494 189.8553,-34.1494\" stroke=\"#000000\"/>\n",
       "<text fill=\"#000000\" font-family=\"Courier,monospace\" font-size=\"9.00\" text-anchor=\"start\" x=\"164.9185\" y=\"-41.146\">ε</text>\n",
       "</g>\n",
       "<!-- 4&#45;&gt;3 -->\n",
       "<g class=\"edge\" id=\"edge5\">\n",
       "<title>4-&gt;3</title>\n",
       "<path d=\"M72.2477,-53.346C84.3576,-53.346 100.5238,-53.346 112.8334,-53.346\" fill=\"none\" stroke=\"#000000\"/>\n",
       "<polygon fill=\"#000000\" points=\"117.8498,-53.346 112.8498,-55.5961 115.3498,-53.346 112.8498,-53.3461 112.8498,-53.3461 112.8498,-53.3461 115.3498,-53.346 112.8497,-51.0961 117.8498,-53.346 117.8498,-53.346\" stroke=\"#000000\"/>\n",
       "<text fill=\"#000000\" font-family=\"Courier,monospace\" font-size=\"9.00\" text-anchor=\"start\" x=\"92.9155\" y=\"-59.146\">ε</text>\n",
       "</g>\n",
       "<!-- 5&#45;&gt;2 -->\n",
       "<g class=\"edge\" id=\"edge2\">\n",
       "<title>5-&gt;2</title>\n",
       "<path d=\"M216.0698,-34.48C227.4339,-32.8566 244.15,-30.4687 257.6404,-28.5416\" fill=\"none\" stroke=\"#000000\"/>\n",
       "<polygon fill=\"#000000\" points=\"262.8221,-27.8013 258.1906,-30.7359 260.3473,-28.1549 257.8724,-28.5085 257.8724,-28.5085 257.8724,-28.5085 260.3473,-28.1549 257.5542,-26.2811 262.8221,-27.8013 262.8221,-27.8013\" stroke=\"#000000\"/>\n",
       "<text fill=\"#000000\" font-family=\"Courier,monospace\" font-size=\"9.00\" text-anchor=\"start\" x=\"237.3083\" y=\"-35.646\">b</text>\n",
       "</g>\n",
       "</g>\n",
       "</svg>"
      ],
      "text/plain": [
       "<IPython.core.display.SVG object>"
      ]
     },
     "metadata": {},
     "output_type": "display_data"
    },
    {
     "data": {
      "text/html": [
       "subexpression: a"
      ],
      "text/plain": [
       "<IPython.core.display.HTML object>"
      ]
     },
     "metadata": {},
     "output_type": "display_data"
    },
    {
     "data": {
      "image/svg+xml": [
       "<svg height=\"35pt\" viewBox=\"0.00 0.00 153.01 35.00\" width=\"153pt\" xmlns=\"http://www.w3.org/2000/svg\" xmlns:xlink=\"http://www.w3.org/1999/xlink\">\n",
       "<g class=\"graph\" id=\"graph0\" transform=\"scale(1 1) rotate(0) translate(4 31)\">\n",
       "<title>%3</title>\n",
       "<polygon fill=\"#ffffff\" points=\"-4,4 -4,-31 149.0059,-31 149.0059,4 -4,4\" stroke=\"transparent\"/>\n",
       "<!-- _START -->\n",
       "<g class=\"node\" id=\"node1\">\n",
       "<title>_START</title>\n",
       "</g>\n",
       "<!-- 0 -->\n",
       "<g class=\"node\" id=\"node2\">\n",
       "<title>0</title>\n",
       "<path d=\"M58.6711,-20C58.6711,-20 43.3319,-20 43.3319,-20 40.6652,-20 37.9985,-17.3333 37.9985,-14.6667 37.9985,-14.6667 37.9985,-9.3333 37.9985,-9.3333 37.9985,-6.6667 40.6652,-4 43.3319,-4 43.3319,-4 58.6711,-4 58.6711,-4 61.3377,-4 64.0044,-6.6667 64.0044,-9.3333 64.0044,-9.3333 64.0044,-14.6667 64.0044,-14.6667 64.0044,-17.3333 61.3377,-20 58.6711,-20\" fill=\"none\" stroke=\"#000000\"/>\n",
       "<text fill=\"#000000\" font-family=\"Courier,monospace\" font-size=\"10.00\" text-anchor=\"start\" x=\"42\" y=\"-9\">q07</text>\n",
       "</g>\n",
       "<!-- _START&#45;&gt;0 -->\n",
       "<g class=\"edge\" id=\"edge1\">\n",
       "<title>_START-&gt;0</title>\n",
       "<path d=\"M1.0672,-12C4.1772,-12 19.4906,-12 32.349,-12\" fill=\"none\" stroke=\"#000000\"/>\n",
       "<polygon fill=\"#000000\" points=\"37.6667,-12 32.6668,-14.2501 35.1667,-12 32.6667,-12.0001 32.6667,-12.0001 32.6667,-12.0001 35.1667,-12 32.6667,-9.7501 37.6667,-12 37.6667,-12\" stroke=\"#000000\"/>\n",
       "</g>\n",
       "<!-- 1 -->\n",
       "<g class=\"node\" id=\"node3\">\n",
       "<title>1</title>\n",
       "<path d=\"M135.6736,-20C135.6736,-20 120.3351,-20 120.3351,-20 117.6685,-20 115.0018,-17.3333 115.0018,-14.6667 115.0018,-14.6667 115.0018,-9.3333 115.0018,-9.3333 115.0018,-6.6667 117.6685,-4 120.3351,-4 120.3351,-4 135.6736,-4 135.6736,-4 138.3403,-4 141.007,-6.6667 141.007,-9.3333 141.007,-9.3333 141.007,-14.6667 141.007,-14.6667 141.007,-17.3333 138.3403,-20 135.6736,-20\" fill=\"none\" stroke=\"#000000\"/>\n",
       "<path d=\"M137.0073,-24C137.0073,-24 119.0015,-24 119.0015,-24 115.0015,-24 111.0015,-20 111.0015,-16 111.0015,-16 111.0015,-8 111.0015,-8 111.0015,-4 115.0015,0 119.0015,0 119.0015,0 137.0073,0 137.0073,0 141.0073,0 145.0073,-4 145.0073,-8 145.0073,-8 145.0073,-16 145.0073,-16 145.0073,-20 141.0073,-24 137.0073,-24\" fill=\"none\" stroke=\"#000000\"/>\n",
       "<text fill=\"#000000\" font-family=\"Courier,monospace\" font-size=\"10.00\" text-anchor=\"start\" x=\"119.0029\" y=\"-9\">q08</text>\n",
       "</g>\n",
       "<!-- 0&#45;&gt;1 -->\n",
       "<g class=\"edge\" id=\"edge2\">\n",
       "<title>0-&gt;1</title>\n",
       "<path d=\"M64.064,-12C75.4281,-12 92.1441,-12 105.6346,-12\" fill=\"none\" stroke=\"#000000\"/>\n",
       "<polygon fill=\"#000000\" points=\"110.8163,-12 105.8163,-14.2501 108.3163,-12 105.8163,-12.0001 105.8163,-12.0001 105.8163,-12.0001 108.3163,-12 105.8162,-9.7501 110.8163,-12 110.8163,-12\" stroke=\"#000000\"/>\n",
       "<text fill=\"#000000\" font-family=\"Courier,monospace\" font-size=\"9.00\" text-anchor=\"start\" x=\"85.3025\" y=\"-16.3\">a</text>\n",
       "</g>\n",
       "</g>\n",
       "</svg>"
      ],
      "text/plain": [
       "<IPython.core.display.SVG object>"
      ]
     },
     "metadata": {},
     "output_type": "display_data"
    },
    {
     "data": {
      "text/html": [
       "subexpression: b"
      ],
      "text/plain": [
       "<IPython.core.display.HTML object>"
      ]
     },
     "metadata": {},
     "output_type": "display_data"
    },
    {
     "data": {
      "image/svg+xml": [
       "<svg height=\"35pt\" viewBox=\"0.00 0.00 153.01 35.00\" width=\"153pt\" xmlns=\"http://www.w3.org/2000/svg\" xmlns:xlink=\"http://www.w3.org/1999/xlink\">\n",
       "<g class=\"graph\" id=\"graph0\" transform=\"scale(1 1) rotate(0) translate(4 31)\">\n",
       "<title>%3</title>\n",
       "<polygon fill=\"#ffffff\" points=\"-4,4 -4,-31 149.0059,-31 149.0059,4 -4,4\" stroke=\"transparent\"/>\n",
       "<!-- _START -->\n",
       "<g class=\"node\" id=\"node1\">\n",
       "<title>_START</title>\n",
       "</g>\n",
       "<!-- 0 -->\n",
       "<g class=\"node\" id=\"node2\">\n",
       "<title>0</title>\n",
       "<path d=\"M58.6711,-20C58.6711,-20 43.3319,-20 43.3319,-20 40.6652,-20 37.9985,-17.3333 37.9985,-14.6667 37.9985,-14.6667 37.9985,-9.3333 37.9985,-9.3333 37.9985,-6.6667 40.6652,-4 43.3319,-4 43.3319,-4 58.6711,-4 58.6711,-4 61.3377,-4 64.0044,-6.6667 64.0044,-9.3333 64.0044,-9.3333 64.0044,-14.6667 64.0044,-14.6667 64.0044,-17.3333 61.3377,-20 58.6711,-20\" fill=\"none\" stroke=\"#000000\"/>\n",
       "<text fill=\"#000000\" font-family=\"Courier,monospace\" font-size=\"10.00\" text-anchor=\"start\" x=\"42\" y=\"-9\">q09</text>\n",
       "</g>\n",
       "<!-- _START&#45;&gt;0 -->\n",
       "<g class=\"edge\" id=\"edge1\">\n",
       "<title>_START-&gt;0</title>\n",
       "<path d=\"M1.0672,-12C4.1772,-12 19.4906,-12 32.349,-12\" fill=\"none\" stroke=\"#000000\"/>\n",
       "<polygon fill=\"#000000\" points=\"37.6667,-12 32.6668,-14.2501 35.1667,-12 32.6667,-12.0001 32.6667,-12.0001 32.6667,-12.0001 35.1667,-12 32.6667,-9.7501 37.6667,-12 37.6667,-12\" stroke=\"#000000\"/>\n",
       "</g>\n",
       "<!-- 1 -->\n",
       "<g class=\"node\" id=\"node3\">\n",
       "<title>1</title>\n",
       "<path d=\"M135.6736,-20C135.6736,-20 120.3351,-20 120.3351,-20 117.6685,-20 115.0018,-17.3333 115.0018,-14.6667 115.0018,-14.6667 115.0018,-9.3333 115.0018,-9.3333 115.0018,-6.6667 117.6685,-4 120.3351,-4 120.3351,-4 135.6736,-4 135.6736,-4 138.3403,-4 141.007,-6.6667 141.007,-9.3333 141.007,-9.3333 141.007,-14.6667 141.007,-14.6667 141.007,-17.3333 138.3403,-20 135.6736,-20\" fill=\"none\" stroke=\"#000000\"/>\n",
       "<path d=\"M137.0073,-24C137.0073,-24 119.0015,-24 119.0015,-24 115.0015,-24 111.0015,-20 111.0015,-16 111.0015,-16 111.0015,-8 111.0015,-8 111.0015,-4 115.0015,0 119.0015,0 119.0015,0 137.0073,0 137.0073,0 141.0073,0 145.0073,-4 145.0073,-8 145.0073,-8 145.0073,-16 145.0073,-16 145.0073,-20 141.0073,-24 137.0073,-24\" fill=\"none\" stroke=\"#000000\"/>\n",
       "<text fill=\"#000000\" font-family=\"Courier,monospace\" font-size=\"10.00\" text-anchor=\"start\" x=\"119.0029\" y=\"-9\">q10</text>\n",
       "</g>\n",
       "<!-- 0&#45;&gt;1 -->\n",
       "<g class=\"edge\" id=\"edge2\">\n",
       "<title>0-&gt;1</title>\n",
       "<path d=\"M64.064,-12C75.4281,-12 92.1441,-12 105.6346,-12\" fill=\"none\" stroke=\"#000000\"/>\n",
       "<polygon fill=\"#000000\" points=\"110.8163,-12 105.8163,-14.2501 108.3163,-12 105.8163,-12.0001 105.8163,-12.0001 105.8163,-12.0001 108.3163,-12 105.8162,-9.7501 110.8163,-12 110.8163,-12\" stroke=\"#000000\"/>\n",
       "<text fill=\"#000000\" font-family=\"Courier,monospace\" font-size=\"9.00\" text-anchor=\"start\" x=\"85.3025\" y=\"-16.3\">b</text>\n",
       "</g>\n",
       "</g>\n",
       "</svg>"
      ],
      "text/plain": [
       "<IPython.core.display.SVG object>"
      ]
     },
     "metadata": {},
     "output_type": "display_data"
    },
    {
     "data": {
      "text/html": [
       "subexpression: a"
      ],
      "text/plain": [
       "<IPython.core.display.HTML object>"
      ]
     },
     "metadata": {},
     "output_type": "display_data"
    },
    {
     "data": {
      "image/svg+xml": [
       "<svg height=\"35pt\" viewBox=\"0.00 0.00 153.01 35.00\" width=\"153pt\" xmlns=\"http://www.w3.org/2000/svg\" xmlns:xlink=\"http://www.w3.org/1999/xlink\">\n",
       "<g class=\"graph\" id=\"graph0\" transform=\"scale(1 1) rotate(0) translate(4 31)\">\n",
       "<title>%3</title>\n",
       "<polygon fill=\"#ffffff\" points=\"-4,4 -4,-31 149.0059,-31 149.0059,4 -4,4\" stroke=\"transparent\"/>\n",
       "<!-- _START -->\n",
       "<g class=\"node\" id=\"node1\">\n",
       "<title>_START</title>\n",
       "</g>\n",
       "<!-- 0 -->\n",
       "<g class=\"node\" id=\"node2\">\n",
       "<title>0</title>\n",
       "<path d=\"M58.6711,-20C58.6711,-20 43.3319,-20 43.3319,-20 40.6652,-20 37.9985,-17.3333 37.9985,-14.6667 37.9985,-14.6667 37.9985,-9.3333 37.9985,-9.3333 37.9985,-6.6667 40.6652,-4 43.3319,-4 43.3319,-4 58.6711,-4 58.6711,-4 61.3377,-4 64.0044,-6.6667 64.0044,-9.3333 64.0044,-9.3333 64.0044,-14.6667 64.0044,-14.6667 64.0044,-17.3333 61.3377,-20 58.6711,-20\" fill=\"none\" stroke=\"#000000\"/>\n",
       "<text fill=\"#000000\" font-family=\"Courier,monospace\" font-size=\"10.00\" text-anchor=\"start\" x=\"42\" y=\"-9\">q11</text>\n",
       "</g>\n",
       "<!-- _START&#45;&gt;0 -->\n",
       "<g class=\"edge\" id=\"edge1\">\n",
       "<title>_START-&gt;0</title>\n",
       "<path d=\"M1.0672,-12C4.1772,-12 19.4906,-12 32.349,-12\" fill=\"none\" stroke=\"#000000\"/>\n",
       "<polygon fill=\"#000000\" points=\"37.6667,-12 32.6668,-14.2501 35.1667,-12 32.6667,-12.0001 32.6667,-12.0001 32.6667,-12.0001 35.1667,-12 32.6667,-9.7501 37.6667,-12 37.6667,-12\" stroke=\"#000000\"/>\n",
       "</g>\n",
       "<!-- 1 -->\n",
       "<g class=\"node\" id=\"node3\">\n",
       "<title>1</title>\n",
       "<path d=\"M135.6736,-20C135.6736,-20 120.3351,-20 120.3351,-20 117.6685,-20 115.0018,-17.3333 115.0018,-14.6667 115.0018,-14.6667 115.0018,-9.3333 115.0018,-9.3333 115.0018,-6.6667 117.6685,-4 120.3351,-4 120.3351,-4 135.6736,-4 135.6736,-4 138.3403,-4 141.007,-6.6667 141.007,-9.3333 141.007,-9.3333 141.007,-14.6667 141.007,-14.6667 141.007,-17.3333 138.3403,-20 135.6736,-20\" fill=\"none\" stroke=\"#000000\"/>\n",
       "<path d=\"M137.0073,-24C137.0073,-24 119.0015,-24 119.0015,-24 115.0015,-24 111.0015,-20 111.0015,-16 111.0015,-16 111.0015,-8 111.0015,-8 111.0015,-4 115.0015,0 119.0015,0 119.0015,0 137.0073,0 137.0073,0 141.0073,0 145.0073,-4 145.0073,-8 145.0073,-8 145.0073,-16 145.0073,-16 145.0073,-20 141.0073,-24 137.0073,-24\" fill=\"none\" stroke=\"#000000\"/>\n",
       "<text fill=\"#000000\" font-family=\"Courier,monospace\" font-size=\"10.00\" text-anchor=\"start\" x=\"119.0029\" y=\"-9\">q12</text>\n",
       "</g>\n",
       "<!-- 0&#45;&gt;1 -->\n",
       "<g class=\"edge\" id=\"edge2\">\n",
       "<title>0-&gt;1</title>\n",
       "<path d=\"M64.064,-12C75.4281,-12 92.1441,-12 105.6346,-12\" fill=\"none\" stroke=\"#000000\"/>\n",
       "<polygon fill=\"#000000\" points=\"110.8163,-12 105.8163,-14.2501 108.3163,-12 105.8163,-12.0001 105.8163,-12.0001 105.8163,-12.0001 108.3163,-12 105.8162,-9.7501 110.8163,-12 110.8163,-12\" stroke=\"#000000\"/>\n",
       "<text fill=\"#000000\" font-family=\"Courier,monospace\" font-size=\"9.00\" text-anchor=\"start\" x=\"85.3025\" y=\"-16.3\">a</text>\n",
       "</g>\n",
       "</g>\n",
       "</svg>"
      ],
      "text/plain": [
       "<IPython.core.display.SVG object>"
      ]
     },
     "metadata": {},
     "output_type": "display_data"
    },
    {
     "data": {
      "text/html": [
       "subexpression: (a|b)* a b a"
      ],
      "text/plain": [
       "<IPython.core.display.HTML object>"
      ]
     },
     "metadata": {},
     "output_type": "display_data"
    },
    {
     "data": {
      "image/svg+xml": [
       "<svg height=\"191pt\" viewBox=\"0.00 0.00 732.03 190.82\" width=\"732pt\" xmlns=\"http://www.w3.org/2000/svg\" xmlns:xlink=\"http://www.w3.org/1999/xlink\">\n",
       "<g class=\"graph\" id=\"graph0\" transform=\"scale(1 1) rotate(0) translate(4 186.8201)\">\n",
       "<title>%3</title>\n",
       "<polygon fill=\"#ffffff\" points=\"-4,4 -4,-186.8201 728.0293,-186.8201 728.0293,4 -4,4\" stroke=\"transparent\"/>\n",
       "<!-- _START -->\n",
       "<g class=\"node\" id=\"node1\">\n",
       "<title>_START</title>\n",
       "</g>\n",
       "<!-- 10 -->\n",
       "<g class=\"node\" id=\"node12\">\n",
       "<title>10</title>\n",
       "<path d=\"M58.6711,-128.8201C58.6711,-128.8201 43.3319,-128.8201 43.3319,-128.8201 40.6652,-128.8201 37.9985,-126.1534 37.9985,-123.4868 37.9985,-123.4868 37.9985,-118.1534 37.9985,-118.1534 37.9985,-115.4868 40.6652,-112.8201 43.3319,-112.8201 43.3319,-112.8201 58.6711,-112.8201 58.6711,-112.8201 61.3377,-112.8201 64.0044,-115.4868 64.0044,-118.1534 64.0044,-118.1534 64.0044,-123.4868 64.0044,-123.4868 64.0044,-126.1534 61.3377,-128.8201 58.6711,-128.8201\" fill=\"none\" stroke=\"#000000\"/>\n",
       "<text fill=\"#000000\" font-family=\"Courier,monospace\" font-size=\"10.00\" text-anchor=\"start\" x=\"42\" y=\"-117.8201\">q06</text>\n",
       "</g>\n",
       "<!-- _START&#45;&gt;10 -->\n",
       "<g class=\"edge\" id=\"edge1\">\n",
       "<title>_START-&gt;10</title>\n",
       "<path d=\"M1.0672,-120.8201C4.1772,-120.8201 19.4906,-120.8201 32.349,-120.8201\" fill=\"none\" stroke=\"#000000\"/>\n",
       "<polygon fill=\"#000000\" points=\"37.6667,-120.8201 32.6668,-123.0702 35.1667,-120.8201 32.6667,-120.8202 32.6667,-120.8202 32.6667,-120.8202 35.1667,-120.8201 32.6667,-118.5702 37.6667,-120.8201 37.6667,-120.8201\" stroke=\"#000000\"/>\n",
       "</g>\n",
       "<!-- 0 -->\n",
       "<g class=\"node\" id=\"node2\">\n",
       "<title>0</title>\n",
       "<path d=\"M565.6916,-112.8201C565.6916,-112.8201 550.3524,-112.8201 550.3524,-112.8201 547.6857,-112.8201 545.019,-110.1534 545.019,-107.4868 545.019,-107.4868 545.019,-102.1534 545.019,-102.1534 545.019,-99.4868 547.6857,-96.8201 550.3524,-96.8201 550.3524,-96.8201 565.6916,-96.8201 565.6916,-96.8201 568.3582,-96.8201 571.0249,-99.4868 571.0249,-102.1534 571.0249,-102.1534 571.0249,-107.4868 571.0249,-107.4868 571.0249,-110.1534 568.3582,-112.8201 565.6916,-112.8201\" fill=\"none\" stroke=\"#000000\"/>\n",
       "<text fill=\"#000000\" font-family=\"Courier,monospace\" font-size=\"10.00\" text-anchor=\"start\" x=\"549.0205\" y=\"-101.8201\">q10</text>\n",
       "</g>\n",
       "<!-- 2 -->\n",
       "<g class=\"node\" id=\"node4\">\n",
       "<title>2</title>\n",
       "<path d=\"M637.6945,-112.8201C637.6945,-112.8201 622.3553,-112.8201 622.3553,-112.8201 619.6886,-112.8201 617.022,-110.1534 617.022,-107.4868 617.022,-107.4868 617.022,-102.1534 617.022,-102.1534 617.022,-99.4868 619.6886,-96.8201 622.3553,-96.8201 622.3553,-96.8201 637.6945,-96.8201 637.6945,-96.8201 640.3612,-96.8201 643.0278,-99.4868 643.0278,-102.1534 643.0278,-102.1534 643.0278,-107.4868 643.0278,-107.4868 643.0278,-110.1534 640.3612,-112.8201 637.6945,-112.8201\" fill=\"none\" stroke=\"#000000\"/>\n",
       "<text fill=\"#000000\" font-family=\"Courier,monospace\" font-size=\"10.00\" text-anchor=\"start\" x=\"621.0234\" y=\"-101.8201\">q11</text>\n",
       "</g>\n",
       "<!-- 0&#45;&gt;2 -->\n",
       "<g class=\"edge\" id=\"edge4\">\n",
       "<title>0-&gt;2</title>\n",
       "<path d=\"M571.2284,-104.8201C582.5961,-104.8201 599.1148,-104.8201 611.7508,-104.8201\" fill=\"none\" stroke=\"#000000\"/>\n",
       "<polygon fill=\"#000000\" points=\"616.9022,-104.8201 611.9022,-107.0702 614.4022,-104.8201 611.9022,-104.8202 611.9022,-104.8202 611.9022,-104.8202 614.4022,-104.8201 611.9021,-102.5702 616.9022,-104.8201 616.9022,-104.8201\" stroke=\"#000000\"/>\n",
       "<text fill=\"#000000\" font-family=\"Courier,monospace\" font-size=\"9.00\" text-anchor=\"start\" x=\"591.936\" y=\"-110.6201\">ε</text>\n",
       "</g>\n",
       "<!-- 1 -->\n",
       "<g class=\"node\" id=\"node3\">\n",
       "<title>1</title>\n",
       "<path d=\"M492.6886,-112.8201C492.6886,-112.8201 477.3494,-112.8201 477.3494,-112.8201 474.6828,-112.8201 472.0161,-110.1534 472.0161,-107.4868 472.0161,-107.4868 472.0161,-102.1534 472.0161,-102.1534 472.0161,-99.4868 474.6828,-96.8201 477.3494,-96.8201 477.3494,-96.8201 492.6886,-96.8201 492.6886,-96.8201 495.3553,-96.8201 498.022,-99.4868 498.022,-102.1534 498.022,-102.1534 498.022,-107.4868 498.022,-107.4868 498.022,-110.1534 495.3553,-112.8201 492.6886,-112.8201\" fill=\"none\" stroke=\"#000000\"/>\n",
       "<text fill=\"#000000\" font-family=\"Courier,monospace\" font-size=\"10.00\" text-anchor=\"start\" x=\"476.0176\" y=\"-101.8201\">q09</text>\n",
       "</g>\n",
       "<!-- 1&#45;&gt;0 -->\n",
       "<g class=\"edge\" id=\"edge3\">\n",
       "<title>1-&gt;0</title>\n",
       "<path d=\"M498.0705,-104.8201C509.5539,-104.8201 526.4072,-104.8201 539.3226,-104.8201\" fill=\"none\" stroke=\"#000000\"/>\n",
       "<polygon fill=\"#000000\" points=\"544.5896,-104.8201 539.5896,-107.0702 542.0896,-104.8201 539.5896,-104.8202 539.5896,-104.8202 539.5896,-104.8202 542.0896,-104.8201 539.5896,-102.5702 544.5896,-104.8201 544.5896,-104.8201\" stroke=\"#000000\"/>\n",
       "<text fill=\"#000000\" font-family=\"Courier,monospace\" font-size=\"9.00\" text-anchor=\"start\" x=\"519.3201\" y=\"-109.1201\">b</text>\n",
       "</g>\n",
       "<!-- 11 -->\n",
       "<g class=\"node\" id=\"node13\">\n",
       "<title>11</title>\n",
       "<path d=\"M714.6971,-112.8201C714.6971,-112.8201 699.3586,-112.8201 699.3586,-112.8201 696.6919,-112.8201 694.0252,-110.1534 694.0252,-107.4868 694.0252,-107.4868 694.0252,-102.1534 694.0252,-102.1534 694.0252,-99.4868 696.6919,-96.8201 699.3586,-96.8201 699.3586,-96.8201 714.6971,-96.8201 714.6971,-96.8201 717.3638,-96.8201 720.0304,-99.4868 720.0304,-102.1534 720.0304,-102.1534 720.0304,-107.4868 720.0304,-107.4868 720.0304,-110.1534 717.3638,-112.8201 714.6971,-112.8201\" fill=\"none\" stroke=\"#000000\"/>\n",
       "<path d=\"M716.0308,-116.8201C716.0308,-116.8201 698.0249,-116.8201 698.0249,-116.8201 694.0249,-116.8201 690.0249,-112.8201 690.0249,-108.8201 690.0249,-108.8201 690.0249,-100.8201 690.0249,-100.8201 690.0249,-96.8201 694.0249,-92.8201 698.0249,-92.8201 698.0249,-92.8201 716.0308,-92.8201 716.0308,-92.8201 720.0308,-92.8201 724.0308,-96.8201 724.0308,-100.8201 724.0308,-100.8201 724.0308,-108.8201 724.0308,-108.8201 724.0308,-112.8201 720.0308,-116.8201 716.0308,-116.8201\" fill=\"none\" stroke=\"#000000\"/>\n",
       "<text fill=\"#000000\" font-family=\"Courier,monospace\" font-size=\"10.00\" text-anchor=\"start\" x=\"698.0264\" y=\"-101.8201\">q12</text>\n",
       "</g>\n",
       "<!-- 2&#45;&gt;11 -->\n",
       "<g class=\"edge\" id=\"edge9\">\n",
       "<title>2-&gt;11</title>\n",
       "<path d=\"M643.0874,-104.8201C654.4515,-104.8201 671.1676,-104.8201 684.658,-104.8201\" fill=\"none\" stroke=\"#000000\"/>\n",
       "<polygon fill=\"#000000\" points=\"689.8397,-104.8201 684.8398,-107.0702 687.3397,-104.8201 684.8397,-104.8202 684.8397,-104.8202 684.8397,-104.8202 687.3397,-104.8201 684.8397,-102.5702 689.8397,-104.8201 689.8397,-104.8201\" stroke=\"#000000\"/>\n",
       "<text fill=\"#000000\" font-family=\"Courier,monospace\" font-size=\"9.00\" text-anchor=\"start\" x=\"664.3259\" y=\"-109.1201\">a</text>\n",
       "</g>\n",
       "<!-- 3 -->\n",
       "<g class=\"node\" id=\"node5\">\n",
       "<title>3</title>\n",
       "<path d=\"M202.6769,-78.8201C202.6769,-78.8201 187.3377,-78.8201 187.3377,-78.8201 184.6711,-78.8201 182.0044,-76.1534 182.0044,-73.4868 182.0044,-73.4868 182.0044,-68.1534 182.0044,-68.1534 182.0044,-65.4868 184.6711,-62.8201 187.3377,-62.8201 187.3377,-62.8201 202.6769,-62.8201 202.6769,-62.8201 205.3436,-62.8201 208.0103,-65.4868 208.0103,-68.1534 208.0103,-68.1534 208.0103,-73.4868 208.0103,-73.4868 208.0103,-76.1534 205.3436,-78.8201 202.6769,-78.8201\" fill=\"none\" stroke=\"#000000\"/>\n",
       "<text fill=\"#000000\" font-family=\"Courier,monospace\" font-size=\"10.00\" text-anchor=\"start\" x=\"186.0059\" y=\"-67.8201\">q01</text>\n",
       "</g>\n",
       "<!-- 4 -->\n",
       "<g class=\"node\" id=\"node6\">\n",
       "<title>4</title>\n",
       "<path d=\"M275.6799,-112.8201C275.6799,-112.8201 260.3407,-112.8201 260.3407,-112.8201 257.674,-112.8201 255.0073,-110.1534 255.0073,-107.4868 255.0073,-107.4868 255.0073,-102.1534 255.0073,-102.1534 255.0073,-99.4868 257.674,-96.8201 260.3407,-96.8201 260.3407,-96.8201 275.6799,-96.8201 275.6799,-96.8201 278.3465,-96.8201 281.0132,-99.4868 281.0132,-102.1534 281.0132,-102.1534 281.0132,-107.4868 281.0132,-107.4868 281.0132,-110.1534 278.3465,-112.8201 275.6799,-112.8201\" fill=\"none\" stroke=\"#000000\"/>\n",
       "<text fill=\"#000000\" font-family=\"Courier,monospace\" font-size=\"10.00\" text-anchor=\"start\" x=\"259.0088\" y=\"-101.8201\">q02</text>\n",
       "</g>\n",
       "<!-- 3&#45;&gt;4 -->\n",
       "<g class=\"edge\" id=\"edge14\">\n",
       "<title>3-&gt;4</title>\n",
       "<path d=\"M208.1561,-74.741C216.5809,-77.4407 227.65,-81.3405 237.0088,-85.8201 241.8771,-88.1503 246.9516,-91.0434 251.5516,-93.8634\" fill=\"none\" stroke=\"#000000\"/>\n",
       "<polygon fill=\"#000000\" points=\"255.9681,-96.6356 250.537,-95.8831 253.8506,-95.3065 251.7332,-93.9774 251.7332,-93.9774 251.7332,-93.9774 253.8506,-95.3065 252.9293,-92.0717 255.9681,-96.6356 255.9681,-96.6356\" stroke=\"#000000\"/>\n",
       "<text fill=\"#000000\" font-family=\"Courier,monospace\" font-size=\"9.00\" text-anchor=\"start\" x=\"229.3083\" y=\"-90.1201\">a</text>\n",
       "</g>\n",
       "<!-- 6 -->\n",
       "<g class=\"node\" id=\"node8\">\n",
       "<title>6</title>\n",
       "<path d=\"M347.6828,-112.8201C347.6828,-112.8201 332.3436,-112.8201 332.3436,-112.8201 329.6769,-112.8201 327.0103,-110.1534 327.0103,-107.4868 327.0103,-107.4868 327.0103,-102.1534 327.0103,-102.1534 327.0103,-99.4868 329.6769,-96.8201 332.3436,-96.8201 332.3436,-96.8201 347.6828,-96.8201 347.6828,-96.8201 350.3494,-96.8201 353.0161,-99.4868 353.0161,-102.1534 353.0161,-102.1534 353.0161,-107.4868 353.0161,-107.4868 353.0161,-110.1534 350.3494,-112.8201 347.6828,-112.8201\" fill=\"none\" stroke=\"#000000\"/>\n",
       "<text fill=\"#000000\" font-family=\"Courier,monospace\" font-size=\"10.00\" text-anchor=\"start\" x=\"331.0117\" y=\"-101.8201\">q07</text>\n",
       "</g>\n",
       "<!-- 4&#45;&gt;6 -->\n",
       "<g class=\"edge\" id=\"edge15\">\n",
       "<title>4-&gt;6</title>\n",
       "<path d=\"M281.2167,-104.8201C292.5844,-104.8201 309.1031,-104.8201 321.7391,-104.8201\" fill=\"none\" stroke=\"#000000\"/>\n",
       "<polygon fill=\"#000000\" points=\"326.8905,-104.8201 321.8905,-107.0702 324.3905,-104.8201 321.8905,-104.8202 321.8905,-104.8202 321.8905,-104.8202 324.3905,-104.8201 321.8904,-102.5702 326.8905,-104.8201 326.8905,-104.8201\" stroke=\"#000000\"/>\n",
       "<text fill=\"#000000\" font-family=\"Courier,monospace\" font-size=\"9.00\" text-anchor=\"start\" x=\"301.9243\" y=\"-110.6201\">ε</text>\n",
       "</g>\n",
       "<!-- 7 -->\n",
       "<g class=\"node\" id=\"node9\">\n",
       "<title>7</title>\n",
       "<path d=\"M130.674,-83.8201C130.674,-83.8201 115.3348,-83.8201 115.3348,-83.8201 112.6681,-83.8201 110.0015,-81.1534 110.0015,-78.4868 110.0015,-78.4868 110.0015,-73.1534 110.0015,-73.1534 110.0015,-70.4868 112.6681,-67.8201 115.3348,-67.8201 115.3348,-67.8201 130.674,-67.8201 130.674,-67.8201 133.3407,-67.8201 136.0073,-70.4868 136.0073,-73.1534 136.0073,-73.1534 136.0073,-78.4868 136.0073,-78.4868 136.0073,-81.1534 133.3407,-83.8201 130.674,-83.8201\" fill=\"none\" stroke=\"#000000\"/>\n",
       "<text fill=\"#000000\" font-family=\"Courier,monospace\" font-size=\"10.00\" text-anchor=\"start\" x=\"114.0029\" y=\"-72.8201\">q05</text>\n",
       "</g>\n",
       "<!-- 4&#45;&gt;7 -->\n",
       "<g class=\"edge\" id=\"edge16\">\n",
       "<title>4-&gt;7</title>\n",
       "<path d=\"M254.9968,-105.3449C233.4408,-105.8256 189.2111,-105.1548 154.0059,-93.8201 148.763,-92.1321 143.44,-89.46 138.719,-86.6859\" fill=\"none\" stroke=\"#000000\"/>\n",
       "<polygon fill=\"#000000\" points=\"134.2238,-83.9106 139.6603,-84.6229 136.3511,-85.224 138.4783,-86.5374 138.4783,-86.5374 138.4783,-86.5374 136.3511,-85.224 137.2962,-88.4519 134.2238,-83.9106 134.2238,-83.9106\" stroke=\"#000000\"/>\n",
       "<text fill=\"#000000\" font-family=\"Courier,monospace\" font-size=\"9.00\" text-anchor=\"start\" x=\"192.9199\" y=\"-108.6201\">ε</text>\n",
       "</g>\n",
       "<!-- 5 -->\n",
       "<g class=\"node\" id=\"node7\">\n",
       "<title>5</title>\n",
       "<path d=\"M420.6857,-112.8201C420.6857,-112.8201 405.3465,-112.8201 405.3465,-112.8201 402.6799,-112.8201 400.0132,-110.1534 400.0132,-107.4868 400.0132,-107.4868 400.0132,-102.1534 400.0132,-102.1534 400.0132,-99.4868 402.6799,-96.8201 405.3465,-96.8201 405.3465,-96.8201 420.6857,-96.8201 420.6857,-96.8201 423.3524,-96.8201 426.019,-99.4868 426.019,-102.1534 426.019,-102.1534 426.019,-107.4868 426.019,-107.4868 426.019,-110.1534 423.3524,-112.8201 420.6857,-112.8201\" fill=\"none\" stroke=\"#000000\"/>\n",
       "<text fill=\"#000000\" font-family=\"Courier,monospace\" font-size=\"10.00\" text-anchor=\"start\" x=\"404.0146\" y=\"-101.8201\">q08</text>\n",
       "</g>\n",
       "<!-- 5&#45;&gt;1 -->\n",
       "<g class=\"edge\" id=\"edge8\">\n",
       "<title>5-&gt;1</title>\n",
       "<path d=\"M426.2226,-104.8201C437.5903,-104.8201 454.1089,-104.8201 466.7449,-104.8201\" fill=\"none\" stroke=\"#000000\"/>\n",
       "<polygon fill=\"#000000\" points=\"471.8963,-104.8201 466.8964,-107.0702 469.3963,-104.8201 466.8963,-104.8202 466.8963,-104.8202 466.8963,-104.8202 469.3963,-104.8201 466.8963,-102.5702 471.8963,-104.8201 471.8963,-104.8201\" stroke=\"#000000\"/>\n",
       "<text fill=\"#000000\" font-family=\"Courier,monospace\" font-size=\"9.00\" text-anchor=\"start\" x=\"446.9302\" y=\"-110.6201\">ε</text>\n",
       "</g>\n",
       "<!-- 6&#45;&gt;5 -->\n",
       "<g class=\"edge\" id=\"edge2\">\n",
       "<title>6-&gt;5</title>\n",
       "<path d=\"M353.0646,-104.8201C364.5481,-104.8201 381.4013,-104.8201 394.3168,-104.8201\" fill=\"none\" stroke=\"#000000\"/>\n",
       "<polygon fill=\"#000000\" points=\"399.5837,-104.8201 394.5838,-107.0702 397.0837,-104.8201 394.5837,-104.8202 394.5837,-104.8202 394.5837,-104.8202 397.0837,-104.8201 394.5837,-102.5702 399.5837,-104.8201 399.5837,-104.8201\" stroke=\"#000000\"/>\n",
       "<text fill=\"#000000\" font-family=\"Courier,monospace\" font-size=\"9.00\" text-anchor=\"start\" x=\"374.3142\" y=\"-109.1201\">a</text>\n",
       "</g>\n",
       "<!-- 7&#45;&gt;3 -->\n",
       "<g class=\"edge\" id=\"edge7\">\n",
       "<title>7-&gt;3</title>\n",
       "<path d=\"M136.2108,-74.903C147.5785,-74.1136 164.0972,-72.9665 176.7332,-72.0891\" fill=\"none\" stroke=\"#000000\"/>\n",
       "<polygon fill=\"#000000\" points=\"181.8846,-71.7314 177.0525,-74.3224 179.3906,-71.9046 176.8966,-72.0778 176.8966,-72.0778 176.8966,-72.0778 179.3906,-71.9046 176.7407,-69.8332 181.8846,-71.7314 181.8846,-71.7314\" stroke=\"#000000\"/>\n",
       "<text fill=\"#000000\" font-family=\"Courier,monospace\" font-size=\"9.00\" text-anchor=\"start\" x=\"156.9185\" y=\"-79.6201\">ε</text>\n",
       "</g>\n",
       "<!-- 8 -->\n",
       "<g class=\"node\" id=\"node10\">\n",
       "<title>8</title>\n",
       "<path d=\"M202.6769,-44.8201C202.6769,-44.8201 187.3377,-44.8201 187.3377,-44.8201 184.6711,-44.8201 182.0044,-42.1534 182.0044,-39.4868 182.0044,-39.4868 182.0044,-34.1534 182.0044,-34.1534 182.0044,-31.4868 184.6711,-28.8201 187.3377,-28.8201 187.3377,-28.8201 202.6769,-28.8201 202.6769,-28.8201 205.3436,-28.8201 208.0103,-31.4868 208.0103,-34.1534 208.0103,-34.1534 208.0103,-39.4868 208.0103,-39.4868 208.0103,-42.1534 205.3436,-44.8201 202.6769,-44.8201\" fill=\"none\" stroke=\"#000000\"/>\n",
       "<text fill=\"#000000\" font-family=\"Courier,monospace\" font-size=\"10.00\" text-anchor=\"start\" x=\"186.0059\" y=\"-33.8201\">q03</text>\n",
       "</g>\n",
       "<!-- 7&#45;&gt;8 -->\n",
       "<g class=\"edge\" id=\"edge6\">\n",
       "<title>7-&gt;8</title>\n",
       "<path d=\"M133.2386,-67.6753C139.1049,-63.2364 146.7287,-57.844 154.0059,-53.8201 161.2384,-49.8208 169.6072,-46.1888 176.8909,-43.3182\" fill=\"none\" stroke=\"#000000\"/>\n",
       "<polygon fill=\"#000000\" points=\"181.7327,-41.4573 177.8727,-45.3513 179.3991,-42.3542 177.0655,-43.2511 177.0655,-43.2511 177.0655,-43.2511 179.3991,-42.3542 176.2583,-41.1509 181.7327,-41.4573 181.7327,-41.4573\" stroke=\"#000000\"/>\n",
       "<text fill=\"#000000\" font-family=\"Courier,monospace\" font-size=\"9.00\" text-anchor=\"start\" x=\"156.9185\" y=\"-59.6201\">ε</text>\n",
       "</g>\n",
       "<!-- 9 -->\n",
       "<g class=\"node\" id=\"node11\">\n",
       "<title>9</title>\n",
       "<path d=\"M275.6799,-44.8201C275.6799,-44.8201 260.3407,-44.8201 260.3407,-44.8201 257.674,-44.8201 255.0073,-42.1534 255.0073,-39.4868 255.0073,-39.4868 255.0073,-34.1534 255.0073,-34.1534 255.0073,-31.4868 257.674,-28.8201 260.3407,-28.8201 260.3407,-28.8201 275.6799,-28.8201 275.6799,-28.8201 278.3465,-28.8201 281.0132,-31.4868 281.0132,-34.1534 281.0132,-34.1534 281.0132,-39.4868 281.0132,-39.4868 281.0132,-42.1534 278.3465,-44.8201 275.6799,-44.8201\" fill=\"none\" stroke=\"#000000\"/>\n",
       "<text fill=\"#000000\" font-family=\"Courier,monospace\" font-size=\"10.00\" text-anchor=\"start\" x=\"259.0088\" y=\"-33.8201\">q04</text>\n",
       "</g>\n",
       "<!-- 8&#45;&gt;9 -->\n",
       "<g class=\"edge\" id=\"edge5\">\n",
       "<title>8-&gt;9</title>\n",
       "<path d=\"M208.0588,-36.8201C219.5422,-36.8201 236.3954,-36.8201 249.3109,-36.8201\" fill=\"none\" stroke=\"#000000\"/>\n",
       "<polygon fill=\"#000000\" points=\"254.5779,-36.8201 249.5779,-39.0702 252.0779,-36.8201 249.5779,-36.8202 249.5779,-36.8202 249.5779,-36.8202 252.0779,-36.8201 249.5778,-34.5702 254.5779,-36.8201 254.5779,-36.8201\" stroke=\"#000000\"/>\n",
       "<text fill=\"#000000\" font-family=\"Courier,monospace\" font-size=\"9.00\" text-anchor=\"start\" x=\"229.3083\" y=\"-41.1201\">b</text>\n",
       "</g>\n",
       "<!-- 9&#45;&gt;6 -->\n",
       "<g class=\"edge\" id=\"edge12\">\n",
       "<title>9-&gt;6</title>\n",
       "<path d=\"M276.5527,-44.8876C289.2194,-56.8501 313.0515,-79.3573 327.6318,-93.127\" fill=\"none\" stroke=\"#000000\"/>\n",
       "<polygon fill=\"#000000\" points=\"331.4819,-96.7631 326.3018,-94.9658 329.6643,-95.0465 327.8467,-93.33 327.8467,-93.33 327.8467,-93.33 329.6643,-95.0465 329.3916,-91.6942 331.4819,-96.7631 331.4819,-96.7631\" stroke=\"#000000\"/>\n",
       "<text fill=\"#000000\" font-family=\"Courier,monospace\" font-size=\"9.00\" text-anchor=\"start\" x=\"301.9243\" y=\"-81.6201\">ε</text>\n",
       "</g>\n",
       "<!-- 9&#45;&gt;7 -->\n",
       "<g class=\"edge\" id=\"edge13\">\n",
       "<title>9-&gt;7</title>\n",
       "<path d=\"M259.2848,-28.7782C243.5419,-15.2939 209.4699,9.1817 182.0059,-3.8201 156.1039,-16.0823 137.776,-45.9035 128.9574,-63.0743\" fill=\"none\" stroke=\"#000000\"/>\n",
       "<polygon fill=\"#000000\" points=\"126.7239,-67.5568 126.94,-62.0781 127.8389,-65.3192 128.9539,-63.0816 128.9539,-63.0816 128.9539,-63.0816 127.8389,-65.3192 130.9677,-64.0851 126.7239,-67.5568 126.7239,-67.5568\" stroke=\"#000000\"/>\n",
       "<text fill=\"#000000\" font-family=\"Courier,monospace\" font-size=\"9.00\" text-anchor=\"start\" x=\"192.9199\" y=\"-9.6201\">ε</text>\n",
       "</g>\n",
       "<!-- 10&#45;&gt;6 -->\n",
       "<g class=\"edge\" id=\"edge10\">\n",
       "<title>10-&gt;6</title>\n",
       "<path d=\"M57.6405,-128.8327C69.3575,-142.012 95.1169,-166.8201 123.0044,-166.8201 123.0044,-166.8201 123.0044,-166.8201 268.0103,-166.8201 297.8658,-166.8201 321.4949,-135.8321 332.7794,-117.6712\" fill=\"none\" stroke=\"#000000\"/>\n",
       "<polygon fill=\"#000000\" points=\"335.6298,-112.9255 334.9842,-118.3703 334.3426,-115.0687 333.0553,-117.2118 333.0553,-117.2118 333.0553,-117.2118 334.3426,-115.0687 331.1265,-116.0533 335.6298,-112.9255 335.6298,-112.9255\" stroke=\"#000000\"/>\n",
       "<text fill=\"#000000\" font-family=\"Courier,monospace\" font-size=\"9.00\" text-anchor=\"start\" x=\"192.9199\" y=\"-172.6201\">ε</text>\n",
       "</g>\n",
       "<!-- 10&#45;&gt;7 -->\n",
       "<g class=\"edge\" id=\"edge11\">\n",
       "<title>10-&gt;7</title>\n",
       "<path d=\"M63.8741,-112.775C75.4025,-105.5701 92.418,-94.9358 105.2398,-86.9225\" fill=\"none\" stroke=\"#000000\"/>\n",
       "<polygon fill=\"#000000\" points=\"109.756,-84.1 106.7084,-88.658 107.636,-85.425 105.516,-86.75 105.516,-86.75 105.516,-86.75 107.636,-85.425 104.3235,-84.8419 109.756,-84.1 109.756,-84.1\" stroke=\"#000000\"/>\n",
       "<text fill=\"#000000\" font-family=\"Courier,monospace\" font-size=\"9.00\" text-anchor=\"start\" x=\"84.9155\" y=\"-106.6201\">ε</text>\n",
       "</g>\n",
       "</g>\n",
       "</svg>"
      ],
      "text/plain": [
       "<IPython.core.display.SVG object>"
      ]
     },
     "metadata": {},
     "output_type": "display_data"
    }
   ],
   "source": [
    "m = from_regexp('(a|b)* a b a', display_steps=True)"
   ]
  },
  {
   "cell_type": "markdown",
   "metadata": {},
   "source": [
    "**Question.** If a regular expression has $n$ symbols, how big will the resulting NFA be?\n",
    "\n",
    "For a very cool \"real-time\" visualization of (a slightly different version of) this construction, see [Debuggex](https://www.debuggex.com)."
   ]
  },
  {
   "cell_type": "markdown",
   "metadata": {},
   "source": [
    "# Wednesday reading\n",
    "\n",
    "Read or reread Lemma 1.60 and its proof, which (in my opinion) is the most complicated one so far."
   ]
  },
  {
   "cell_type": "markdown",
   "metadata": {},
   "source": [
    "# Thursday class\n",
    "\n",
    "Homework 2 is due this evening.\n",
    "\n",
    "## NFAs to regular expressions"
   ]
  },
  {
   "cell_type": "markdown",
   "metadata": {},
   "source": [
    "Today we're completing the proof from last time by converting NFAs to regular expressions. The algorithm for this is known as the _state elimination_ algorithm, because it eliminates the states of the NFA one by one. \n",
    "\n",
    "To make this construction simpler, the new concept of a generalized NFA (GNFA) is introduced. In this course, GNFAs are a \"throwaway\" formalism; they exist just to make this proof possible. But elsewhere they might be useful in their own right.\n",
    "\n",
    "A GNFA is a NFA whose transitions can be labeled with regular expressions instead of symbols. The algorithm first changes the NFA into a GNFA, and then eliminates the states one by one. When there is just one transition left, its label is the final answer.\n",
    "\n",
    "The order of elimination is arbitrary, although some orders may lead to more compact regular expressions than others. Tock eliminates states in reverse alphabetical order, for no particularly good reason."
   ]
  },
  {
   "cell_type": "code",
   "execution_count": 6,
   "metadata": {
    "collapsed": false
   },
   "outputs": [
    {
     "data": {
      "image/svg+xml": [
       "<svg height=\"78pt\" viewBox=\"0.00 0.00 136.00 78.00\" width=\"136pt\" xmlns=\"http://www.w3.org/2000/svg\" xmlns:xlink=\"http://www.w3.org/1999/xlink\">\n",
       "<g class=\"graph\" id=\"graph0\" transform=\"scale(1 1) rotate(0) translate(4 74)\">\n",
       "<title>%3</title>\n",
       "<polygon fill=\"#ffffff\" points=\"-4,4 -4,-74 132,-74 132,4 -4,4\" stroke=\"transparent\"/>\n",
       "<!-- _START -->\n",
       "<g class=\"node\" id=\"node1\">\n",
       "<title>_START</title>\n",
       "</g>\n",
       "<!-- 0 -->\n",
       "<g class=\"node\" id=\"node2\">\n",
       "<title>0</title>\n",
       "<path d=\"M47.8337,-20C47.8337,-20 43.1663,-20 43.1663,-20 40.8327,-20 38.499,-17.6663 38.499,-15.3327 38.499,-15.3327 38.499,-8.6673 38.499,-8.6673 38.499,-6.3337 40.8327,-4 43.1663,-4 43.1663,-4 47.8337,-4 47.8337,-4 50.1673,-4 52.501,-6.3337 52.501,-8.6673 52.501,-8.6673 52.501,-15.3327 52.501,-15.3327 52.501,-17.6663 50.1673,-20 47.8337,-20\" fill=\"none\" stroke=\"#000000\"/>\n",
       "<text fill=\"#000000\" font-family=\"Courier,monospace\" font-size=\"10.00\" text-anchor=\"start\" x=\"42.4995\" y=\"-9\">1</text>\n",
       "</g>\n",
       "<!-- _START&#45;&gt;0 -->\n",
       "<g class=\"edge\" id=\"edge1\">\n",
       "<title>_START-&gt;0</title>\n",
       "<path d=\"M1.0054,-12C4.1203,-12 20.9736,-12 33.0166,-12\" fill=\"none\" stroke=\"#000000\"/>\n",
       "<polygon fill=\"#000000\" points=\"38.1447,-12 33.1447,-14.2501 35.6447,-12 33.1447,-12.0001 33.1447,-12.0001 33.1447,-12.0001 35.6447,-12 33.1447,-9.7501 38.1447,-12 38.1447,-12\" stroke=\"#000000\"/>\n",
       "</g>\n",
       "<!-- 0&#45;&gt;0 -->\n",
       "<g class=\"edge\" id=\"edge2\">\n",
       "<title>0-&gt;0</title>\n",
       "<path d=\"M41.6962,-20.2534C39.4586,-28.652 40.7266,-38 45.5,-38 49.3038,-38 50.8816,-32.0639 50.2334,-25.4025\" fill=\"none\" stroke=\"#000000\"/>\n",
       "<polygon fill=\"#000000\" points=\"49.3038,-20.2534 52.4064,-24.7741 49.748,-22.7137 50.1922,-25.1739 50.1922,-25.1739 50.1922,-25.1739 49.748,-22.7137 47.978,-25.5737 49.3038,-20.2534 49.3038,-20.2534\" stroke=\"#000000\"/>\n",
       "<text fill=\"#000000\" font-family=\"Courier,monospace\" font-size=\"9.00\" text-anchor=\"start\" x=\"43.2996\" y=\"-42.3\">a</text>\n",
       "</g>\n",
       "<!-- 1 -->\n",
       "<g class=\"node\" id=\"node3\">\n",
       "<title>1</title>\n",
       "<path d=\"M116.3336,-20C116.3336,-20 111.6664,-20 111.6664,-20 109.3328,-20 106.9992,-17.6664 106.9992,-15.3328 106.9992,-15.3328 106.9992,-8.6672 106.9992,-8.6672 106.9992,-6.3336 109.3328,-4 111.6664,-4 111.6664,-4 116.3336,-4 116.3336,-4 118.6672,-4 121.0008,-6.3336 121.0008,-8.6672 121.0008,-8.6672 121.0008,-15.3328 121.0008,-15.3328 121.0008,-17.6664 118.6672,-20 116.3336,-20\" fill=\"none\" stroke=\"#000000\"/>\n",
       "<path d=\"M117.667,-24C117.667,-24 110.333,-24 110.333,-24 106.666,-24 102.999,-20.333 102.999,-16.666 102.999,-16.666 102.999,-7.334 102.999,-7.334 102.999,-3.667 106.666,0 110.333,0 110.333,0 117.667,0 117.667,0 121.334,0 125.001,-3.667 125.001,-7.334 125.001,-7.334 125.001,-16.666 125.001,-16.666 125.001,-20.333 121.334,-24 117.667,-24\" fill=\"none\" stroke=\"#000000\"/>\n",
       "<text fill=\"#000000\" font-family=\"Courier,monospace\" font-size=\"10.00\" text-anchor=\"middle\" x=\"114\" y=\"-9\">2</text>\n",
       "</g>\n",
       "<!-- 0&#45;&gt;1 -->\n",
       "<g class=\"edge\" id=\"edge3\">\n",
       "<title>0-&gt;1</title>\n",
       "<path d=\"M52.5727,-12C63.0743,-12 83.0898,-12 97.4207,-12\" fill=\"none\" stroke=\"#000000\"/>\n",
       "<polygon fill=\"#000000\" points=\"102.7916,-12 97.7917,-14.2501 100.2916,-12 97.7916,-12.0001 97.7916,-12.0001 97.7916,-12.0001 100.2916,-12 97.7916,-9.7501 102.7916,-12 102.7916,-12\" stroke=\"#000000\"/>\n",
       "<text fill=\"#000000\" font-family=\"Courier,monospace\" font-size=\"9.00\" text-anchor=\"start\" x=\"74.2996\" y=\"-16.3\">b</text>\n",
       "</g>\n",
       "<!-- 1&#45;&gt;1 -->\n",
       "<g class=\"edge\" id=\"edge4\">\n",
       "<title>1-&gt;1</title>\n",
       "<path d=\"M108.0476,-24.0139C105.969,-32.9717 107.9531,-42 114,-42 118.9131,-42 121.1441,-36.0399 120.6931,-29.0001\" fill=\"none\" stroke=\"#000000\"/>\n",
       "<polygon fill=\"#000000\" points=\"119.9524,-24.0139 122.9128,-28.629 120.3198,-26.4868 120.6872,-28.9596 120.6872,-28.9596 120.6872,-28.9596 120.3198,-26.4868 118.4616,-29.2903 119.9524,-24.0139 119.9524,-24.0139\" stroke=\"#000000\"/>\n",
       "<text fill=\"#000000\" font-family=\"Courier,monospace\" font-size=\"9.00\" text-anchor=\"start\" x=\"111.7996\" y=\"-59.8\">a</text>\n",
       "<text fill=\"#000000\" font-family=\"Courier,monospace\" font-size=\"9.00\" text-anchor=\"start\" x=\"111.7996\" y=\"-46.8\">b</text>\n",
       "</g>\n",
       "</g>\n",
       "</svg>"
      ],
      "text/plain": [
       "<IPython.core.display.SVG object>"
      ]
     },
     "metadata": {},
     "output_type": "display_data"
    }
   ],
   "source": [
    "m66 = read_csv('sipser-1-66.csv')\n",
    "m66"
   ]
  },
  {
   "cell_type": "code",
   "execution_count": 7,
   "metadata": {
    "collapsed": false
   },
   "outputs": [
    {
     "data": {
      "image/svg+xml": [
       "<svg height=\"61pt\" viewBox=\"0.00 0.00 305.01 61.00\" width=\"305pt\" xmlns=\"http://www.w3.org/2000/svg\" xmlns:xlink=\"http://www.w3.org/1999/xlink\">\n",
       "<g class=\"graph\" id=\"graph0\" transform=\"scale(1 1) rotate(0) translate(4 57)\">\n",
       "<title>%3</title>\n",
       "<polygon fill=\"#ffffff\" points=\"-4,4 -4,-57 301.0107,-57 301.0107,4 -4,4\" stroke=\"transparent\"/>\n",
       "<!-- _START -->\n",
       "<g class=\"node\" id=\"node1\">\n",
       "<title>_START</title>\n",
       "</g>\n",
       "<!-- 0 -->\n",
       "<g class=\"node\" id=\"node2\">\n",
       "<title>0</title>\n",
       "<path d=\"M70.674,-20C70.674,-20 43.3309,-20 43.3309,-20 40.6642,-20 37.9976,-17.3333 37.9976,-14.6667 37.9976,-14.6667 37.9976,-9.3333 37.9976,-9.3333 37.9976,-6.6667 40.6642,-4 43.3309,-4 43.3309,-4 70.674,-4 70.674,-4 73.3407,-4 76.0073,-6.6667 76.0073,-9.3333 76.0073,-9.3333 76.0073,-14.6667 76.0073,-14.6667 76.0073,-17.3333 73.3407,-20 70.674,-20\" fill=\"none\" stroke=\"#000000\"/>\n",
       "<text fill=\"#000000\" font-family=\"Courier,monospace\" font-size=\"10.00\" text-anchor=\"start\" x=\"42\" y=\"-9\">start</text>\n",
       "</g>\n",
       "<!-- _START&#45;&gt;0 -->\n",
       "<g class=\"edge\" id=\"edge1\">\n",
       "<title>_START-&gt;0</title>\n",
       "<path d=\"M1.1345,-12C4.3241,-12 18.9859,-12 32.4885,-12\" fill=\"none\" stroke=\"#000000\"/>\n",
       "<polygon fill=\"#000000\" points=\"37.7747,-12 32.7748,-14.2501 35.2747,-12 32.7747,-12.0001 32.7747,-12.0001 32.7747,-12.0001 35.2747,-12 32.7747,-9.7501 37.7747,-12 37.7747,-12\" stroke=\"#000000\"/>\n",
       "</g>\n",
       "<!-- 3 -->\n",
       "<g class=\"node\" id=\"node5\">\n",
       "<title>3</title>\n",
       "<path d=\"M131.8385,-20C131.8385,-20 127.1712,-20 127.1712,-20 124.8376,-20 122.5039,-17.6663 122.5039,-15.3327 122.5039,-15.3327 122.5039,-8.6673 122.5039,-8.6673 122.5039,-6.3337 124.8376,-4 127.1712,-4 127.1712,-4 131.8385,-4 131.8385,-4 134.1722,-4 136.5059,-6.3337 136.5059,-8.6673 136.5059,-8.6673 136.5059,-15.3327 136.5059,-15.3327 136.5059,-17.6663 134.1722,-20 131.8385,-20\" fill=\"none\" stroke=\"#000000\"/>\n",
       "<text fill=\"#000000\" font-family=\"Courier,monospace\" font-size=\"10.00\" text-anchor=\"middle\" x=\"129.5049\" y=\"-9\">1</text>\n",
       "</g>\n",
       "<!-- 0&#45;&gt;3 -->\n",
       "<g class=\"edge\" id=\"edge2\">\n",
       "<title>0-&gt;3</title>\n",
       "<path d=\"M76.0516,-12C89.0316,-12 105.8419,-12 117.1145,-12\" fill=\"none\" stroke=\"#000000\"/>\n",
       "<polygon fill=\"#000000\" points=\"122.1624,-12 117.1624,-14.2501 119.6624,-12 117.1624,-12.0001 117.1624,-12.0001 117.1624,-12.0001 119.6624,-12 117.1623,-9.7501 122.1624,-12 122.1624,-12\" stroke=\"#000000\"/>\n",
       "<text fill=\"#000000\" font-family=\"Courier,monospace\" font-size=\"9.00\" text-anchor=\"start\" x=\"96.9175\" y=\"-17.8\">ε</text>\n",
       "</g>\n",
       "<!-- 1 -->\n",
       "<g class=\"node\" id=\"node3\">\n",
       "<title>1</title>\n",
       "<path d=\"M287.6799,-20C287.6799,-20 254.3357,-20 254.3357,-20 251.6691,-20 249.0024,-17.3333 249.0024,-14.6667 249.0024,-14.6667 249.0024,-9.3333 249.0024,-9.3333 249.0024,-6.6667 251.6691,-4 254.3357,-4 254.3357,-4 287.6799,-4 287.6799,-4 290.3466,-4 293.0132,-6.6667 293.0132,-9.3333 293.0132,-9.3333 293.0132,-14.6667 293.0132,-14.6667 293.0132,-17.3333 290.3466,-20 287.6799,-20\" fill=\"none\" stroke=\"#000000\"/>\n",
       "<path d=\"M289.0137,-24C289.0137,-24 253.002,-24 253.002,-24 249.002,-24 245.002,-20 245.002,-16 245.002,-16 245.002,-8 245.002,-8 245.002,-4 249.002,0 253.002,0 253.002,0 289.0137,0 289.0137,0 293.0137,0 297.0137,-4 297.0137,-8 297.0137,-8 297.0137,-16 297.0137,-16 297.0137,-20 293.0137,-24 289.0137,-24\" fill=\"none\" stroke=\"#000000\"/>\n",
       "<text fill=\"#000000\" font-family=\"Courier,monospace\" font-size=\"10.00\" text-anchor=\"start\" x=\"253.0049\" y=\"-9\">accept</text>\n",
       "</g>\n",
       "<!-- 2 -->\n",
       "<g class=\"node\" id=\"node4\">\n",
       "<title>2</title>\n",
       "<path d=\"M193.8385,-20C193.8385,-20 189.1712,-20 189.1712,-20 186.8376,-20 184.5039,-17.6663 184.5039,-15.3327 184.5039,-15.3327 184.5039,-8.6673 184.5039,-8.6673 184.5039,-6.3337 186.8376,-4 189.1712,-4 189.1712,-4 193.8385,-4 193.8385,-4 196.1722,-4 198.5059,-6.3337 198.5059,-8.6673 198.5059,-8.6673 198.5059,-15.3327 198.5059,-15.3327 198.5059,-17.6663 196.1722,-20 193.8385,-20\" fill=\"none\" stroke=\"#000000\"/>\n",
       "<text fill=\"#000000\" font-family=\"Courier,monospace\" font-size=\"10.00\" text-anchor=\"middle\" x=\"191.5049\" y=\"-9\">2</text>\n",
       "</g>\n",
       "<!-- 2&#45;&gt;1 -->\n",
       "<g class=\"edge\" id=\"edge5\">\n",
       "<title>2-&gt;1</title>\n",
       "<path d=\"M198.5602,-12C207.8471,-12 224.7732,-12 239.9304,-12\" fill=\"none\" stroke=\"#000000\"/>\n",
       "<polygon fill=\"#000000\" points=\"244.9893,-12 239.9894,-14.2501 242.4893,-12 239.9893,-12.0001 239.9893,-12.0001 239.9893,-12.0001 242.4893,-12 239.9893,-9.7501 244.9893,-12 244.9893,-12\" stroke=\"#000000\"/>\n",
       "<text fill=\"#000000\" font-family=\"Courier,monospace\" font-size=\"9.00\" text-anchor=\"start\" x=\"219.9175\" y=\"-17.8\">ε</text>\n",
       "</g>\n",
       "<!-- 2&#45;&gt;2 -->\n",
       "<g class=\"edge\" id=\"edge6\">\n",
       "<title>2-&gt;2</title>\n",
       "<path d=\"M187.1158,-20.2534C184.5341,-28.652 185.9971,-38 191.5049,-38 195.8939,-38 197.7145,-32.0639 196.9665,-25.4025\" fill=\"none\" stroke=\"#000000\"/>\n",
       "<polygon fill=\"#000000\" points=\"195.8939,-20.2534 199.1164,-24.6895 196.4038,-22.7009 196.9137,-25.1484 196.9137,-25.1484 196.9137,-25.1484 196.4038,-22.7009 194.7109,-25.6073 195.8939,-20.2534 195.8939,-20.2534\" stroke=\"#000000\"/>\n",
       "<text fill=\"#000000\" font-family=\"Courier,monospace\" font-size=\"9.00\" text-anchor=\"start\" x=\"183.4036\" y=\"-42.3\">a|b</text>\n",
       "</g>\n",
       "<!-- 3&#45;&gt;2 -->\n",
       "<g class=\"edge\" id=\"edge4\">\n",
       "<title>3-&gt;2</title>\n",
       "<path d=\"M136.6171,-12C146.9883,-12 166.4105,-12 179.1494,-12\" fill=\"none\" stroke=\"#000000\"/>\n",
       "<polygon fill=\"#000000\" points=\"184.4756,-12 179.4757,-14.2501 181.9756,-12 179.4756,-12.0001 179.4756,-12.0001 179.4756,-12.0001 181.9756,-12 179.4756,-9.7501 184.4756,-12 184.4756,-12\" stroke=\"#000000\"/>\n",
       "<text fill=\"#000000\" font-family=\"Courier,monospace\" font-size=\"9.00\" text-anchor=\"start\" x=\"158.3044\" y=\"-16.3\">b</text>\n",
       "</g>\n",
       "<!-- 3&#45;&gt;3 -->\n",
       "<g class=\"edge\" id=\"edge3\">\n",
       "<title>3-&gt;3</title>\n",
       "<path d=\"M125.1158,-20.2534C122.5341,-28.652 123.9971,-38 129.5049,-38 133.8939,-38 135.7145,-32.0639 134.9665,-25.4025\" fill=\"none\" stroke=\"#000000\"/>\n",
       "<polygon fill=\"#000000\" points=\"133.8939,-20.2534 137.1164,-24.6895 134.4038,-22.7009 134.9137,-25.1484 134.9137,-25.1484 134.9137,-25.1484 134.4038,-22.7009 132.7109,-25.6073 133.8939,-20.2534 133.8939,-20.2534\" stroke=\"#000000\"/>\n",
       "<text fill=\"#000000\" font-family=\"Courier,monospace\" font-size=\"9.00\" text-anchor=\"start\" x=\"127.3044\" y=\"-42.3\">a</text>\n",
       "</g>\n",
       "</g>\n",
       "</svg>"
      ],
      "text/plain": [
       "<IPython.core.display.SVG object>"
      ]
     },
     "metadata": {},
     "output_type": "display_data"
    },
    {
     "data": {
      "text/html": [
       "eliminate 2"
      ],
      "text/plain": [
       "<IPython.core.display.HTML object>"
      ]
     },
     "metadata": {},
     "output_type": "display_data"
    },
    {
     "data": {
      "image/svg+xml": [
       "<svg height=\"61pt\" viewBox=\"0.00 0.00 282.01 61.00\" width=\"282pt\" xmlns=\"http://www.w3.org/2000/svg\" xmlns:xlink=\"http://www.w3.org/1999/xlink\">\n",
       "<g class=\"graph\" id=\"graph0\" transform=\"scale(1 1) rotate(0) translate(4 57)\">\n",
       "<title>%3</title>\n",
       "<polygon fill=\"#ffffff\" points=\"-4,4 -4,-57 278.0107,-57 278.0107,4 -4,4\" stroke=\"transparent\"/>\n",
       "<!-- _START -->\n",
       "<g class=\"node\" id=\"node1\">\n",
       "<title>_START</title>\n",
       "</g>\n",
       "<!-- 0 -->\n",
       "<g class=\"node\" id=\"node2\">\n",
       "<title>0</title>\n",
       "<path d=\"M70.674,-20C70.674,-20 43.3309,-20 43.3309,-20 40.6642,-20 37.9976,-17.3333 37.9976,-14.6667 37.9976,-14.6667 37.9976,-9.3333 37.9976,-9.3333 37.9976,-6.6667 40.6642,-4 43.3309,-4 43.3309,-4 70.674,-4 70.674,-4 73.3407,-4 76.0073,-6.6667 76.0073,-9.3333 76.0073,-9.3333 76.0073,-14.6667 76.0073,-14.6667 76.0073,-17.3333 73.3407,-20 70.674,-20\" fill=\"none\" stroke=\"#000000\"/>\n",
       "<text fill=\"#000000\" font-family=\"Courier,monospace\" font-size=\"10.00\" text-anchor=\"start\" x=\"42\" y=\"-9\">start</text>\n",
       "</g>\n",
       "<!-- _START&#45;&gt;0 -->\n",
       "<g class=\"edge\" id=\"edge1\">\n",
       "<title>_START-&gt;0</title>\n",
       "<path d=\"M1.1345,-12C4.3241,-12 18.9859,-12 32.4885,-12\" fill=\"none\" stroke=\"#000000\"/>\n",
       "<polygon fill=\"#000000\" points=\"37.7747,-12 32.7748,-14.2501 35.2747,-12 32.7747,-12.0001 32.7747,-12.0001 32.7747,-12.0001 35.2747,-12 32.7747,-9.7501 37.7747,-12 37.7747,-12\" stroke=\"#000000\"/>\n",
       "</g>\n",
       "<!-- 2 -->\n",
       "<g class=\"node\" id=\"node4\">\n",
       "<title>2</title>\n",
       "<path d=\"M131.8385,-20C131.8385,-20 127.1712,-20 127.1712,-20 124.8376,-20 122.5039,-17.6663 122.5039,-15.3327 122.5039,-15.3327 122.5039,-8.6673 122.5039,-8.6673 122.5039,-6.3337 124.8376,-4 127.1712,-4 127.1712,-4 131.8385,-4 131.8385,-4 134.1722,-4 136.5059,-6.3337 136.5059,-8.6673 136.5059,-8.6673 136.5059,-15.3327 136.5059,-15.3327 136.5059,-17.6663 134.1722,-20 131.8385,-20\" fill=\"none\" stroke=\"#000000\"/>\n",
       "<text fill=\"#000000\" font-family=\"Courier,monospace\" font-size=\"10.00\" text-anchor=\"middle\" x=\"129.5049\" y=\"-9\">1</text>\n",
       "</g>\n",
       "<!-- 0&#45;&gt;2 -->\n",
       "<g class=\"edge\" id=\"edge2\">\n",
       "<title>0-&gt;2</title>\n",
       "<path d=\"M76.0516,-12C89.0316,-12 105.8419,-12 117.1145,-12\" fill=\"none\" stroke=\"#000000\"/>\n",
       "<polygon fill=\"#000000\" points=\"122.1624,-12 117.1624,-14.2501 119.6624,-12 117.1624,-12.0001 117.1624,-12.0001 117.1624,-12.0001 119.6624,-12 117.1623,-9.7501 122.1624,-12 122.1624,-12\" stroke=\"#000000\"/>\n",
       "<text fill=\"#000000\" font-family=\"Courier,monospace\" font-size=\"9.00\" text-anchor=\"start\" x=\"96.9175\" y=\"-17.8\">ε</text>\n",
       "</g>\n",
       "<!-- 1 -->\n",
       "<g class=\"node\" id=\"node3\">\n",
       "<title>1</title>\n",
       "<path d=\"M264.6799,-20C264.6799,-20 231.3357,-20 231.3357,-20 228.6691,-20 226.0024,-17.3333 226.0024,-14.6667 226.0024,-14.6667 226.0024,-9.3333 226.0024,-9.3333 226.0024,-6.6667 228.6691,-4 231.3357,-4 231.3357,-4 264.6799,-4 264.6799,-4 267.3466,-4 270.0132,-6.6667 270.0132,-9.3333 270.0132,-9.3333 270.0132,-14.6667 270.0132,-14.6667 270.0132,-17.3333 267.3466,-20 264.6799,-20\" fill=\"none\" stroke=\"#000000\"/>\n",
       "<path d=\"M266.0137,-24C266.0137,-24 230.002,-24 230.002,-24 226.002,-24 222.002,-20 222.002,-16 222.002,-16 222.002,-8 222.002,-8 222.002,-4 226.002,0 230.002,0 230.002,0 266.0137,0 266.0137,0 270.0137,0 274.0137,-4 274.0137,-8 274.0137,-8 274.0137,-16 274.0137,-16 274.0137,-20 270.0137,-24 266.0137,-24\" fill=\"none\" stroke=\"#000000\"/>\n",
       "<text fill=\"#000000\" font-family=\"Courier,monospace\" font-size=\"10.00\" text-anchor=\"start\" x=\"230.0049\" y=\"-9\">accept</text>\n",
       "</g>\n",
       "<!-- 2&#45;&gt;1 -->\n",
       "<g class=\"edge\" id=\"edge3\">\n",
       "<title>2-&gt;1</title>\n",
       "<path d=\"M136.5629,-12C151.8847,-12 189.001,-12 216.2062,-12\" fill=\"none\" stroke=\"#000000\"/>\n",
       "<polygon fill=\"#000000\" points=\"221.5057,-12 216.5057,-14.2501 219.0057,-12 216.5057,-12.0001 216.5057,-12.0001 216.5057,-12.0001 219.0057,-12 216.5056,-9.7501 221.5057,-12 221.5057,-12\" stroke=\"#000000\"/>\n",
       "<text fill=\"#000000\" font-family=\"Courier,monospace\" font-size=\"9.00\" text-anchor=\"start\" x=\"158.4014\" y=\"-16.3\">b (a|b)*</text>\n",
       "</g>\n",
       "<!-- 2&#45;&gt;2 -->\n",
       "<g class=\"edge\" id=\"edge4\">\n",
       "<title>2-&gt;2</title>\n",
       "<path d=\"M125.1158,-20.2534C122.5341,-28.652 123.9971,-38 129.5049,-38 133.8939,-38 135.7145,-32.0639 134.9665,-25.4025\" fill=\"none\" stroke=\"#000000\"/>\n",
       "<polygon fill=\"#000000\" points=\"133.8939,-20.2534 137.1164,-24.6895 134.4038,-22.7009 134.9137,-25.1484 134.9137,-25.1484 134.9137,-25.1484 134.4038,-22.7009 132.7109,-25.6073 133.8939,-20.2534 133.8939,-20.2534\" stroke=\"#000000\"/>\n",
       "<text fill=\"#000000\" font-family=\"Courier,monospace\" font-size=\"9.00\" text-anchor=\"start\" x=\"127.3044\" y=\"-42.3\">a</text>\n",
       "</g>\n",
       "</g>\n",
       "</svg>"
      ],
      "text/plain": [
       "<IPython.core.display.SVG object>"
      ]
     },
     "metadata": {},
     "output_type": "display_data"
    },
    {
     "data": {
      "text/html": [
       "eliminate 1"
      ],
      "text/plain": [
       "<IPython.core.display.HTML object>"
      ]
     },
     "metadata": {},
     "output_type": "display_data"
    },
    {
     "data": {
      "image/svg+xml": [
       "<svg height=\"35pt\" viewBox=\"0.00 0.00 237.01 35.00\" width=\"237pt\" xmlns=\"http://www.w3.org/2000/svg\" xmlns:xlink=\"http://www.w3.org/1999/xlink\">\n",
       "<g class=\"graph\" id=\"graph0\" transform=\"scale(1 1) rotate(0) translate(4 31)\">\n",
       "<title>%3</title>\n",
       "<polygon fill=\"#ffffff\" points=\"-4,4 -4,-31 233.0107,-31 233.0107,4 -4,4\" stroke=\"transparent\"/>\n",
       "<!-- _START -->\n",
       "<g class=\"node\" id=\"node1\">\n",
       "<title>_START</title>\n",
       "</g>\n",
       "<!-- 0 -->\n",
       "<g class=\"node\" id=\"node2\">\n",
       "<title>0</title>\n",
       "<path d=\"M70.674,-20C70.674,-20 43.3309,-20 43.3309,-20 40.6642,-20 37.9976,-17.3333 37.9976,-14.6667 37.9976,-14.6667 37.9976,-9.3333 37.9976,-9.3333 37.9976,-6.6667 40.6642,-4 43.3309,-4 43.3309,-4 70.674,-4 70.674,-4 73.3407,-4 76.0073,-6.6667 76.0073,-9.3333 76.0073,-9.3333 76.0073,-14.6667 76.0073,-14.6667 76.0073,-17.3333 73.3407,-20 70.674,-20\" fill=\"none\" stroke=\"#000000\"/>\n",
       "<text fill=\"#000000\" font-family=\"Courier,monospace\" font-size=\"10.00\" text-anchor=\"start\" x=\"42\" y=\"-9\">start</text>\n",
       "</g>\n",
       "<!-- _START&#45;&gt;0 -->\n",
       "<g class=\"edge\" id=\"edge1\">\n",
       "<title>_START-&gt;0</title>\n",
       "<path d=\"M1.1345,-12C4.3241,-12 18.9859,-12 32.4885,-12\" fill=\"none\" stroke=\"#000000\"/>\n",
       "<polygon fill=\"#000000\" points=\"37.7747,-12 32.7748,-14.2501 35.2747,-12 32.7747,-12.0001 32.7747,-12.0001 32.7747,-12.0001 35.2747,-12 32.7747,-9.7501 37.7747,-12 37.7747,-12\" stroke=\"#000000\"/>\n",
       "</g>\n",
       "<!-- 1 -->\n",
       "<g class=\"node\" id=\"node3\">\n",
       "<title>1</title>\n",
       "<path d=\"M219.6799,-20C219.6799,-20 186.3357,-20 186.3357,-20 183.6691,-20 181.0024,-17.3333 181.0024,-14.6667 181.0024,-14.6667 181.0024,-9.3333 181.0024,-9.3333 181.0024,-6.6667 183.6691,-4 186.3357,-4 186.3357,-4 219.6799,-4 219.6799,-4 222.3466,-4 225.0132,-6.6667 225.0132,-9.3333 225.0132,-9.3333 225.0132,-14.6667 225.0132,-14.6667 225.0132,-17.3333 222.3466,-20 219.6799,-20\" fill=\"none\" stroke=\"#000000\"/>\n",
       "<path d=\"M221.0137,-24C221.0137,-24 185.002,-24 185.002,-24 181.002,-24 177.002,-20 177.002,-16 177.002,-16 177.002,-8 177.002,-8 177.002,-4 181.002,0 185.002,0 185.002,0 221.0137,0 221.0137,0 225.0137,0 229.0137,-4 229.0137,-8 229.0137,-8 229.0137,-16 229.0137,-16 229.0137,-20 225.0137,-24 221.0137,-24\" fill=\"none\" stroke=\"#000000\"/>\n",
       "<text fill=\"#000000\" font-family=\"Courier,monospace\" font-size=\"10.00\" text-anchor=\"start\" x=\"185.0049\" y=\"-9\">accept</text>\n",
       "</g>\n",
       "<!-- 0&#45;&gt;1 -->\n",
       "<g class=\"edge\" id=\"edge2\">\n",
       "<title>0-&gt;1</title>\n",
       "<path d=\"M76.0901,-12C100.3221,-12 142.4605,-12 171.4935,-12\" fill=\"none\" stroke=\"#000000\"/>\n",
       "<polygon fill=\"#000000\" points=\"176.7548,-12 171.7549,-14.2501 174.2548,-12 171.7548,-12.0001 171.7548,-12.0001 171.7548,-12.0001 174.2548,-12 171.7548,-9.7501 176.7548,-12 176.7548,-12\" stroke=\"#000000\"/>\n",
       "<text fill=\"#000000\" font-family=\"Courier,monospace\" font-size=\"9.00\" text-anchor=\"start\" x=\"97.3\" y=\"-16.3\">a* b (a|b)*</text>\n",
       "</g>\n",
       "</g>\n",
       "</svg>"
      ],
      "text/plain": [
       "<IPython.core.display.SVG object>"
      ]
     },
     "metadata": {},
     "output_type": "display_data"
    },
    {
     "data": {
      "text/html": [
       "a* b (a|b)*"
      ],
      "text/plain": [
       "<tock.regexps.RegularExpression at 0x10a1a29e8>"
      ]
     },
     "execution_count": 7,
     "metadata": {},
     "output_type": "execute_result"
    }
   ],
   "source": [
    "to_regexp(m66, display_steps=True)"
   ]
  },
  {
   "cell_type": "code",
   "execution_count": 8,
   "metadata": {
    "collapsed": false
   },
   "outputs": [
    {
     "data": {
      "image/svg+xml": [
       "<svg height=\"91pt\" viewBox=\"0.00 0.00 198.00 90.82\" width=\"198pt\" xmlns=\"http://www.w3.org/2000/svg\" xmlns:xlink=\"http://www.w3.org/1999/xlink\">\n",
       "<g class=\"graph\" id=\"graph0\" transform=\"scale(1 1) rotate(0) translate(4 86.817)\">\n",
       "<title>%3</title>\n",
       "<polygon fill=\"#ffffff\" points=\"-4,4 -4,-86.817 194.0029,-86.817 194.0029,4 -4,4\" stroke=\"transparent\"/>\n",
       "<!-- _START -->\n",
       "<g class=\"node\" id=\"node1\">\n",
       "<title>_START</title>\n",
       "</g>\n",
       "<!-- 0 -->\n",
       "<g class=\"node\" id=\"node2\">\n",
       "<title>0</title>\n",
       "<path d=\"M47.3341,-48.817C47.3341,-48.817 42.6668,-48.817 42.6668,-48.817 40.3332,-48.817 37.9995,-46.4834 37.9995,-44.1497 37.9995,-44.1497 37.9995,-37.4843 37.9995,-37.4843 37.9995,-35.1507 40.3332,-32.817 42.6668,-32.817 42.6668,-32.817 47.3341,-32.817 47.3341,-32.817 49.6678,-32.817 52.0015,-35.1507 52.0015,-37.4843 52.0015,-37.4843 52.0015,-44.1497 52.0015,-44.1497 52.0015,-46.4834 49.6678,-48.817 47.3341,-48.817\" fill=\"none\" stroke=\"#000000\"/>\n",
       "<text fill=\"#000000\" font-family=\"Courier,monospace\" font-size=\"10.00\" text-anchor=\"start\" x=\"42\" y=\"-37.817\">1</text>\n",
       "</g>\n",
       "<!-- _START&#45;&gt;0 -->\n",
       "<g class=\"edge\" id=\"edge1\">\n",
       "<title>_START-&gt;0</title>\n",
       "<path d=\"M1.2724,-40.817C4.962,-40.817 21.0921,-40.817 32.6887,-40.817\" fill=\"none\" stroke=\"#000000\"/>\n",
       "<polygon fill=\"#000000\" points=\"37.9431,-40.817 32.9432,-43.0671 35.4431,-40.8171 32.9431,-40.8171 32.9431,-40.8171 32.9431,-40.8171 35.4431,-40.8171 32.9431,-38.5671 37.9431,-40.817 37.9431,-40.817\" stroke=\"#000000\"/>\n",
       "</g>\n",
       "<!-- 1 -->\n",
       "<g class=\"node\" id=\"node3\">\n",
       "<title>1</title>\n",
       "<path d=\"M181.336,-45.817C181.336,-45.817 176.6688,-45.817 176.6688,-45.817 174.3352,-45.817 172.0016,-43.4834 172.0016,-41.1498 172.0016,-41.1498 172.0016,-34.4842 172.0016,-34.4842 172.0016,-32.1506 174.3352,-29.817 176.6688,-29.817 176.6688,-29.817 181.336,-29.817 181.336,-29.817 183.6696,-29.817 186.0032,-32.1506 186.0032,-34.4842 186.0032,-34.4842 186.0032,-41.1498 186.0032,-41.1498 186.0032,-43.4834 183.6696,-45.817 181.336,-45.817\" fill=\"none\" stroke=\"#000000\"/>\n",
       "<path d=\"M182.6694,-49.817C182.6694,-49.817 175.3354,-49.817 175.3354,-49.817 171.6685,-49.817 168.0015,-46.15 168.0015,-42.483 168.0015,-42.483 168.0015,-33.151 168.0015,-33.151 168.0015,-29.484 171.6685,-25.817 175.3354,-25.817 175.3354,-25.817 182.6694,-25.817 182.6694,-25.817 186.3364,-25.817 190.0034,-29.484 190.0034,-33.151 190.0034,-33.151 190.0034,-42.483 190.0034,-42.483 190.0034,-46.15 186.3364,-49.817 182.6694,-49.817\" fill=\"none\" stroke=\"#000000\"/>\n",
       "<text fill=\"#000000\" font-family=\"Courier,monospace\" font-size=\"10.00\" text-anchor=\"middle\" x=\"179.0024\" y=\"-34.817\">2</text>\n",
       "</g>\n",
       "<!-- 0&#45;&gt;1 -->\n",
       "<g class=\"edge\" id=\"edge2\">\n",
       "<title>0-&gt;1</title>\n",
       "<path d=\"M52.2796,-47.4041C56.9742,-51.2126 63.4153,-55.6651 70.001,-57.817 103.8011,-68.8614 116.2981,-68.1519 150.002,-56.817 154.6944,-55.2389 159.3653,-52.7135 163.5439,-50.0125\" fill=\"none\" stroke=\"#000000\"/>\n",
       "<polygon fill=\"#000000\" points=\"167.8629,-47.0492 165.013,-51.7333 165.8014,-48.4636 163.74,-49.878 163.74,-49.878 163.74,-49.878 165.8014,-48.4636 162.467,-48.0227 167.8629,-47.0492 167.8629,-47.0492\" stroke=\"#000000\"/>\n",
       "<text fill=\"#000000\" font-family=\"Courier,monospace\" font-size=\"9.00\" text-anchor=\"start\" x=\"107.801\" y=\"-69.117\">a</text>\n",
       "</g>\n",
       "<!-- 2 -->\n",
       "<g class=\"node\" id=\"node4\">\n",
       "<title>2</title>\n",
       "<path d=\"M112.3351,-45.817C112.3351,-45.817 107.6679,-45.817 107.6679,-45.817 105.3343,-45.817 103.0007,-43.4834 103.0007,-41.1498 103.0007,-41.1498 103.0007,-34.4842 103.0007,-34.4842 103.0007,-32.1506 105.3343,-29.817 107.6679,-29.817 107.6679,-29.817 112.3351,-29.817 112.3351,-29.817 114.6687,-29.817 117.0023,-32.1506 117.0023,-34.4842 117.0023,-34.4842 117.0023,-41.1498 117.0023,-41.1498 117.0023,-43.4834 114.6687,-45.817 112.3351,-45.817\" fill=\"none\" stroke=\"#000000\"/>\n",
       "<path d=\"M113.6685,-49.817C113.6685,-49.817 106.3345,-49.817 106.3345,-49.817 102.6675,-49.817 99.0005,-46.15 99.0005,-42.483 99.0005,-42.483 99.0005,-33.151 99.0005,-33.151 99.0005,-29.484 102.6675,-25.817 106.3345,-25.817 106.3345,-25.817 113.6685,-25.817 113.6685,-25.817 117.3354,-25.817 121.0024,-29.484 121.0024,-33.151 121.0024,-33.151 121.0024,-42.483 121.0024,-42.483 121.0024,-46.15 117.3354,-49.817 113.6685,-49.817\" fill=\"none\" stroke=\"#000000\"/>\n",
       "<text fill=\"#000000\" font-family=\"Courier,monospace\" font-size=\"10.00\" text-anchor=\"start\" x=\"107.001\" y=\"-34.817\">3</text>\n",
       "</g>\n",
       "<!-- 0&#45;&gt;2 -->\n",
       "<g class=\"edge\" id=\"edge3\">\n",
       "<title>0-&gt;2</title>\n",
       "<path d=\"M52.2051,-40.4845C62.1265,-40.0266 80.2787,-39.1888 93.6014,-38.5739\" fill=\"none\" stroke=\"#000000\"/>\n",
       "<polygon fill=\"#000000\" points=\"98.6211,-38.3423 93.7302,-40.8205 96.1237,-38.4576 93.6264,-38.5729 93.6264,-38.5729 93.6264,-38.5729 96.1237,-38.4576 93.5226,-36.3253 98.6211,-38.3423 98.6211,-38.3423\" stroke=\"#000000\"/>\n",
       "<text fill=\"#000000\" font-family=\"Courier,monospace\" font-size=\"9.00\" text-anchor=\"start\" x=\"73.3005\" y=\"-43.117\">b</text>\n",
       "</g>\n",
       "<!-- 1&#45;&gt;0 -->\n",
       "<g class=\"edge\" id=\"edge6\">\n",
       "<title>1-&gt;0</title>\n",
       "<path d=\"M167.9278,-28.2865C156.8827,-19.4611 139.0097,-6.9513 121.002,-1.817 111.5985,.8641 108.5916,.0889 99.001,-1.817 85.3198,-4.5358 81.4493,-5.8481 70.001,-13.817 64.1843,-17.8659 58.714,-23.476 54.3823,-28.5338\" fill=\"none\" stroke=\"#000000\"/>\n",
       "<polygon fill=\"#000000\" points=\"51.0288,-32.6062 52.4703,-27.3161 52.618,-30.6763 54.2072,-28.7464 54.2072,-28.7464 54.2072,-28.7464 52.618,-30.6763 55.9441,-30.1767 51.0288,-32.6062 51.0288,-32.6062\" stroke=\"#000000\"/>\n",
       "<text fill=\"#000000\" font-family=\"Courier,monospace\" font-size=\"9.00\" text-anchor=\"start\" x=\"107.801\" y=\"-6.117\">a</text>\n",
       "</g>\n",
       "<!-- 1&#45;&gt;1 -->\n",
       "<g class=\"edge\" id=\"edge7\">\n",
       "<title>1-&gt;1</title>\n",
       "<path d=\"M173.3807,-49.8309C171.4176,-58.7887 173.2915,-67.817 179.0024,-67.817 183.6426,-67.817 185.7497,-61.8569 185.3237,-54.8171\" fill=\"none\" stroke=\"#000000\"/>\n",
       "<polygon fill=\"#000000\" points=\"184.6241,-49.8309 187.5471,-54.4698 184.9715,-52.3067 185.3189,-54.7824 185.3189,-54.7824 185.3189,-54.7824 184.9715,-52.3067 183.0908,-55.0951 184.6241,-49.8309 184.6241,-49.8309\" stroke=\"#000000\"/>\n",
       "<text fill=\"#000000\" font-family=\"Courier,monospace\" font-size=\"9.00\" text-anchor=\"start\" x=\"176.802\" y=\"-72.117\">b</text>\n",
       "</g>\n",
       "<!-- 2&#45;&gt;0 -->\n",
       "<g class=\"edge\" id=\"edge5\">\n",
       "<title>2-&gt;0</title>\n",
       "<path d=\"M98.9759,-27.8313C91.0423,-21.8934 80.0184,-16.168 70.001,-19.817 64.7282,-21.7377 59.7947,-25.3134 55.7267,-28.9769\" fill=\"none\" stroke=\"#000000\"/>\n",
       "<polygon fill=\"#000000\" points=\"51.9666,-32.6116 53.9978,-27.5187 53.7641,-30.874 55.5616,-29.1365 55.5616,-29.1365 55.5616,-29.1365 53.7641,-30.874 57.1254,-30.7542 51.9666,-32.6116 51.9666,-32.6116\" stroke=\"#000000\"/>\n",
       "<text fill=\"#000000\" font-family=\"Courier,monospace\" font-size=\"9.00\" text-anchor=\"start\" x=\"73.3005\" y=\"-24.117\">b</text>\n",
       "</g>\n",
       "<!-- 2&#45;&gt;1 -->\n",
       "<g class=\"edge\" id=\"edge4\">\n",
       "<title>2-&gt;1</title>\n",
       "<path d=\"M121.0877,-37.817C132.2878,-37.817 149.7213,-37.817 162.5366,-37.817\" fill=\"none\" stroke=\"#000000\"/>\n",
       "<polygon fill=\"#000000\" points=\"167.7145,-37.817 162.7146,-40.0671 165.2145,-37.8171 162.7145,-37.8171 162.7145,-37.8171 162.7145,-37.8171 165.2145,-37.8171 162.7145,-35.5671 167.7145,-37.817 167.7145,-37.817\" stroke=\"#000000\"/>\n",
       "<text fill=\"#000000\" font-family=\"Courier,monospace\" font-size=\"9.00\" text-anchor=\"start\" x=\"142.3015\" y=\"-42.117\">a</text>\n",
       "</g>\n",
       "</g>\n",
       "</svg>"
      ],
      "text/plain": [
       "<IPython.core.display.SVG object>"
      ]
     },
     "metadata": {},
     "output_type": "display_data"
    }
   ],
   "source": [
    "m68 = read_csv('sipser-1-68.csv')\n",
    "m68"
   ]
  },
  {
   "cell_type": "code",
   "execution_count": 9,
   "metadata": {
    "collapsed": false
   },
   "outputs": [
    {
     "data": {
      "image/svg+xml": [
       "<svg height=\"105pt\" viewBox=\"0.00 0.00 365.01 105.00\" width=\"365pt\" xmlns=\"http://www.w3.org/2000/svg\" xmlns:xlink=\"http://www.w3.org/1999/xlink\">\n",
       "<g class=\"graph\" id=\"graph0\" transform=\"scale(1 1) rotate(0) translate(4 101)\">\n",
       "<title>%3</title>\n",
       "<polygon fill=\"#ffffff\" points=\"-4,4 -4,-101 361.0127,-101 361.0127,4 -4,4\" stroke=\"transparent\"/>\n",
       "<!-- _START -->\n",
       "<g class=\"node\" id=\"node1\">\n",
       "<title>_START</title>\n",
       "</g>\n",
       "<!-- 0 -->\n",
       "<g class=\"node\" id=\"node2\">\n",
       "<title>0</title>\n",
       "<path d=\"M70.674,-55C70.674,-55 43.3309,-55 43.3309,-55 40.6642,-55 37.9976,-52.3333 37.9976,-49.6667 37.9976,-49.6667 37.9976,-44.3333 37.9976,-44.3333 37.9976,-41.6667 40.6642,-39 43.3309,-39 43.3309,-39 70.674,-39 70.674,-39 73.3407,-39 76.0073,-41.6667 76.0073,-44.3333 76.0073,-44.3333 76.0073,-49.6667 76.0073,-49.6667 76.0073,-52.3333 73.3407,-55 70.674,-55\" fill=\"none\" stroke=\"#000000\"/>\n",
       "<text fill=\"#000000\" font-family=\"Courier,monospace\" font-size=\"10.00\" text-anchor=\"start\" x=\"42\" y=\"-44\">start</text>\n",
       "</g>\n",
       "<!-- _START&#45;&gt;0 -->\n",
       "<g class=\"edge\" id=\"edge1\">\n",
       "<title>_START-&gt;0</title>\n",
       "<path d=\"M1.1345,-47C4.3241,-47 18.9859,-47 32.4885,-47\" fill=\"none\" stroke=\"#000000\"/>\n",
       "<polygon fill=\"#000000\" points=\"37.7747,-47 32.7748,-49.2501 35.2747,-47 32.7747,-47.0001 32.7747,-47.0001 32.7747,-47.0001 35.2747,-47 32.7747,-44.7501 37.7747,-47 37.7747,-47\" stroke=\"#000000\"/>\n",
       "</g>\n",
       "<!-- 4 -->\n",
       "<g class=\"node\" id=\"node6\">\n",
       "<title>4</title>\n",
       "<path d=\"M131.339,-55C131.339,-55 126.6717,-55 126.6717,-55 124.3381,-55 122.0044,-52.6663 122.0044,-50.3327 122.0044,-50.3327 122.0044,-43.6673 122.0044,-43.6673 122.0044,-41.3337 124.3381,-39 126.6717,-39 126.6717,-39 131.339,-39 131.339,-39 133.6727,-39 136.0063,-41.3337 136.0063,-43.6673 136.0063,-43.6673 136.0063,-50.3327 136.0063,-50.3327 136.0063,-52.6663 133.6727,-55 131.339,-55\" fill=\"none\" stroke=\"#000000\"/>\n",
       "<text fill=\"#000000\" font-family=\"Courier,monospace\" font-size=\"10.00\" text-anchor=\"middle\" x=\"129.0054\" y=\"-44\">1</text>\n",
       "</g>\n",
       "<!-- 0&#45;&gt;4 -->\n",
       "<g class=\"edge\" id=\"edge2\">\n",
       "<title>0-&gt;4</title>\n",
       "<path d=\"M76.2979,-47C89.0682,-47 105.442,-47 116.5258,-47\" fill=\"none\" stroke=\"#000000\"/>\n",
       "<polygon fill=\"#000000\" points=\"121.7926,-47 116.7926,-49.2501 119.2926,-47 116.7926,-47.0001 116.7926,-47.0001 116.7926,-47.0001 119.2926,-47 116.7925,-44.7501 121.7926,-47 121.7926,-47\" stroke=\"#000000\"/>\n",
       "<text fill=\"#000000\" font-family=\"Courier,monospace\" font-size=\"9.00\" text-anchor=\"start\" x=\"96.9175\" y=\"-52.8\">ε</text>\n",
       "</g>\n",
       "<!-- 1 -->\n",
       "<g class=\"node\" id=\"node3\">\n",
       "<title>1</title>\n",
       "<path d=\"M347.6818,-23C347.6818,-23 314.3377,-23 314.3377,-23 311.671,-23 309.0044,-20.3333 309.0044,-17.6667 309.0044,-17.6667 309.0044,-12.3333 309.0044,-12.3333 309.0044,-9.6667 311.671,-7 314.3377,-7 314.3377,-7 347.6818,-7 347.6818,-7 350.3485,-7 353.0152,-9.6667 353.0152,-12.3333 353.0152,-12.3333 353.0152,-17.6667 353.0152,-17.6667 353.0152,-20.3333 350.3485,-23 347.6818,-23\" fill=\"none\" stroke=\"#000000\"/>\n",
       "<path d=\"M349.0156,-27C349.0156,-27 313.0039,-27 313.0039,-27 309.0039,-27 305.0039,-23 305.0039,-19 305.0039,-19 305.0039,-11 305.0039,-11 305.0039,-7 309.0039,-3 313.0039,-3 313.0039,-3 349.0156,-3 349.0156,-3 353.0156,-3 357.0156,-7 357.0156,-11 357.0156,-11 357.0156,-19 357.0156,-19 357.0156,-23 353.0156,-27 349.0156,-27\" fill=\"none\" stroke=\"#000000\"/>\n",
       "<text fill=\"#000000\" font-family=\"Courier,monospace\" font-size=\"10.00\" text-anchor=\"start\" x=\"313.0068\" y=\"-12\">accept</text>\n",
       "</g>\n",
       "<!-- 2 -->\n",
       "<g class=\"node\" id=\"node4\">\n",
       "<title>2</title>\n",
       "<path d=\"M253.8405,-59C253.8405,-59 249.1732,-59 249.1732,-59 246.8395,-59 244.5059,-56.6663 244.5059,-54.3327 244.5059,-54.3327 244.5059,-47.6673 244.5059,-47.6673 244.5059,-45.3337 246.8395,-43 249.1732,-43 249.1732,-43 253.8405,-43 253.8405,-43 256.1742,-43 258.5078,-45.3337 258.5078,-47.6673 258.5078,-47.6673 258.5078,-54.3327 258.5078,-54.3327 258.5078,-56.6663 256.1742,-59 253.8405,-59\" fill=\"none\" stroke=\"#000000\"/>\n",
       "<text fill=\"#000000\" font-family=\"Courier,monospace\" font-size=\"10.00\" text-anchor=\"middle\" x=\"251.5068\" y=\"-48\">2</text>\n",
       "</g>\n",
       "<!-- 2&#45;&gt;1 -->\n",
       "<g class=\"edge\" id=\"edge8\">\n",
       "<title>2-&gt;1</title>\n",
       "<path d=\"M258.5622,-47.8052C267.9298,-43.5634 285.0701,-35.8021 300.3274,-28.8934\" fill=\"none\" stroke=\"#000000\"/>\n",
       "<polygon fill=\"#000000\" points=\"304.9913,-26.7815 301.3646,-30.8937 302.7139,-27.8128 300.4365,-28.844 300.4365,-28.844 300.4365,-28.844 302.7139,-27.8128 299.5083,-26.7944 304.9913,-26.7815 304.9913,-26.7815\" stroke=\"#000000\"/>\n",
       "<text fill=\"#000000\" font-family=\"Courier,monospace\" font-size=\"9.00\" text-anchor=\"start\" x=\"279.9194\" y=\"-44.8\">ε</text>\n",
       "</g>\n",
       "<!-- 2&#45;&gt;2 -->\n",
       "<g class=\"edge\" id=\"edge10\">\n",
       "<title>2-&gt;2</title>\n",
       "<path d=\"M247.1178,-59.2534C244.536,-67.652 245.999,-77 251.5068,-77 255.8959,-77 257.7164,-71.0639 256.9685,-64.4025\" fill=\"none\" stroke=\"#000000\"/>\n",
       "<polygon fill=\"#000000\" points=\"255.8959,-59.2534 259.1183,-63.6895 256.4057,-61.7009 256.9156,-64.1484 256.9156,-64.1484 256.9156,-64.1484 256.4057,-61.7009 254.7129,-64.6073 255.8959,-59.2534 255.8959,-59.2534\" stroke=\"#000000\"/>\n",
       "<text fill=\"#000000\" font-family=\"Courier,monospace\" font-size=\"9.00\" text-anchor=\"start\" x=\"249.3064\" y=\"-81.3\">b</text>\n",
       "</g>\n",
       "<!-- 2&#45;&gt;4 -->\n",
       "<g class=\"edge\" id=\"edge9\">\n",
       "<title>2-&gt;4</title>\n",
       "<path d=\"M244.4105,-50.8041C228.3248,-50.355 187.8552,-49.1977 154.0059,-48 149.8275,-47.8522 145.2571,-47.6741 141.18,-47.5095\" fill=\"none\" stroke=\"#000000\"/>\n",
       "<polygon fill=\"#000000\" points=\"136.0093,-47.2974 141.0974,-45.2543 138.5072,-47.3999 141.0051,-47.5024 141.0051,-47.5024 141.0051,-47.5024 138.5072,-47.3999 140.9129,-49.7505 136.0093,-47.2974 136.0093,-47.2974\" stroke=\"#000000\"/>\n",
       "<text fill=\"#000000\" font-family=\"Courier,monospace\" font-size=\"9.00\" text-anchor=\"start\" x=\"187.8059\" y=\"-53.3\">a</text>\n",
       "</g>\n",
       "<!-- 3 -->\n",
       "<g class=\"node\" id=\"node5\">\n",
       "<title>3</title>\n",
       "<path d=\"M192.34,-16C192.34,-16 187.6727,-16 187.6727,-16 185.339,-16 183.0054,-13.6663 183.0054,-11.3327 183.0054,-11.3327 183.0054,-4.6673 183.0054,-4.6673 183.0054,-2.3337 185.339,0 187.6727,0 187.6727,0 192.34,0 192.34,0 194.6737,0 197.0073,-2.3337 197.0073,-4.6673 197.0073,-4.6673 197.0073,-11.3327 197.0073,-11.3327 197.0073,-13.6663 194.6737,-16 192.34,-16\" fill=\"none\" stroke=\"#000000\"/>\n",
       "<text fill=\"#000000\" font-family=\"Courier,monospace\" font-size=\"10.00\" text-anchor=\"middle\" x=\"190.0063\" y=\"-5\">3</text>\n",
       "</g>\n",
       "<!-- 3&#45;&gt;1 -->\n",
       "<g class=\"edge\" id=\"edge5\">\n",
       "<title>3-&gt;1</title>\n",
       "<path d=\"M197.1926,-8.3568C215.7841,-9.2797 266.3388,-11.7895 299.7115,-13.4462\" fill=\"none\" stroke=\"#000000\"/>\n",
       "<polygon fill=\"#000000\" points=\"304.9125,-13.7044 299.8071,-15.7036 302.4156,-13.5804 299.9187,-13.4564 299.9187,-13.4564 299.9187,-13.4564 302.4156,-13.5804 300.0303,-11.2092 304.9125,-13.7044 304.9125,-13.7044\" stroke=\"#000000\"/>\n",
       "<text fill=\"#000000\" font-family=\"Courier,monospace\" font-size=\"9.00\" text-anchor=\"start\" x=\"249.4194\" y=\"-17.8\">ε</text>\n",
       "</g>\n",
       "<!-- 3&#45;&gt;2 -->\n",
       "<g class=\"edge\" id=\"edge6\">\n",
       "<title>3-&gt;2</title>\n",
       "<path d=\"M197.1896,-12.9643C204.4641,-17.9973 216.0334,-26.0172 226.0068,-33 230.6678,-36.2634 235.7952,-39.8779 240.2222,-43.0065\" fill=\"none\" stroke=\"#000000\"/>\n",
       "<polygon fill=\"#000000\" points=\"244.3726,-45.9421 238.9912,-44.8917 242.3315,-44.4984 240.2905,-43.0547 240.2905,-43.0547 240.2905,-43.0547 242.3315,-44.4984 241.5898,-41.2178 244.3726,-45.9421 244.3726,-45.9421\" stroke=\"#000000\"/>\n",
       "<text fill=\"#000000\" font-family=\"Courier,monospace\" font-size=\"9.00\" text-anchor=\"start\" x=\"218.3064\" y=\"-37.3\">a</text>\n",
       "</g>\n",
       "<!-- 3&#45;&gt;4 -->\n",
       "<g class=\"edge\" id=\"edge7\">\n",
       "<title>3-&gt;4</title>\n",
       "<path d=\"M182.8642,-5.1466C175.2073,-2.5775 162.9476,.0834 154.0059,-5 143.201,-11.1426 136.5761,-24.0049 132.8851,-33.8869\" fill=\"none\" stroke=\"#000000\"/>\n",
       "<polygon fill=\"#000000\" points=\"131.2157,-38.7315 130.7175,-33.2713 132.0302,-36.3679 132.8447,-34.0043 132.8447,-34.0043 132.8447,-34.0043 132.0302,-36.3679 134.972,-34.7373 131.2157,-38.7315 131.2157,-38.7315\" stroke=\"#000000\"/>\n",
       "<text fill=\"#000000\" font-family=\"Courier,monospace\" font-size=\"9.00\" text-anchor=\"start\" x=\"157.3054\" y=\"-9.3\">b</text>\n",
       "</g>\n",
       "<!-- 4&#45;&gt;2 -->\n",
       "<g class=\"edge\" id=\"edge3\">\n",
       "<title>4-&gt;2</title>\n",
       "<path d=\"M133.6774,-55.0056C138.0477,-61.7327 145.2126,-71.0232 154.0059,-76 165.3883,-82.4422 169.9744,-79.8848 183.0059,-81 202.1761,-82.6405 208.88,-84.7671 226.0068,-76 232.043,-72.9102 237.576,-67.8971 241.934,-63.1682\" fill=\"none\" stroke=\"#000000\"/>\n",
       "<polygon fill=\"#000000\" points=\"245.3037,-59.3112 243.7084,-64.557 243.6588,-61.1939 242.014,-63.0766 242.014,-63.0766 242.014,-63.0766 243.6588,-61.1939 240.3195,-61.5963 245.3037,-59.3112 245.3037,-59.3112\" stroke=\"#000000\"/>\n",
       "<text fill=\"#000000\" font-family=\"Courier,monospace\" font-size=\"9.00\" text-anchor=\"start\" x=\"187.8059\" y=\"-86.3\">a</text>\n",
       "</g>\n",
       "<!-- 4&#45;&gt;3 -->\n",
       "<g class=\"edge\" id=\"edge4\">\n",
       "<title>4-&gt;3</title>\n",
       "<path d=\"M136.4853,-42.2178C146.9334,-35.538 165.9978,-23.3495 178.3266,-15.4672\" fill=\"none\" stroke=\"#000000\"/>\n",
       "<polygon fill=\"#000000\" points=\"182.8444,-12.5789 179.8437,-17.1679 180.7381,-13.9255 178.6318,-15.2722 178.6318,-15.2722 178.6318,-15.2722 180.7381,-13.9255 177.4198,-13.3765 182.8444,-12.5789 182.8444,-12.5789\" stroke=\"#000000\"/>\n",
       "<text fill=\"#000000\" font-family=\"Courier,monospace\" font-size=\"9.00\" text-anchor=\"start\" x=\"157.3054\" y=\"-34.3\">b</text>\n",
       "</g>\n",
       "</g>\n",
       "</svg>"
      ],
      "text/plain": [
       "<IPython.core.display.SVG object>"
      ]
     },
     "metadata": {},
     "output_type": "display_data"
    },
    {
     "data": {
      "text/html": [
       "eliminate 3"
      ],
      "text/plain": [
       "<IPython.core.display.HTML object>"
      ]
     },
     "metadata": {},
     "output_type": "display_data"
    },
    {
     "data": {
      "image/svg+xml": [
       "<svg height=\"86pt\" viewBox=\"0.00 0.00 327.01 86.00\" width=\"327pt\" xmlns=\"http://www.w3.org/2000/svg\" xmlns:xlink=\"http://www.w3.org/1999/xlink\">\n",
       "<g class=\"graph\" id=\"graph0\" transform=\"scale(1 1) rotate(0) translate(4 82)\">\n",
       "<title>%3</title>\n",
       "<polygon fill=\"#ffffff\" points=\"-4,4 -4,-82 323.0107,-82 323.0107,4 -4,4\" stroke=\"transparent\"/>\n",
       "<!-- _START -->\n",
       "<g class=\"node\" id=\"node1\">\n",
       "<title>_START</title>\n",
       "</g>\n",
       "<!-- 0 -->\n",
       "<g class=\"node\" id=\"node2\">\n",
       "<title>0</title>\n",
       "<path d=\"M70.674,-37C70.674,-37 43.3309,-37 43.3309,-37 40.6642,-37 37.9976,-34.3333 37.9976,-31.6667 37.9976,-31.6667 37.9976,-26.3333 37.9976,-26.3333 37.9976,-23.6667 40.6642,-21 43.3309,-21 43.3309,-21 70.674,-21 70.674,-21 73.3407,-21 76.0073,-23.6667 76.0073,-26.3333 76.0073,-26.3333 76.0073,-31.6667 76.0073,-31.6667 76.0073,-34.3333 73.3407,-37 70.674,-37\" fill=\"none\" stroke=\"#000000\"/>\n",
       "<text fill=\"#000000\" font-family=\"Courier,monospace\" font-size=\"10.00\" text-anchor=\"start\" x=\"42\" y=\"-26\">start</text>\n",
       "</g>\n",
       "<!-- _START&#45;&gt;0 -->\n",
       "<g class=\"edge\" id=\"edge1\">\n",
       "<title>_START-&gt;0</title>\n",
       "<path d=\"M1.1345,-29C4.3241,-29 18.9859,-29 32.4885,-29\" fill=\"none\" stroke=\"#000000\"/>\n",
       "<polygon fill=\"#000000\" points=\"37.7747,-29 32.7748,-31.2501 35.2747,-29 32.7747,-29.0001 32.7747,-29.0001 32.7747,-29.0001 35.2747,-29 32.7747,-26.7501 37.7747,-29 37.7747,-29\" stroke=\"#000000\"/>\n",
       "</g>\n",
       "<!-- 3 -->\n",
       "<g class=\"node\" id=\"node5\">\n",
       "<title>3</title>\n",
       "<path d=\"M131.8385,-37C131.8385,-37 127.1712,-37 127.1712,-37 124.8376,-37 122.5039,-34.6663 122.5039,-32.3327 122.5039,-32.3327 122.5039,-25.6673 122.5039,-25.6673 122.5039,-23.3337 124.8376,-21 127.1712,-21 127.1712,-21 131.8385,-21 131.8385,-21 134.1722,-21 136.5059,-23.3337 136.5059,-25.6673 136.5059,-25.6673 136.5059,-32.3327 136.5059,-32.3327 136.5059,-34.6663 134.1722,-37 131.8385,-37\" fill=\"none\" stroke=\"#000000\"/>\n",
       "<text fill=\"#000000\" font-family=\"Courier,monospace\" font-size=\"10.00\" text-anchor=\"middle\" x=\"129.5049\" y=\"-26\">1</text>\n",
       "</g>\n",
       "<!-- 0&#45;&gt;3 -->\n",
       "<g class=\"edge\" id=\"edge2\">\n",
       "<title>0-&gt;3</title>\n",
       "<path d=\"M76.0516,-29C89.0316,-29 105.8419,-29 117.1145,-29\" fill=\"none\" stroke=\"#000000\"/>\n",
       "<polygon fill=\"#000000\" points=\"122.1624,-29 117.1624,-31.2501 119.6624,-29 117.1624,-29.0001 117.1624,-29.0001 117.1624,-29.0001 119.6624,-29 117.1623,-26.7501 122.1624,-29 122.1624,-29\" stroke=\"#000000\"/>\n",
       "<text fill=\"#000000\" font-family=\"Courier,monospace\" font-size=\"9.00\" text-anchor=\"start\" x=\"96.9175\" y=\"-34.8\">ε</text>\n",
       "</g>\n",
       "<!-- 1 -->\n",
       "<g class=\"node\" id=\"node3\">\n",
       "<title>1</title>\n",
       "<path d=\"M309.6799,-20C309.6799,-20 276.3357,-20 276.3357,-20 273.6691,-20 271.0024,-17.3333 271.0024,-14.6667 271.0024,-14.6667 271.0024,-9.3333 271.0024,-9.3333 271.0024,-6.6667 273.6691,-4 276.3357,-4 276.3357,-4 309.6799,-4 309.6799,-4 312.3466,-4 315.0132,-6.6667 315.0132,-9.3333 315.0132,-9.3333 315.0132,-14.6667 315.0132,-14.6667 315.0132,-17.3333 312.3466,-20 309.6799,-20\" fill=\"none\" stroke=\"#000000\"/>\n",
       "<path d=\"M311.0137,-24C311.0137,-24 275.002,-24 275.002,-24 271.002,-24 267.002,-20 267.002,-16 267.002,-16 267.002,-8 267.002,-8 267.002,-4 271.002,0 275.002,0 275.002,0 311.0137,0 311.0137,0 315.0137,0 319.0137,-4 319.0137,-8 319.0137,-8 319.0137,-16 319.0137,-16 319.0137,-20 315.0137,-24 311.0137,-24\" fill=\"none\" stroke=\"#000000\"/>\n",
       "<text fill=\"#000000\" font-family=\"Courier,monospace\" font-size=\"10.00\" text-anchor=\"start\" x=\"275.0049\" y=\"-9\">accept</text>\n",
       "</g>\n",
       "<!-- 2 -->\n",
       "<g class=\"node\" id=\"node4\">\n",
       "<title>2</title>\n",
       "<path d=\"M215.8385,-45C215.8385,-45 211.1712,-45 211.1712,-45 208.8376,-45 206.5039,-42.6663 206.5039,-40.3327 206.5039,-40.3327 206.5039,-33.6673 206.5039,-33.6673 206.5039,-31.3337 208.8376,-29 211.1712,-29 211.1712,-29 215.8385,-29 215.8385,-29 218.1722,-29 220.5059,-31.3337 220.5059,-33.6673 220.5059,-33.6673 220.5059,-40.3327 220.5059,-40.3327 220.5059,-42.6663 218.1722,-45 215.8385,-45\" fill=\"none\" stroke=\"#000000\"/>\n",
       "<text fill=\"#000000\" font-family=\"Courier,monospace\" font-size=\"10.00\" text-anchor=\"middle\" x=\"213.5049\" y=\"-34\">2</text>\n",
       "</g>\n",
       "<!-- 2&#45;&gt;1 -->\n",
       "<g class=\"edge\" id=\"edge6\">\n",
       "<title>2-&gt;1</title>\n",
       "<path d=\"M220.5602,-34.7814C229.8471,-31.8611 246.7732,-26.5387 261.9304,-21.7724\" fill=\"none\" stroke=\"#000000\"/>\n",
       "<polygon fill=\"#000000\" points=\"266.9893,-20.1816 262.8946,-23.8279 264.6045,-20.9316 262.2196,-21.6815 262.2196,-21.6815 262.2196,-21.6815 264.6045,-20.9316 261.5446,-19.5352 266.9893,-20.1816 266.9893,-20.1816\" stroke=\"#000000\"/>\n",
       "<text fill=\"#000000\" font-family=\"Courier,monospace\" font-size=\"9.00\" text-anchor=\"start\" x=\"241.9175\" y=\"-33.8\">ε</text>\n",
       "</g>\n",
       "<!-- 2&#45;&gt;2 -->\n",
       "<g class=\"edge\" id=\"edge8\">\n",
       "<title>2-&gt;2</title>\n",
       "<path d=\"M209.1158,-45.2534C206.5341,-53.652 207.9971,-63 213.5049,-63 217.8939,-63 219.7145,-57.0639 218.9665,-50.4025\" fill=\"none\" stroke=\"#000000\"/>\n",
       "<polygon fill=\"#000000\" points=\"217.8939,-45.2534 221.1164,-49.6895 218.4038,-47.7009 218.9137,-50.1484 218.9137,-50.1484 218.9137,-50.1484 218.4038,-47.7009 216.7109,-50.6073 217.8939,-45.2534 217.8939,-45.2534\" stroke=\"#000000\"/>\n",
       "<text fill=\"#000000\" font-family=\"Courier,monospace\" font-size=\"9.00\" text-anchor=\"start\" x=\"211.3044\" y=\"-67.3\">b</text>\n",
       "</g>\n",
       "<!-- 2&#45;&gt;3 -->\n",
       "<g class=\"edge\" id=\"edge7\">\n",
       "<title>2-&gt;3</title>\n",
       "<path d=\"M206.1817,-32.889C201.222,-30.3476 194.4265,-27.326 188.0049,-26 172.286,-22.7542 153.7136,-24.6509 141.7808,-26.5829\" fill=\"none\" stroke=\"#000000\"/>\n",
       "<polygon fill=\"#000000\" points=\"136.7995,-27.4547 141.3367,-24.3763 139.2621,-27.0236 141.7246,-26.5926 141.7246,-26.5926 141.7246,-26.5926 139.2621,-27.0236 142.1126,-28.8089 136.7995,-27.4547 136.7995,-27.4547\" stroke=\"#000000\"/>\n",
       "<text fill=\"#000000\" font-family=\"Courier,monospace\" font-size=\"9.00\" text-anchor=\"start\" x=\"169.3044\" y=\"-30.3\">a</text>\n",
       "</g>\n",
       "<!-- 3&#45;&gt;1 -->\n",
       "<g class=\"edge\" id=\"edge3\">\n",
       "<title>3-&gt;1</title>\n",
       "<path d=\"M136.6149,-26.3763C141.7109,-24.5239 148.7509,-22.0218 155.0049,-20 177.4861,-12.7324 182.6194,-8.3677 206.0049,-5 212.6035,-4.0497 214.346,-4.6771 221.0049,-5 234.2866,-5.6441 248.898,-6.9527 261.4675,-8.2661\" fill=\"none\" stroke=\"#000000\"/>\n",
       "<polygon fill=\"#000000\" points=\"266.7196,-8.8273 261.5088,-10.5332 264.2337,-8.5616 261.7479,-8.2959 261.7479,-8.2959 261.7479,-8.2959 264.2337,-8.5616 261.987,-6.0587 266.7196,-8.8273 266.7196,-8.8273\" stroke=\"#000000\"/>\n",
       "<text fill=\"#000000\" font-family=\"Courier,monospace\" font-size=\"9.00\" text-anchor=\"start\" x=\"211.3044\" y=\"-9.3\">b</text>\n",
       "</g>\n",
       "<!-- 3&#45;&gt;2 -->\n",
       "<g class=\"edge\" id=\"edge4\">\n",
       "<title>3-&gt;2</title>\n",
       "<path d=\"M136.5585,-34.9553C141.4043,-38.6417 148.1742,-43.0345 155.0049,-45 170.5526,-49.4738 189.1649,-45.3906 201.1534,-41.6009\" fill=\"none\" stroke=\"#000000\"/>\n",
       "<polygon fill=\"#000000\" points=\"206.1608,-39.9121 202.142,-43.6421 203.7919,-40.7111 201.423,-41.51 201.423,-41.51 201.423,-41.51 203.7919,-40.7111 200.7039,-39.378 206.1608,-39.9121 206.1608,-39.9121\" stroke=\"#000000\"/>\n",
       "<text fill=\"#000000\" font-family=\"Courier,monospace\" font-size=\"9.00\" text-anchor=\"start\" x=\"158.5027\" y=\"-50.3\">a|b a</text>\n",
       "</g>\n",
       "<!-- 3&#45;&gt;3 -->\n",
       "<g class=\"edge\" id=\"edge5\">\n",
       "<title>3-&gt;3</title>\n",
       "<path d=\"M125.1158,-37.2534C122.5341,-45.652 123.9971,-55 129.5049,-55 133.8939,-55 135.7145,-49.0639 134.9665,-42.4025\" fill=\"none\" stroke=\"#000000\"/>\n",
       "<polygon fill=\"#000000\" points=\"133.8939,-37.2534 137.1164,-41.6895 134.4038,-39.7009 134.9137,-42.1484 134.9137,-42.1484 134.9137,-42.1484 134.4038,-39.7009 132.7109,-42.6073 133.8939,-37.2534 133.8939,-37.2534\" stroke=\"#000000\"/>\n",
       "<text fill=\"#000000\" font-family=\"Courier,monospace\" font-size=\"9.00\" text-anchor=\"start\" x=\"121.4036\" y=\"-59.3\">b b</text>\n",
       "</g>\n",
       "</g>\n",
       "</svg>"
      ],
      "text/plain": [
       "<IPython.core.display.SVG object>"
      ]
     },
     "metadata": {},
     "output_type": "display_data"
    },
    {
     "data": {
      "text/html": [
       "eliminate 2"
      ],
      "text/plain": [
       "<IPython.core.display.HTML object>"
      ]
     },
     "metadata": {},
     "output_type": "display_data"
    },
    {
     "data": {
      "image/svg+xml": [
       "<svg height=\"61pt\" viewBox=\"0.00 0.00 303.01 61.00\" width=\"303pt\" xmlns=\"http://www.w3.org/2000/svg\" xmlns:xlink=\"http://www.w3.org/1999/xlink\">\n",
       "<g class=\"graph\" id=\"graph0\" transform=\"scale(1 1) rotate(0) translate(4 57)\">\n",
       "<title>%3</title>\n",
       "<polygon fill=\"#ffffff\" points=\"-4,4 -4,-57 299.0107,-57 299.0107,4 -4,4\" stroke=\"transparent\"/>\n",
       "<!-- _START -->\n",
       "<g class=\"node\" id=\"node1\">\n",
       "<title>_START</title>\n",
       "</g>\n",
       "<!-- 0 -->\n",
       "<g class=\"node\" id=\"node2\">\n",
       "<title>0</title>\n",
       "<path d=\"M70.674,-20C70.674,-20 43.3309,-20 43.3309,-20 40.6642,-20 37.9976,-17.3333 37.9976,-14.6667 37.9976,-14.6667 37.9976,-9.3333 37.9976,-9.3333 37.9976,-6.6667 40.6642,-4 43.3309,-4 43.3309,-4 70.674,-4 70.674,-4 73.3407,-4 76.0073,-6.6667 76.0073,-9.3333 76.0073,-9.3333 76.0073,-14.6667 76.0073,-14.6667 76.0073,-17.3333 73.3407,-20 70.674,-20\" fill=\"none\" stroke=\"#000000\"/>\n",
       "<text fill=\"#000000\" font-family=\"Courier,monospace\" font-size=\"10.00\" text-anchor=\"start\" x=\"42\" y=\"-9\">start</text>\n",
       "</g>\n",
       "<!-- _START&#45;&gt;0 -->\n",
       "<g class=\"edge\" id=\"edge1\">\n",
       "<title>_START-&gt;0</title>\n",
       "<path d=\"M1.1345,-12C4.3241,-12 18.9859,-12 32.4885,-12\" fill=\"none\" stroke=\"#000000\"/>\n",
       "<polygon fill=\"#000000\" points=\"37.7747,-12 32.7748,-14.2501 35.2747,-12 32.7747,-12.0001 32.7747,-12.0001 32.7747,-12.0001 35.2747,-12 32.7747,-9.7501 37.7747,-12 37.7747,-12\" stroke=\"#000000\"/>\n",
       "</g>\n",
       "<!-- 2 -->\n",
       "<g class=\"node\" id=\"node4\">\n",
       "<title>2</title>\n",
       "<path d=\"M131.8385,-20C131.8385,-20 127.1712,-20 127.1712,-20 124.8376,-20 122.5039,-17.6663 122.5039,-15.3327 122.5039,-15.3327 122.5039,-8.6673 122.5039,-8.6673 122.5039,-6.3337 124.8376,-4 127.1712,-4 127.1712,-4 131.8385,-4 131.8385,-4 134.1722,-4 136.5059,-6.3337 136.5059,-8.6673 136.5059,-8.6673 136.5059,-15.3327 136.5059,-15.3327 136.5059,-17.6663 134.1722,-20 131.8385,-20\" fill=\"none\" stroke=\"#000000\"/>\n",
       "<text fill=\"#000000\" font-family=\"Courier,monospace\" font-size=\"10.00\" text-anchor=\"middle\" x=\"129.5049\" y=\"-9\">1</text>\n",
       "</g>\n",
       "<!-- 0&#45;&gt;2 -->\n",
       "<g class=\"edge\" id=\"edge2\">\n",
       "<title>0-&gt;2</title>\n",
       "<path d=\"M76.0516,-12C89.0316,-12 105.8419,-12 117.1145,-12\" fill=\"none\" stroke=\"#000000\"/>\n",
       "<polygon fill=\"#000000\" points=\"122.1624,-12 117.1624,-14.2501 119.6624,-12 117.1624,-12.0001 117.1624,-12.0001 117.1624,-12.0001 119.6624,-12 117.1623,-9.7501 122.1624,-12 122.1624,-12\" stroke=\"#000000\"/>\n",
       "<text fill=\"#000000\" font-family=\"Courier,monospace\" font-size=\"9.00\" text-anchor=\"start\" x=\"96.9175\" y=\"-17.8\">ε</text>\n",
       "</g>\n",
       "<!-- 1 -->\n",
       "<g class=\"node\" id=\"node3\">\n",
       "<title>1</title>\n",
       "<path d=\"M285.6799,-20C285.6799,-20 252.3357,-20 252.3357,-20 249.6691,-20 247.0024,-17.3333 247.0024,-14.6667 247.0024,-14.6667 247.0024,-9.3333 247.0024,-9.3333 247.0024,-6.6667 249.6691,-4 252.3357,-4 252.3357,-4 285.6799,-4 285.6799,-4 288.3466,-4 291.0132,-6.6667 291.0132,-9.3333 291.0132,-9.3333 291.0132,-14.6667 291.0132,-14.6667 291.0132,-17.3333 288.3466,-20 285.6799,-20\" fill=\"none\" stroke=\"#000000\"/>\n",
       "<path d=\"M287.0137,-24C287.0137,-24 251.002,-24 251.002,-24 247.002,-24 243.002,-20 243.002,-16 243.002,-16 243.002,-8 243.002,-8 243.002,-4 247.002,0 251.002,0 251.002,0 287.0137,0 287.0137,0 291.0137,0 295.0137,-4 295.0137,-8 295.0137,-8 295.0137,-16 295.0137,-16 295.0137,-20 291.0137,-24 287.0137,-24\" fill=\"none\" stroke=\"#000000\"/>\n",
       "<text fill=\"#000000\" font-family=\"Courier,monospace\" font-size=\"10.00\" text-anchor=\"start\" x=\"251.0049\" y=\"-9\">accept</text>\n",
       "</g>\n",
       "<!-- 2&#45;&gt;1 -->\n",
       "<g class=\"edge\" id=\"edge3\">\n",
       "<title>2-&gt;1</title>\n",
       "<path d=\"M136.6146,-12C154.9556,-12 204.7387,-12 237.7583,-12\" fill=\"none\" stroke=\"#000000\"/>\n",
       "<polygon fill=\"#000000\" points=\"242.9065,-12 237.9065,-14.2501 240.4065,-12 237.9065,-12.0001 237.9065,-12.0001 237.9065,-12.0001 240.4065,-12 237.9064,-9.7501 242.9065,-12 242.9065,-12\" stroke=\"#000000\"/>\n",
       "<text fill=\"#000000\" font-family=\"Courier,monospace\" font-size=\"9.00\" text-anchor=\"start\" x=\"157.5996\" y=\"-16.3\">b|(a|b a) b*</text>\n",
       "</g>\n",
       "<!-- 2&#45;&gt;2 -->\n",
       "<g class=\"edge\" id=\"edge4\">\n",
       "<title>2-&gt;2</title>\n",
       "<path d=\"M125.1158,-20.2534C122.5341,-28.652 123.9971,-38 129.5049,-38 133.8939,-38 135.7145,-32.0639 134.9665,-25.4025\" fill=\"none\" stroke=\"#000000\"/>\n",
       "<polygon fill=\"#000000\" points=\"133.8939,-20.2534 137.1164,-24.6895 134.4038,-22.7009 134.9137,-25.1484 134.9137,-25.1484 134.9137,-25.1484 134.4038,-22.7009 132.7109,-25.6073 133.8939,-20.2534 133.8939,-20.2534\" stroke=\"#000000\"/>\n",
       "<text fill=\"#000000\" font-family=\"Courier,monospace\" font-size=\"9.00\" text-anchor=\"start\" x=\"86.2979\" y=\"-42.3\">b b|(a|b a) b* a</text>\n",
       "</g>\n",
       "</g>\n",
       "</svg>"
      ],
      "text/plain": [
       "<IPython.core.display.SVG object>"
      ]
     },
     "metadata": {},
     "output_type": "display_data"
    },
    {
     "data": {
      "text/html": [
       "eliminate 1"
      ],
      "text/plain": [
       "<IPython.core.display.HTML object>"
      ]
     },
     "metadata": {},
     "output_type": "display_data"
    },
    {
     "data": {
      "image/svg+xml": [
       "<svg height=\"35pt\" viewBox=\"0.00 0.00 361.01 35.00\" width=\"361pt\" xmlns=\"http://www.w3.org/2000/svg\" xmlns:xlink=\"http://www.w3.org/1999/xlink\">\n",
       "<g class=\"graph\" id=\"graph0\" transform=\"scale(1 1) rotate(0) translate(4 31)\">\n",
       "<title>%3</title>\n",
       "<polygon fill=\"#ffffff\" points=\"-4,4 -4,-31 357.0107,-31 357.0107,4 -4,4\" stroke=\"transparent\"/>\n",
       "<!-- _START -->\n",
       "<g class=\"node\" id=\"node1\">\n",
       "<title>_START</title>\n",
       "</g>\n",
       "<!-- 0 -->\n",
       "<g class=\"node\" id=\"node2\">\n",
       "<title>0</title>\n",
       "<path d=\"M70.674,-20C70.674,-20 43.3309,-20 43.3309,-20 40.6642,-20 37.9976,-17.3333 37.9976,-14.6667 37.9976,-14.6667 37.9976,-9.3333 37.9976,-9.3333 37.9976,-6.6667 40.6642,-4 43.3309,-4 43.3309,-4 70.674,-4 70.674,-4 73.3407,-4 76.0073,-6.6667 76.0073,-9.3333 76.0073,-9.3333 76.0073,-14.6667 76.0073,-14.6667 76.0073,-17.3333 73.3407,-20 70.674,-20\" fill=\"none\" stroke=\"#000000\"/>\n",
       "<text fill=\"#000000\" font-family=\"Courier,monospace\" font-size=\"10.00\" text-anchor=\"start\" x=\"42\" y=\"-9\">start</text>\n",
       "</g>\n",
       "<!-- _START&#45;&gt;0 -->\n",
       "<g class=\"edge\" id=\"edge1\">\n",
       "<title>_START-&gt;0</title>\n",
       "<path d=\"M1.1345,-12C4.3241,-12 18.9859,-12 32.4885,-12\" fill=\"none\" stroke=\"#000000\"/>\n",
       "<polygon fill=\"#000000\" points=\"37.7747,-12 32.7748,-14.2501 35.2747,-12 32.7747,-12.0001 32.7747,-12.0001 32.7747,-12.0001 35.2747,-12 32.7747,-9.7501 37.7747,-12 37.7747,-12\" stroke=\"#000000\"/>\n",
       "</g>\n",
       "<!-- 1 -->\n",
       "<g class=\"node\" id=\"node3\">\n",
       "<title>1</title>\n",
       "<path d=\"M343.6799,-20C343.6799,-20 310.3357,-20 310.3357,-20 307.6691,-20 305.0024,-17.3333 305.0024,-14.6667 305.0024,-14.6667 305.0024,-9.3333 305.0024,-9.3333 305.0024,-6.6667 307.6691,-4 310.3357,-4 310.3357,-4 343.6799,-4 343.6799,-4 346.3466,-4 349.0132,-6.6667 349.0132,-9.3333 349.0132,-9.3333 349.0132,-14.6667 349.0132,-14.6667 349.0132,-17.3333 346.3466,-20 343.6799,-20\" fill=\"none\" stroke=\"#000000\"/>\n",
       "<path d=\"M345.0137,-24C345.0137,-24 309.002,-24 309.002,-24 305.002,-24 301.002,-20 301.002,-16 301.002,-16 301.002,-8 301.002,-8 301.002,-4 305.002,0 309.002,0 309.002,0 345.0137,0 345.0137,0 349.0137,0 353.0137,-4 353.0137,-8 353.0137,-8 353.0137,-16 353.0137,-16 353.0137,-20 349.0137,-24 345.0137,-24\" fill=\"none\" stroke=\"#000000\"/>\n",
       "<text fill=\"#000000\" font-family=\"Courier,monospace\" font-size=\"10.00\" text-anchor=\"start\" x=\"309.0049\" y=\"-9\">accept</text>\n",
       "</g>\n",
       "<!-- 0&#45;&gt;1 -->\n",
       "<g class=\"edge\" id=\"edge2\">\n",
       "<title>0-&gt;1</title>\n",
       "<path d=\"M76.4206,-12C122.5733,-12 239.1766,-12 295.5418,-12\" fill=\"none\" stroke=\"#000000\"/>\n",
       "<polygon fill=\"#000000\" points=\"300.8041,-12 295.8041,-14.2501 298.3041,-12 295.8041,-12.0001 295.8041,-12.0001 295.8041,-12.0001 298.3041,-12 295.804,-9.7501 300.8041,-12 300.8041,-12\" stroke=\"#000000\"/>\n",
       "<text fill=\"#000000\" font-family=\"Courier,monospace\" font-size=\"9.00\" text-anchor=\"start\" x=\"97.1899\" y=\"-16.3\">(b b|(a|b a) b* a)* (b|(a|b a) b*)</text>\n",
       "</g>\n",
       "</g>\n",
       "</svg>"
      ],
      "text/plain": [
       "<IPython.core.display.SVG object>"
      ]
     },
     "metadata": {},
     "output_type": "display_data"
    },
    {
     "data": {
      "text/html": [
       "(b b|(a|b a) b* a)* (b|(a|b a) b*)"
      ],
      "text/plain": [
       "<tock.regexps.RegularExpression at 0x10a28ac50>"
      ]
     },
     "execution_count": 9,
     "metadata": {},
     "output_type": "execute_result"
    }
   ],
   "source": [
    "to_regexp(m68, display_steps=True)"
   ]
  },
  {
   "cell_type": "markdown",
   "metadata": {},
   "source": [
    "(The answer is different from the book's because the elimination order was different.)"
   ]
  }
 ],
 "metadata": {
  "kernelspec": {
   "display_name": "Python 3",
   "language": "python",
   "name": "python3"
  },
  "language_info": {
   "codemirror_mode": {
    "name": "ipython",
    "version": 3
   },
   "file_extension": ".py",
   "mimetype": "text/x-python",
   "name": "python",
   "nbconvert_exporter": "python",
   "pygments_lexer": "ipython3",
   "version": "3.5.2"
  }
 },
 "nbformat": 4,
 "nbformat_minor": 0
}
